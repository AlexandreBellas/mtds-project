{
 "cells": [
  {
   "cell_type": "markdown",
   "id": "2039853b",
   "metadata": {},
   "source": [
    "## Following parameters are set in the simulations\n",
    "- P = number of people\n",
    "- V = number of vehicles\n",
    "- W, L = width and length of the (rectangular) region where individuals move (in meters)\n",
    "- Np = level of noise (dB) produced by each person\n",
    "- Nv = level of noise (dB) produced by each vehicle\n",
    "- Dp = distance (side of the square area, in meters) affected by the presence of a person\n",
    "- Dv = distance (side of the square area, in meters) affected by the presence of a vehicle\n",
    "- Vp = moving speed for an individual\n",
    "- Vv = moving speed for a vehicle\n",
    "- t = time step (in seconds): the simulation recomputes the position of people and vehicle, and the level of noise of each square meter in the region with a temporal granularity of t (simulated) seconds"
   ]
  },
  {
   "cell_type": "code",
   "execution_count": 477,
   "id": "70e58f90",
   "metadata": {},
   "outputs": [],
   "source": [
    "## Parameters all in meter\n",
    "number_of_people = 1000\n",
    "number_of_vehicles = 1000\n",
    "area_of_movemenet = 1000\n",
    "noise_level_people = 50\n",
    "noise_level_vehicles = 70\n",
    "affected_area_by_people = 10\n",
    "affected_area_by_vehicles = 20\n",
    "moving_speed_people = 8 # km/h\n",
    "moving_speed_vehicles = 50 #km/h"
   ]
  },
  {
   "cell_type": "code",
   "execution_count": 478,
   "id": "1c887603",
   "metadata": {},
   "outputs": [
    {
     "name": "stdout",
     "output_type": "stream",
     "text": [
      "The line_profiler extension is already loaded. To reload it, use:\n",
      "  %reload_ext line_profiler\n"
     ]
    }
   ],
   "source": [
    "import numpy as np\n",
    "import googlemaps\n",
    "import random\n",
    "import pandas as pd\n",
    "import geopandas as geopd\n",
    "import movingpandas as mpd\n",
    "from shapely.geometry import Point, LineString, Polygon, box, mapping\n",
    "from datetime import datetime\n",
    "from pyproj import CRS\n",
    "from datetime import datetime\n",
    "import math\n",
    "from functools import reduce, partial\n",
    "import h3pandas as h3\n",
    "import h3\n",
    "%load_ext line_profiler\n"
   ]
  },
  {
   "cell_type": "code",
   "execution_count": 479,
   "id": "04781bd9",
   "metadata": {},
   "outputs": [
    {
     "name": "stdout",
     "output_type": "stream",
     "text": [
      "CPU times: user 574 ms, sys: 55.1 ms, total: 629 ms\n",
      "Wall time: 718 ms\n"
     ]
    }
   ],
   "source": [
    "%%time\n",
    "## loading geojson of the german map and its regions\n",
    "import os\n",
    "fname = \"2_hoch.geojson.json\"\n",
    "file = open(fname)\n",
    "df = geopd.read_file(file)\n",
    "gdf = geopd.GeoDataFrame(df)\n",
    "gdf = gdf.to_crs(epsg=3763)\n"
   ]
  },
  {
   "cell_type": "code",
   "execution_count": 480,
   "id": "d4ddcc8f",
   "metadata": {},
   "outputs": [
    {
     "data": {
      "text/html": [
       "<div>\n",
       "<style scoped>\n",
       "    .dataframe tbody tr th:only-of-type {\n",
       "        vertical-align: middle;\n",
       "    }\n",
       "\n",
       "    .dataframe tbody tr th {\n",
       "        vertical-align: top;\n",
       "    }\n",
       "\n",
       "    .dataframe thead th {\n",
       "        text-align: right;\n",
       "    }\n",
       "</style>\n",
       "<table border=\"1\" class=\"dataframe\">\n",
       "  <thead>\n",
       "    <tr style=\"text-align: right;\">\n",
       "      <th></th>\n",
       "      <th>ID_0</th>\n",
       "      <th>ISO</th>\n",
       "      <th>NAME_0</th>\n",
       "      <th>ID_1</th>\n",
       "      <th>NAME_1</th>\n",
       "      <th>ID_2</th>\n",
       "      <th>NAME_2</th>\n",
       "      <th>ID_3</th>\n",
       "      <th>NAME_3</th>\n",
       "      <th>NL_NAME_3</th>\n",
       "      <th>VARNAME_3</th>\n",
       "      <th>TYPE_3</th>\n",
       "      <th>ENGTYPE_3</th>\n",
       "      <th>geometry</th>\n",
       "      <th>area_size</th>\n",
       "    </tr>\n",
       "  </thead>\n",
       "  <tbody>\n",
       "    <tr>\n",
       "      <th>153</th>\n",
       "      <td>86</td>\n",
       "      <td>DEU</td>\n",
       "      <td>Germany</td>\n",
       "      <td>2</td>\n",
       "      <td>Bayern</td>\n",
       "      <td>11</td>\n",
       "      <td>Unterfranken</td>\n",
       "      <td>137</td>\n",
       "      <td>Schweinfurt Städte</td>\n",
       "      <td>None</td>\n",
       "      <td>None</td>\n",
       "      <td>Kreisfreie Städte</td>\n",
       "      <td>Urban district</td>\n",
       "      <td>POLYGON ((1310704.438 1321023.112, 1310923.412...</td>\n",
       "      <td>3.807898e+07</td>\n",
       "    </tr>\n",
       "    <tr>\n",
       "      <th>103</th>\n",
       "      <td>86</td>\n",
       "      <td>DEU</td>\n",
       "      <td>Germany</td>\n",
       "      <td>2</td>\n",
       "      <td>Bayern</td>\n",
       "      <td>7</td>\n",
       "      <td>Oberbayern</td>\n",
       "      <td>87</td>\n",
       "      <td>Rosenheim Städte</td>\n",
       "      <td>None</td>\n",
       "      <td>None</td>\n",
       "      <td>Kreisfreie Städte</td>\n",
       "      <td>Urban district</td>\n",
       "      <td>POLYGON ((1512728.210 1114790.395, 1513376.355...</td>\n",
       "      <td>3.962358e+07</td>\n",
       "    </tr>\n",
       "    <tr>\n",
       "      <th>71</th>\n",
       "      <td>86</td>\n",
       "      <td>DEU</td>\n",
       "      <td>Germany</td>\n",
       "      <td>2</td>\n",
       "      <td>Bayern</td>\n",
       "      <td>5</td>\n",
       "      <td>Mittelfranken</td>\n",
       "      <td>55</td>\n",
       "      <td>Schwabach Städte</td>\n",
       "      <td>None</td>\n",
       "      <td>None</td>\n",
       "      <td>Kreisfreie Städte</td>\n",
       "      <td>Urban district</td>\n",
       "      <td>POLYGON ((1392408.589 1254075.975, 1392926.587...</td>\n",
       "      <td>4.218242e+07</td>\n",
       "    </tr>\n",
       "    <tr>\n",
       "      <th>219</th>\n",
       "      <td>86</td>\n",
       "      <td>DEU</td>\n",
       "      <td>Germany</td>\n",
       "      <td>8</td>\n",
       "      <td>Mecklenburg-Vorpommern</td>\n",
       "      <td>19</td>\n",
       "      <td>Mecklenburg-Vorpommern</td>\n",
       "      <td>203</td>\n",
       "      <td>Stralsund Städte</td>\n",
       "      <td>None</td>\n",
       "      <td>None</td>\n",
       "      <td>Kreisfreie Städte</td>\n",
       "      <td>Urban district</td>\n",
       "      <td>POLYGON ((1368585.450 1841422.546, 1368890.083...</td>\n",
       "      <td>4.276265e+07</td>\n",
       "    </tr>\n",
       "    <tr>\n",
       "      <th>137</th>\n",
       "      <td>86</td>\n",
       "      <td>DEU</td>\n",
       "      <td>Germany</td>\n",
       "      <td>2</td>\n",
       "      <td>Bayern</td>\n",
       "      <td>10</td>\n",
       "      <td>Schwaben</td>\n",
       "      <td>121</td>\n",
       "      <td>Kaufbeuren Städte</td>\n",
       "      <td>None</td>\n",
       "      <td>None</td>\n",
       "      <td>Kreisfreie Städte</td>\n",
       "      <td>Urban district</td>\n",
       "      <td>POLYGON ((1400985.334 1090149.755, 1401193.429...</td>\n",
       "      <td>4.304720e+07</td>\n",
       "    </tr>\n",
       "    <tr>\n",
       "      <th>...</th>\n",
       "      <td>...</td>\n",
       "      <td>...</td>\n",
       "      <td>...</td>\n",
       "      <td>...</td>\n",
       "      <td>...</td>\n",
       "      <td>...</td>\n",
       "      <td>...</td>\n",
       "      <td>...</td>\n",
       "      <td>...</td>\n",
       "      <td>...</td>\n",
       "      <td>...</td>\n",
       "      <td>...</td>\n",
       "      <td>...</td>\n",
       "      <td>...</td>\n",
       "      <td>...</td>\n",
       "    </tr>\n",
       "    <tr>\n",
       "      <th>208</th>\n",
       "      <td>86</td>\n",
       "      <td>DEU</td>\n",
       "      <td>Germany</td>\n",
       "      <td>8</td>\n",
       "      <td>Mecklenburg-Vorpommern</td>\n",
       "      <td>19</td>\n",
       "      <td>Mecklenburg-Vorpommern</td>\n",
       "      <td>192</td>\n",
       "      <td>Ludwigslust</td>\n",
       "      <td>None</td>\n",
       "      <td>None</td>\n",
       "      <td>Landkreise</td>\n",
       "      <td>Rural district</td>\n",
       "      <td>POLYGON ((1254742.289 1725448.049, 1256102.669...</td>\n",
       "      <td>2.632941e+09</td>\n",
       "    </tr>\n",
       "    <tr>\n",
       "      <th>169</th>\n",
       "      <td>86</td>\n",
       "      <td>DEU</td>\n",
       "      <td>Germany</td>\n",
       "      <td>4</td>\n",
       "      <td>Brandenburg</td>\n",
       "      <td>13</td>\n",
       "      <td>Brandenburg</td>\n",
       "      <td>153</td>\n",
       "      <td>Ostprignitz-Ruppin</td>\n",
       "      <td>None</td>\n",
       "      <td>None</td>\n",
       "      <td>Landkreise</td>\n",
       "      <td>Rural district</td>\n",
       "      <td>POLYGON ((1355546.100 1714772.389, 1356067.799...</td>\n",
       "      <td>2.646973e+09</td>\n",
       "    </tr>\n",
       "    <tr>\n",
       "      <th>170</th>\n",
       "      <td>86</td>\n",
       "      <td>DEU</td>\n",
       "      <td>Germany</td>\n",
       "      <td>4</td>\n",
       "      <td>Brandenburg</td>\n",
       "      <td>13</td>\n",
       "      <td>Brandenburg</td>\n",
       "      <td>154</td>\n",
       "      <td>Potsdam-Mittelmark</td>\n",
       "      <td>None</td>\n",
       "      <td>None</td>\n",
       "      <td>Landkreise</td>\n",
       "      <td>Rural district</td>\n",
       "      <td>POLYGON ((1435789.028 1635776.088, 1434858.027...</td>\n",
       "      <td>2.841665e+09</td>\n",
       "    </tr>\n",
       "    <tr>\n",
       "      <th>255</th>\n",
       "      <td>86</td>\n",
       "      <td>DEU</td>\n",
       "      <td>Germany</td>\n",
       "      <td>9</td>\n",
       "      <td>Niedersachsen</td>\n",
       "      <td>23</td>\n",
       "      <td>Weser-Ems</td>\n",
       "      <td>239</td>\n",
       "      <td>Emsland</td>\n",
       "      <td>None</td>\n",
       "      <td>None</td>\n",
       "      <td>Landkreise</td>\n",
       "      <td>Rural district</td>\n",
       "      <td>POLYGON ((1027834.633 1599510.076, 1027586.139...</td>\n",
       "      <td>2.910653e+09</td>\n",
       "    </tr>\n",
       "    <tr>\n",
       "      <th>175</th>\n",
       "      <td>86</td>\n",
       "      <td>DEU</td>\n",
       "      <td>Germany</td>\n",
       "      <td>4</td>\n",
       "      <td>Brandenburg</td>\n",
       "      <td>13</td>\n",
       "      <td>Brandenburg</td>\n",
       "      <td>159</td>\n",
       "      <td>Uckermark</td>\n",
       "      <td>None</td>\n",
       "      <td>None</td>\n",
       "      <td>Landkreise</td>\n",
       "      <td>Rural district</td>\n",
       "      <td>POLYGON ((1490279.493 1759163.823, 1490721.171...</td>\n",
       "      <td>3.232172e+09</td>\n",
       "    </tr>\n",
       "  </tbody>\n",
       "</table>\n",
       "<p>434 rows × 15 columns</p>\n",
       "</div>"
      ],
      "text/plain": [
       "     ID_0  ISO   NAME_0  ID_1                  NAME_1  ID_2  \\\n",
       "153    86  DEU  Germany     2                  Bayern    11   \n",
       "103    86  DEU  Germany     2                  Bayern     7   \n",
       "71     86  DEU  Germany     2                  Bayern     5   \n",
       "219    86  DEU  Germany     8  Mecklenburg-Vorpommern    19   \n",
       "137    86  DEU  Germany     2                  Bayern    10   \n",
       "..    ...  ...      ...   ...                     ...   ...   \n",
       "208    86  DEU  Germany     8  Mecklenburg-Vorpommern    19   \n",
       "169    86  DEU  Germany     4             Brandenburg    13   \n",
       "170    86  DEU  Germany     4             Brandenburg    13   \n",
       "255    86  DEU  Germany     9           Niedersachsen    23   \n",
       "175    86  DEU  Germany     4             Brandenburg    13   \n",
       "\n",
       "                     NAME_2  ID_3              NAME_3 NL_NAME_3 VARNAME_3  \\\n",
       "153            Unterfranken   137  Schweinfurt Städte      None      None   \n",
       "103              Oberbayern    87    Rosenheim Städte      None      None   \n",
       "71            Mittelfranken    55    Schwabach Städte      None      None   \n",
       "219  Mecklenburg-Vorpommern   203    Stralsund Städte      None      None   \n",
       "137                Schwaben   121   Kaufbeuren Städte      None      None   \n",
       "..                      ...   ...                 ...       ...       ...   \n",
       "208  Mecklenburg-Vorpommern   192         Ludwigslust      None      None   \n",
       "169             Brandenburg   153  Ostprignitz-Ruppin      None      None   \n",
       "170             Brandenburg   154  Potsdam-Mittelmark      None      None   \n",
       "255               Weser-Ems   239             Emsland      None      None   \n",
       "175             Brandenburg   159           Uckermark      None      None   \n",
       "\n",
       "                TYPE_3       ENGTYPE_3  \\\n",
       "153  Kreisfreie Städte  Urban district   \n",
       "103  Kreisfreie Städte  Urban district   \n",
       "71   Kreisfreie Städte  Urban district   \n",
       "219  Kreisfreie Städte  Urban district   \n",
       "137  Kreisfreie Städte  Urban district   \n",
       "..                 ...             ...   \n",
       "208         Landkreise  Rural district   \n",
       "169         Landkreise  Rural district   \n",
       "170         Landkreise  Rural district   \n",
       "255         Landkreise  Rural district   \n",
       "175         Landkreise  Rural district   \n",
       "\n",
       "                                              geometry     area_size  \n",
       "153  POLYGON ((1310704.438 1321023.112, 1310923.412...  3.807898e+07  \n",
       "103  POLYGON ((1512728.210 1114790.395, 1513376.355...  3.962358e+07  \n",
       "71   POLYGON ((1392408.589 1254075.975, 1392926.587...  4.218242e+07  \n",
       "219  POLYGON ((1368585.450 1841422.546, 1368890.083...  4.276265e+07  \n",
       "137  POLYGON ((1400985.334 1090149.755, 1401193.429...  4.304720e+07  \n",
       "..                                                 ...           ...  \n",
       "208  POLYGON ((1254742.289 1725448.049, 1256102.669...  2.632941e+09  \n",
       "169  POLYGON ((1355546.100 1714772.389, 1356067.799...  2.646973e+09  \n",
       "170  POLYGON ((1435789.028 1635776.088, 1434858.027...  2.841665e+09  \n",
       "255  POLYGON ((1027834.633 1599510.076, 1027586.139...  2.910653e+09  \n",
       "175  POLYGON ((1490279.493 1759163.823, 1490721.171...  3.232172e+09  \n",
       "\n",
       "[434 rows x 15 columns]"
      ]
     },
     "execution_count": 480,
     "metadata": {},
     "output_type": "execute_result"
    }
   ],
   "source": [
    "gdf['area_size'] = gdf['geometry'].area\n",
    "gdf.sort_values(by=['area_size'])\n",
    "#gdf.plot(figsize=(10, 10))"
   ]
  },
  {
   "cell_type": "code",
   "execution_count": 481,
   "id": "1ba76bd7",
   "metadata": {
    "scrolled": true
   },
   "outputs": [
    {
     "name": "stdout",
     "output_type": "stream",
     "text": [
      "CPU times: user 49.7 ms, sys: 22.2 ms, total: 71.9 ms\n",
      "Wall time: 94 ms\n"
     ]
    },
    {
     "data": {
      "image/png": "[encoded data removed]",
      "text/plain": [
       "<Figure size 720x720 with 1 Axes>"
      ]
     },
     "metadata": {
      "needs_background": "light"
     },
     "output_type": "display_data"
    }
   ],
   "source": [
    "%%time\n",
    "## preparing the base map of the region that is currently utilized\n",
    "\n",
    "#interate_map = gdf['NAME_3']\n",
    "brandenburgdf = gdf[gdf['NAME_3'] == 'Potsdam Städte']\n",
    "brandenburgbase = brandenburgdf.plot(color='white', edgecolor='black', cmap='Reds', figsize=(10, 10))\n",
    "#polygon_bounding_box = Polygon([(polygon.bounds.minx.values[0], polygon.bounds.miny.values[0]), (polygon.bounds.maxx.values[0], polygon.bounds.miny.values[0]), (polygon.bounds.maxx.values[0], polygon.bounds.maxy.values[0]), (polygon.bounds.minx.values[0], polygon.bounds.maxy.values[0])])\n",
    "\n",
    "#tet = interate_map.apply(lambda x: print(x))\n"
   ]
  },
  {
   "cell_type": "code",
   "execution_count": 482,
   "id": "60f80ad9",
   "metadata": {},
   "outputs": [],
   "source": [
    "## span entities within the polygon of the region\n",
    "#spawned_point = Point(random.uniform(polygon.bounds.minx.values[0], polygon.bounds.maxx.values[0]), random.uniform(polygon.bounds.miny.values[0], polygon.bounds.maxy.values[0]))\n",
    "\n",
    "x_coord_adding = random.randrange(-100, 100)\n",
    "y_coord_adding = random.randrange(-100, 100)\n",
    "def add_needed_col_to_vehicle(df):\n",
    "    df['type']='vehicle'\n",
    "    df['history']=[]\n",
    "    df['movement_direction']={'add_to_x':random.randrange(-moving_speed_vehicles, moving_speed_vehicles),'add_to_y': random.randrange(-moving_speed_vehicles,moving_speed_vehicles)}\n",
    "    df['movement_area']=df['geometry'].buffer(area_of_movemenet, cap_style=3)\n",
    "    df['movement_speed']= moving_speed_vehicles    \n",
    "    df['noise_volume']= noise_level_vehicles\n",
    "    df['noise_pollution_area']= affected_area_by_vehicles\n",
    "    return df\n",
    "\n",
    "def add_needed_col_to_people(df):\n",
    "    df['type']='person'\n",
    "    df['history']=[]\n",
    "    df['movement_direction']={'add_to_x':random.randrange(-moving_speed_people, moving_speed_people),'add_to_y': random.randrange(-moving_speed_people,moving_speed_people)}\n",
    "    df['movement_area']=df['geometry'].buffer(area_of_movemenet, cap_style=3)\n",
    "    df['movement_speed']= moving_speed_people    \n",
    "    df['noise_volume']= noise_level_people\n",
    "    df['noise_pollution_area']= affected_area_by_people\n",
    "    return df\n",
    "\n",
    "def spawnpeople(region_object_row):\n",
    "    counter_people = 0\n",
    "    counter_vehicle = 0\n",
    "\n",
    "    spawned_people = []\n",
    "    spawned_vehicles = []\n",
    "    #print(region_object_row['NAME_3'])\n",
    "    #print(type(region_object_row))\n",
    "    polygon = region_object_row['geometry']\n",
    "\n",
    "    while len(spawned_people) < number_of_people: \n",
    "        spawned_point = Point(random.uniform(polygon.bounds.minx.values[0], polygon.bounds.maxx.values[0]), random.uniform(polygon.bounds.miny.values[0], polygon.bounds.maxy.values[0]))\n",
    "        if(region_object_row['geometry'].contains(spawned_point).values[0]):\n",
    "            spawned_people.append(spawned_point)\n",
    "        counter_people += 1  \n",
    "\n",
    "    while len(spawned_vehicles) < number_of_vehicles: \n",
    "        spawned_point = Point(random.uniform(polygon.bounds.minx.values[0], polygon.bounds.maxx.values[0]), random.uniform(polygon.bounds.miny.values[0], polygon.bounds.maxy.values[0]))\n",
    "        if(region_object_row['geometry'].contains(spawned_point).values[0]):\n",
    "            spawned_vehicles.append(spawned_point)\n",
    "        counter_vehicle += 1\n",
    "        \n",
    "    #transforming data to Dataframe and adding columns for PEOPLE\n",
    "    spawned_people_df = pd.DataFrame(spawned_people, columns = ['geometry'])\n",
    "    spawned_people_geodf = geopd.GeoDataFrame(spawned_people_df, crs=3763)\n",
    "    spawned_people_geodf = spawned_people_geodf.apply(add_needed_col_to_people, axis=1)\n",
    "\n",
    "    #transforming data to Dataframe and adding columns for VEHICLES\n",
    "    spawned_vehicles_df = pd.DataFrame(spawned_vehicles, columns = ['geometry'])\n",
    "    spawned_vehicles_geodf = geopd.GeoDataFrame(spawned_vehicles_df, crs=3763)\n",
    "    spawned_vehicles_geodf = spawned_vehicles_geodf.apply(add_needed_col_to_vehicle, axis=1)\n",
    "\n",
    "    frames = [spawned_vehicles_geodf, spawned_people_geodf]\n",
    "    result = pd.concat(frames, ignore_index=True)\n",
    "    print(region_object_row['NAME_3'].values[0])\n",
    "    result['region_affiliation'] =region_object_row['NAME_3'].values[0]\n",
    "    return result\n"
   ]
  },
  {
   "cell_type": "code",
   "execution_count": 483,
   "id": "7f0bac50",
   "metadata": {
    "tags": [
     "TEST"
    ]
   },
   "outputs": [
    {
     "name": "stderr",
     "output_type": "stream",
     "text": [
      "/Users/aminhofmann/miniconda3/envs/noise-simulation/lib/python3.7/site-packages/geopandas/geodataframe.py:1322: SettingWithCopyWarning: \n",
      "A value is trying to be set on a copy of a slice from a DataFrame.\n",
      "Try using .loc[row_indexer,col_indexer] = value instead\n",
      "\n",
      "See the caveats in the documentation: https://pandas.pydata.org/pandas-docs/stable/user_guide/indexing.html#returning-a-view-versus-a-copy\n",
      "  super(GeoDataFrame, self).__setitem__(key, value)\n"
     ]
    },
    {
     "name": "stdout",
     "output_type": "stream",
     "text": [
      "Oldenburg\n"
     ]
    },
    {
     "data": {
      "text/html": [
       "<div>\n",
       "<style scoped>\n",
       "    .dataframe tbody tr th:only-of-type {\n",
       "        vertical-align: middle;\n",
       "    }\n",
       "\n",
       "    .dataframe tbody tr th {\n",
       "        vertical-align: top;\n",
       "    }\n",
       "\n",
       "    .dataframe thead th {\n",
       "        text-align: right;\n",
       "    }\n",
       "</style>\n",
       "<table border=\"1\" class=\"dataframe\">\n",
       "  <thead>\n",
       "    <tr style=\"text-align: right;\">\n",
       "      <th></th>\n",
       "      <th>ID_0</th>\n",
       "      <th>ISO</th>\n",
       "      <th>NAME_0</th>\n",
       "      <th>ID_1</th>\n",
       "      <th>NAME_1</th>\n",
       "      <th>ID_2</th>\n",
       "      <th>NAME_2</th>\n",
       "      <th>ID_3</th>\n",
       "      <th>NAME_3</th>\n",
       "      <th>NL_NAME_3</th>\n",
       "      <th>VARNAME_3</th>\n",
       "      <th>TYPE_3</th>\n",
       "      <th>ENGTYPE_3</th>\n",
       "      <th>geometry</th>\n",
       "      <th>area_size</th>\n",
       "    </tr>\n",
       "  </thead>\n",
       "  <tbody>\n",
       "    <tr>\n",
       "      <th>0</th>\n",
       "      <td>86</td>\n",
       "      <td>DEU</td>\n",
       "      <td>Germany</td>\n",
       "      <td>9</td>\n",
       "      <td>Niedersachsen</td>\n",
       "      <td>23</td>\n",
       "      <td>Weser-Ems</td>\n",
       "      <td>244</td>\n",
       "      <td>Oldenburg</td>\n",
       "      <td>None</td>\n",
       "      <td>None</td>\n",
       "      <td>Landkreise</td>\n",
       "      <td>Rural district</td>\n",
       "      <td>POLYGON ((1290773.810 1421304.010, 1292065.260...</td>\n",
       "      <td>1.142377e+09</td>\n",
       "    </tr>\n",
       "  </tbody>\n",
       "</table>\n",
       "</div>"
      ],
      "text/plain": [
       "   ID_0  ISO   NAME_0  ID_1         NAME_1  ID_2     NAME_2  ID_3     NAME_3  \\\n",
       "0    86  DEU  Germany     9  Niedersachsen    23  Weser-Ems   244  Oldenburg   \n",
       "\n",
       "  NL_NAME_3 VARNAME_3      TYPE_3       ENGTYPE_3  \\\n",
       "0      None      None  Landkreise  Rural district   \n",
       "\n",
       "                                            geometry     area_size  \n",
       "0  POLYGON ((1290773.810 1421304.010, 1292065.260...  1.142377e+09  "
      ]
     },
     "execution_count": 483,
     "metadata": {},
     "output_type": "execute_result"
    }
   ],
   "source": [
    "### Spawning moving entities into regions that are defined in geojson -->for now just into the city Oldenburg\n",
    "\n",
    "## preparing th    test2 = pd.DataFrame([i*2, i*3, i*4])\n",
    "#test = pd.concat([test, test2], ignore_index=True)e base map of the spawned_vehicles, columns = ['geometry'])region that is currently utilized\n",
    "\n",
    "gdf = gdf.to_crs(epsg=3763)\n",
    "#brandenburgbase = brandenburgdf.plot(color='white', edgecolor='black', cmap='Reds', figsize=(10, 10))\n",
    "polygon_bounding_box = Polygon([(1290773.81,1421304.01), (1292065.26,1421613.65), (1292294.97,1420691.03), (1290811.45,1420198.23)])\n",
    "newDF = pd.DataFrame([], columns = ['geometry', 'type', 'region_affiliation','history','movement_direction','movement_speed','noise_volume','noise_pollution_area'])\n",
    "#for index, row in gdf.iterrows():\n",
    "gdf_oldenburg = gdf[gdf['NAME_3'] == 'Oldenburg']\n",
    "#new_geodf = geopd.GeoDataFrame(data=[gdf_oldenburg], columns= ['ID_0', 'ISO', 'NAME_0', 'ID_1', 'NAME_1', 'ID_2', 'NAME_2', 'ID_3', 'NAME_3', 'NL_NAME_3', 'VARNAME_3', 'TYPE_3', 'ENGTYPE_3', 'geometry'], crs=3763)\n",
    "#newgeo = geopd.GeoSeries(data=row,crs=3763)\n",
    "gdf_oldenburg['geometry'] = polygon_bounding_box\n",
    "test2 = spawnpeople(gdf_oldenburg)\n",
    "#test = pd.Series(test2, index = ['geometry', 'type', 'region_affiliation','history','movement_direction','movement_area','movement_speed','noise_volume','noise_pollution_area'])\n",
    "newDF = newDF.append(test2, ignore_index=True)\n",
    "gdf_oldenburg\n",
    "    \n",
    "    "
   ]
  },
  {
   "cell_type": "code",
   "execution_count": 414,
   "id": "ff9fd8ee",
   "metadata": {
    "scrolled": true
   },
   "outputs": [
    {
     "name": "stdout",
     "output_type": "stream",
     "text": [
      "Schweinfurt Städte\n"
     ]
    }
   ],
   "source": [
    "### Spawning moving entities into regions that are defined in geojson -->for now just into the city Oldenburg\n",
    "\n",
    "## preparing th    test2 = pd.DataFrame([i*2, i*3, i*4])\n",
    "#test = pd.concat([test, test2], ignore_index=True)e base map of the spawned_vehicles, columns = ['geometry'])region that is currently utilized\n",
    "\n",
    "gdf = gdf.to_crs(epsg=3763)\n",
    "#brandenburgbase = brandenburgdf.plot(color='white', edgecolor='black', cmap='Reds', figsize=(10, 10))\n",
    "#polygon_bounding_box = Polygon([(polygon.bounds.minx.values[0], polygon.bounds.miny.values[0]), (polygon.bounds.maxx.values[0], polygon.bounds.miny.values[0]), (polygon.bounds.maxx.values[0], polygon.bounds.maxy.values[0]), (polygon.bounds.minx.values[0], polygon.bounds.maxy.values[0])])\n",
    "\n",
    "newDF = pd.DataFrame([], columns = ['geometry', 'type', 'region_affiliation','history','movement_direction','movement_speed','noise_volume','noise_pollution_area'])\n",
    "#for index, row in gdf.iterrows():\n",
    "gdf_oldenburg = gdf[gdf['NAME_3'] == 'Schweinfurt Städte']\n",
    "#new_geodf = geopd.GeoDataFrame(data=[gdf_oldenburg], columns= ['ID_0', 'ISO', 'NAME_0', 'ID_1', 'NAME_1', 'ID_2', 'NAME_2', 'ID_3', 'NAME_3', 'NL_NAME_3', 'VARNAME_3', 'TYPE_3', 'ENGTYPE_3', 'geometry'], crs=3763)\n",
    "#newgeo = geopd.GeoSeries(data=row,crs=3763)\n",
    "test2 = spawnpeople(gdf_oldenburg)\n",
    "#test = pd.Series(test2, index = ['geometry', 'type', 'region_affiliation','history','movement_direction','movement_area','movement_speed','noise_volume','noise_pollution_area'])\n",
    "newDF = newDF.append(test2, ignore_index=True)\n",
    "\n",
    "    \n",
    "    "
   ]
  },
  {
   "cell_type": "code",
   "execution_count": 382,
   "id": "50e1ec7f",
   "metadata": {},
   "outputs": [],
   "source": [
    "## this can be ignored\n",
    "#spawned_people_geodf = spawned_people_geodf.set_geometry('geometry')\n",
    "#spawned_people_geodf.plot(ax=brandenburgbase, marker='o', color='white',edgecolor='red',markersize=3)\n",
    "#spawned_people_geodf.plot(color='white', edgecolor='black', markersize=1)"
   ]
  },
  {
   "cell_type": "code",
   "execution_count": 484,
   "id": "4bb259ca",
   "metadata": {},
   "outputs": [
    {
     "data": {},
     "metadata": {},
     "output_type": "display_data"
    },
    {
     "data": {
      "application/vnd.holoviews_exec.v0+json": "",
      "text/html": [
       "<div id='2906'>\n",
       "\n",
       "\n",
       "\n",
       "\n",
       "\n",
       "  <div class=\"bk-root\" id=\"a1bb6184-9006-4d4f-92c2-3809bd22b2d0\" data-root-id=\"2906\"></div>\n",
       "</div>\n",
       "<script type=\"application/javascript\">(function(root) {\n",
       "  function embed_document(root) {\n",
       "    var docs_json = {\"eebaf597-e2b4-404b-9c34-860fd1d7c68d\":{\"defs\":[{\"extends\":null,\"module\":null,\"name\":\"ReactiveHTML1\",\"overrides\":[],\"properties\":[]},{\"extends\":null,\"module\":null,\"name\":\"FlexBox1\",\"overrides\":[],\"properties\":[{\"default\":\"flex-start\",\"kind\":null,\"name\":\"align_content\"},{\"default\":\"flex-start\",\"kind\":null,\"name\":\"align_items\"},{\"default\":\"row\",\"kind\":null,\"name\":\"flex_direction\"},{\"default\":\"wrap\",\"kind\":null,\"name\":\"flex_wrap\"},{\"default\":\"flex-start\",\"kind\":null,\"name\":\"justify_content\"}]},{\"extends\":null,\"module\":null,\"name\":\"TemplateActions1\",\"overrides\":[],\"properties\":[{\"default\":0,\"kind\":null,\"name\":\"open_modal\"},{\"default\":0,\"kind\":null,\"name\":\"close_modal\"}]},{\"extends\":null,\"module\":null,\"name\":\"MaterialTemplateActions1\",\"overrides\":[],\"properties\":[{\"default\":0,\"kind\":null,\"name\":\"open_modal\"},{\"default\":0,\"kind\":null,\"name\":\"close_modal\"}]}],\"roots\":{\"references\":[{\"attributes\":{\"source\":{\"id\":\"2941\"}},\"id\":\"2948\",\"type\":\"CDSView\"},{\"attributes\":{\"fill_alpha\":{\"value\":0.2},\"fill_color\":{\"value\":\"#30a2da\"},\"hatch_alpha\":{\"value\":0.2},\"hatch_color\":{\"value\":\"#30a2da\"},\"line_alpha\":{\"value\":0.2},\"line_color\":{\"value\":\"#30a2da\"},\"line_width\":{\"value\":0.1},\"size\":{\"value\":5.477225575051661},\"x\":{\"field\":\"x\"},\"y\":{\"field\":\"y\"}},\"id\":\"2946\",\"type\":\"Scatter\"},{\"attributes\":{\"callback\":null,\"renderers\":[{\"id\":\"2947\"}],\"tags\":[\"hv_created\"],\"tooltips\":[[\"x\",\"@{x}\"],[\"y\",\"@{y}\"]]},\"id\":\"2910\",\"type\":\"HoverTool\"},{\"attributes\":{},\"id\":\"2932\",\"type\":\"ResetTool\"},{\"attributes\":{\"margin\":[5,5,5,5],\"name\":\"HSpacer06142\",\"sizing_mode\":\"stretch_width\"},\"id\":\"2907\",\"type\":\"Spacer\"},{\"attributes\":{\"children\":[{\"id\":\"2907\"},{\"id\":\"2911\"},{\"id\":\"2976\"}],\"margin\":[0,0,0,0],\"name\":\"Row06138\",\"tags\":[\"embedded\"]},\"id\":\"2906\",\"type\":\"Row\"},{\"attributes\":{},\"id\":\"2952\",\"type\":\"AllLabels\"},{\"attributes\":{\"axis\":{\"id\":\"2920\"},\"coordinates\":null,\"grid_line_color\":null,\"group\":null,\"ticker\":null},\"id\":\"2923\",\"type\":\"Grid\"},{\"attributes\":{},\"id\":\"2963\",\"type\":\"UnionRenderers\"},{\"attributes\":{\"data\":{\"x\":{\"__ndarray__\":\"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\",\"dtype\":\"float64\",\"order\":\"little\",\"shape\":[2000]},\"y\":{\"__ndarray__\":\"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\",\"dtype\":\"float64\",\"order\":\"little\",\"shape\":[2000]}},\"selected\":{\"id\":\"2942\"},\"selection_policy\":{\"id\":\"2963\"}},\"id\":\"2941\",\"type\":\"ColumnDataSource\"},{\"attributes\":{\"angle\":{\"value\":0.0},\"fill_alpha\":{\"value\":1.0},\"fill_color\":{\"value\":\"#30a2da\"},\"hatch_alpha\":{\"value\":1.0},\"hatch_color\":{\"value\":\"#30a2da\"},\"hatch_scale\":{\"value\":12.0},\"hatch_weight\":{\"value\":1.0},\"line_alpha\":{\"value\":1.0},\"line_cap\":{\"value\":\"butt\"},\"line_color\":{\"value\":\"#30a2da\"},\"line_dash\":{\"value\":[]},\"line_dash_offset\":{\"value\":0},\"line_join\":{\"value\":\"bevel\"},\"line_width\":{\"value\":0.1},\"marker\":{\"value\":\"circle\"},\"size\":{\"value\":5.477225575051661},\"x\":{\"field\":\"x\"},\"y\":{\"field\":\"y\"}},\"id\":\"2949\",\"type\":\"Scatter\"},{\"attributes\":{},\"id\":\"2930\",\"type\":\"WheelZoomTool\"},{\"attributes\":{\"overlay\":{\"id\":\"2933\"}},\"id\":\"2931\",\"type\":\"BoxZoomTool\"},{\"attributes\":{\"below\":[{\"id\":\"2920\"}],\"center\":[{\"id\":\"2923\"},{\"id\":\"2927\"}],\"frame_height\":800,\"frame_width\":800,\"height\":null,\"left\":[{\"id\":\"2924\"}],\"margin\":[5,5,5,5],\"min_border_bottom\":10,\"min_border_left\":10,\"min_border_right\":10,\"min_border_top\":10,\"renderers\":[{\"id\":\"2947\"}],\"sizing_mode\":\"fixed\",\"title\":{\"id\":\"2912\"},\"toolbar\":{\"id\":\"2934\"},\"width\":null,\"x_range\":{\"id\":\"2908\"},\"x_scale\":{\"id\":\"2916\"},\"y_range\":{\"id\":\"2909\"},\"y_scale\":{\"id\":\"2918\"}},\"id\":\"2911\",\"subtype\":\"Figure\",\"type\":\"Plot\"},{\"attributes\":{\"margin\":[5,5,5,5],\"name\":\"HSpacer06143\",\"sizing_mode\":\"stretch_width\"},\"id\":\"2976\",\"type\":\"Spacer\"},{\"attributes\":{\"coordinates\":null,\"group\":null,\"text_color\":\"black\",\"text_font_size\":\"12pt\"},\"id\":\"2912\",\"type\":\"Title\"},{\"attributes\":{},\"id\":\"2918\",\"type\":\"LinearScale\"},{\"attributes\":{},\"id\":\"2916\",\"type\":\"LinearScale\"},{\"attributes\":{},\"id\":\"2955\",\"type\":\"AllLabels\"},{\"attributes\":{},\"id\":\"2951\",\"type\":\"BasicTickFormatter\"},{\"attributes\":{\"tools\":[{\"id\":\"2910\"},{\"id\":\"2928\"},{\"id\":\"2929\"},{\"id\":\"2930\"},{\"id\":\"2931\"},{\"id\":\"2932\"}]},\"id\":\"2934\",\"type\":\"Toolbar\"},{\"attributes\":{\"axis\":{\"id\":\"2924\"},\"coordinates\":null,\"dimension\":1,\"grid_line_color\":null,\"group\":null,\"ticker\":null},\"id\":\"2927\",\"type\":\"Grid\"},{\"attributes\":{},\"id\":\"2954\",\"type\":\"BasicTickFormatter\"},{\"attributes\":{\"end\":1292429.2189088832,\"reset_end\":1292429.2189088832,\"reset_start\":1290626.0746602945,\"start\":1290626.0746602945,\"tags\":[[[\"x\",\"x\",null]]]},\"id\":\"2908\",\"type\":\"Range1d\"},{\"attributes\":{\"coordinates\":null,\"data_source\":{\"id\":\"2941\"},\"glyph\":{\"id\":\"2944\"},\"group\":null,\"hover_glyph\":null,\"muted_glyph\":{\"id\":\"2946\"},\"nonselection_glyph\":{\"id\":\"2945\"},\"selection_glyph\":{\"id\":\"2949\"},\"view\":{\"id\":\"2948\"}},\"id\":\"2947\",\"type\":\"GlyphRenderer\"},{\"attributes\":{\"axis_label\":\"y\",\"coordinates\":null,\"formatter\":{\"id\":\"2954\"},\"group\":null,\"major_label_policy\":{\"id\":\"2955\"},\"ticker\":{\"id\":\"2925\"}},\"id\":\"2924\",\"type\":\"LinearAxis\"},{\"attributes\":{},\"id\":\"2921\",\"type\":\"BasicTicker\"},{\"attributes\":{},\"id\":\"2928\",\"type\":\"SaveTool\"},{\"attributes\":{},\"id\":\"2942\",\"type\":\"Selection\"},{\"attributes\":{\"bottom_units\":\"screen\",\"coordinates\":null,\"fill_alpha\":0.5,\"fill_color\":\"lightgrey\",\"group\":null,\"left_units\":\"screen\",\"level\":\"overlay\",\"line_alpha\":1.0,\"line_color\":\"black\",\"line_dash\":[4,4],\"line_width\":2,\"right_units\":\"screen\",\"syncable\":false,\"top_units\":\"screen\"},\"id\":\"2933\",\"type\":\"BoxAnnotation\"},{\"attributes\":{},\"id\":\"2925\",\"type\":\"BasicTicker\"},{\"attributes\":{},\"id\":\"2929\",\"type\":\"PanTool\"},{\"attributes\":{\"axis_label\":\"x\",\"coordinates\":null,\"formatter\":{\"id\":\"2951\"},\"group\":null,\"major_label_policy\":{\"id\":\"2952\"},\"ticker\":{\"id\":\"2921\"}},\"id\":\"2920\",\"type\":\"LinearAxis\"},{\"attributes\":{\"fill_alpha\":{\"value\":0.1},\"fill_color\":{\"value\":\"#30a2da\"},\"hatch_alpha\":{\"value\":0.1},\"hatch_color\":{\"value\":\"#30a2da\"},\"line_alpha\":{\"value\":0.1},\"line_color\":{\"value\":\"#30a2da\"},\"line_width\":{\"value\":0.1},\"size\":{\"value\":5.477225575051661},\"x\":{\"field\":\"x\"},\"y\":{\"field\":\"y\"}},\"id\":\"2945\",\"type\":\"Scatter\"},{\"attributes\":{\"end\":1421745.5758838789,\"reset_end\":1421745.5758838789,\"reset_start\":1420063.370345489,\"start\":1420063.370345489,\"tags\":[[[\"y\",\"y\",null]]]},\"id\":\"2909\",\"type\":\"Range1d\"},{\"attributes\":{\"fill_color\":{\"value\":\"#30a2da\"},\"hatch_color\":{\"value\":\"#30a2da\"},\"line_color\":{\"value\":\"#30a2da\"},\"line_width\":{\"value\":0.1},\"size\":{\"value\":5.477225575051661},\"x\":{\"field\":\"x\"},\"y\":{\"field\":\"y\"}},\"id\":\"2944\",\"type\":\"Scatter\"}],\"root_ids\":[\"2906\"]},\"title\":\"Bokeh Application\",\"version\":\"2.4.2\"}};\n",
       "    var render_items = [{\"docid\":\"eebaf597-e2b4-404b-9c34-860fd1d7c68d\",\"root_ids\":[\"2906\"],\"roots\":{\"2906\":\"a1bb6184-9006-4d4f-92c2-3809bd22b2d0\"}}];\n",
       "    root.Bokeh.embed.embed_items_notebook(docs_json, render_items);\n",
       "  }\n",
       "  if (root.Bokeh !== undefined && root.Bokeh.Panel !== undefined) {\n",
       "    embed_document(root);\n",
       "  } else {\n",
       "    var attempts = 0;\n",
       "    var timer = setInterval(function(root) {\n",
       "      if (root.Bokeh !== undefined && root.Bokeh.Panel !== undefined) {\n",
       "        clearInterval(timer);\n",
       "        embed_document(root);\n",
       "      } else if (document.readyState == \"complete\") {\n",
       "        attempts++;\n",
       "        if (attempts > 200) {\n",
       "          clearInterval(timer);\n",
       "          console.log(\"Bokeh: ERROR: Unable to run BokehJS code because BokehJS library is missing\");\n",
       "        }\n",
       "      }\n",
       "    }, 25, root)\n",
       "  }\n",
       "})(window);</script>"
      ],
      "text/plain": [
       ":Points   [x,y]"
      ]
     },
     "execution_count": 484,
     "metadata": {
      "application/vnd.holoviews_exec.v0+json": {
       "id": "2906"
      }
     },
     "output_type": "execute_result"
    }
   ],
   "source": [
    "## here you can see the potitions of entities at moment x spawned in oldenburg\n",
    "geonewdf= geopd.GeoDataFrame(newDF, crs=3763)\n",
    "geonewdf = geonewdf.set_geometry('geometry')\n",
    "#fix = geonewdf.plot(color='white', edgecolor='black', markersize=0.5, figsize=(15, 15))\n",
    "geonewdf.hvplot(line_width=0.1, frame_width=800, frame_height=800)\n"
   ]
  },
  {
   "cell_type": "markdown",
   "id": "9d424650",
   "metadata": {},
   "source": [
    "### Run simulation of people movement"
   ]
  },
  {
   "cell_type": "code",
   "execution_count": 485,
   "id": "9496c521",
   "metadata": {},
   "outputs": [],
   "source": [
    "#test.apply(lambda x: x['history'].append({'geometry': x['geometry'], 't':datetime.now()}), axis=1)\n",
    "def simulateMovement(array):\n",
    "    test = array['history'].copy()\n",
    "    test.append({'geometry': array['geometry'], 't':datetime.now()})\n",
    "    array['history'] = test\n",
    "    new_point =Point(array['geometry'].x + array['movement_direction']['add_to_x'], array['geometry'].y + array['movement_direction']['add_to_y'])\n",
    "    while array['movement_area'].contains(new_point) != True:\n",
    "        new_x_coord_adding = random.randrange(-100, 100)\n",
    "        new_y_coord_adding = random.randrange(-100, 100)\n",
    "        new_point =Point(array['geometry'].x + new_x_coord_adding, array['geometry'].y + new_y_coord_adding)\n",
    "        array['movement_direction'] = {'add_to_x':new_x_coord_adding,'add_to_y': new_y_coord_adding}\n",
    "    \n",
    "    array['geometry'] = new_point\n",
    "    return array\n",
    "#test = spawned_people_geodf.apply(simulateMovement, axis=1)\n",
    "#spawned_people_geodf"
   ]
  },
  {
   "cell_type": "markdown",
   "id": "c254112e",
   "metadata": {},
   "source": [
    "## simulation of people moving in a ploygon -->currently not using\n",
    "brandenburgbase1 = brandenburgdf.plot(color='white', edgecolor='black', cmap='Reds', figsize=(10, 10))\n",
    "while len(spawned_people_geodf['history'][0]) < 1000:    \n",
    "    spawned_people_geodf= spawned_people_geodf.apply(simulateMovement, axis=1)\n",
    "    #df = pd.DataFrame(spawned_people_geodf['history'][0]).set_index('t')\n",
    "    gdf = geopd.GeoDataFrame(spawned_people_geodf, crs=CRS(3763))\n",
    "    gdfbase = gdf.set_geometry(\"movement_area\")\n",
    "    #gdfbase = gdf.plot(edgecolor='black', cmap='Reds', figsize=(10, 10))\n",
    "    gdfbase_with_movement = gdfbase.plot(ax=brandenburgbase1, marker='o', color='white',edgecolor='red',markersize=3)\n",
    "    gdf.plot(ax=gdfbase_with_movement, marker='o', color='black',markersize=5)\n",
    "    #agentsdf = gdf.to_crs(epsg=4326)\n",
    "    #traj = mpd.Trajectory(agentsdf, 1)\n",
    "    #test = traj.hvplot(geo=True, tiles='OSM', line_width=1, frame_width=500, frame_height=500)\n",
    "    display.clear_output(wait=True)\n",
    "    display.display(pl.gcf())\n",
    "    time.sleep(0.005)\n",
    "    print(len(spawned_people_geodf['history'][0]))"
   ]
  },
  {
   "cell_type": "code",
   "execution_count": 486,
   "id": "cf9ede66",
   "metadata": {},
   "outputs": [],
   "source": [
    "spawned_people_geodf = newDF.copy()"
   ]
  },
  {
   "cell_type": "code",
   "execution_count": 487,
   "id": "fed26e03",
   "metadata": {},
   "outputs": [
    {
     "name": "stdout",
     "output_type": "stream",
     "text": [
      "1\n",
      "2\n"
     ]
    }
   ],
   "source": [
    "## simulation of people moving in a ploygon\n",
    "while len(spawned_people_geodf['history'][0]) < 2:    \n",
    "    spawned_people_geodf= spawned_people_geodf.apply(simulateMovement, axis=1)\n",
    "    #df = pd.DataFrame(spawned_people_geodf['history'][0]).set_index('t')\n",
    "    gdf = geopd.GeoDataFrame(spawned_people_geodf, crs=CRS(3763))\n",
    "    \n",
    "    #frame = spawned_people_geodf.plot(color='green',markersize=3, figsize=(10, 10))\n",
    "    #agentsdf = gdf.to_crs(epsg=4326)\n",
    "    #traj = mpd.Trajectory(agentsdf, 1)\n",
    "    #test = traj.hvplot(geo=True, tiles='OSM', line_width=1, frame_width=500, frame_height=500)\n",
    "    #display.clear_output(wait=True)\n",
    "    #display.display(pl.gcf())\n",
    "    #time.sleep(1)\n",
    "    print(len(spawned_people_geodf['history'][0]))"
   ]
  },
  {
   "cell_type": "code",
   "execution_count": 488,
   "id": "586d0338",
   "metadata": {},
   "outputs": [
    {
     "data": {
      "text/html": [
       "<div>\n",
       "<style scoped>\n",
       "    .dataframe tbody tr th:only-of-type {\n",
       "        vertical-align: middle;\n",
       "    }\n",
       "\n",
       "    .dataframe tbody tr th {\n",
       "        vertical-align: top;\n",
       "    }\n",
       "\n",
       "    .dataframe thead th {\n",
       "        text-align: right;\n",
       "    }\n",
       "</style>\n",
       "<table border=\"1\" class=\"dataframe\">\n",
       "  <thead>\n",
       "    <tr style=\"text-align: right;\">\n",
       "      <th></th>\n",
       "      <th>geometry</th>\n",
       "      <th>type</th>\n",
       "      <th>region_affiliation</th>\n",
       "      <th>history</th>\n",
       "      <th>movement_direction</th>\n",
       "      <th>movement_speed</th>\n",
       "      <th>noise_volume</th>\n",
       "      <th>noise_pollution_area</th>\n",
       "      <th>movement_area</th>\n",
       "    </tr>\n",
       "  </thead>\n",
       "  <tbody>\n",
       "    <tr>\n",
       "      <th>0</th>\n",
       "      <td>POLYGON ((10.32268 50.98041, 10.32268 50.98041...</td>\n",
       "      <td>vehicle</td>\n",
       "      <td>Oldenburg</td>\n",
       "      <td>[{'geometry': POINT (1291086.615565773 1421220...</td>\n",
       "      <td>{'add_to_x': 3, 'add_to_y': 49}</td>\n",
       "      <td>50</td>\n",
       "      <td>70</td>\n",
       "      <td>POLYGON ((1291102.615565773 1421318.18690883, ...</td>\n",
       "      <td>POLYGON ((1292086.615565773 1422220.18690883, ...</td>\n",
       "    </tr>\n",
       "  </tbody>\n",
       "</table>\n",
       "</div>"
      ],
      "text/plain": [
       "                                            geometry     type  \\\n",
       "0  POLYGON ((10.32268 50.98041, 10.32268 50.98041...  vehicle   \n",
       "\n",
       "  region_affiliation                                            history  \\\n",
       "0          Oldenburg  [{'geometry': POINT (1291086.615565773 1421220...   \n",
       "\n",
       "                movement_direction  movement_speed  noise_volume  \\\n",
       "0  {'add_to_x': 3, 'add_to_y': 49}              50            70   \n",
       "\n",
       "                                noise_pollution_area  \\\n",
       "0  POLYGON ((1291102.615565773 1421318.18690883, ...   \n",
       "\n",
       "                                       movement_area  \n",
       "0  POLYGON ((1292086.615565773 1422220.18690883, ...  "
      ]
     },
     "execution_count": 488,
     "metadata": {},
     "output_type": "execute_result"
    }
   ],
   "source": [
    "oldenburdf = spawned_people_geodf[spawned_people_geodf['region_affiliation'] == 'Oldenburg']\n",
    "geo_oldenburg = geopd.GeoDataFrame(oldenburdf, crs=3763)\n",
    "geo_oldenburg['noise_pollution_area']= oldenburdf['geometry'].apply(lambda x: x.buffer(10, cap_style=1))\n",
    "#geo_oldenburg = geo_oldenburg.set_geometry('noise_pollution_area')\n",
    "geo_oldenburg['geometry'] = geo_oldenburg['noise_pollution_area']\n",
    "geo_oldenburg = geo_oldenburg.to_crs(4326)\n",
    "#df = geo_oldenburg.h3.geo_to_h3(15)\n",
    "geo_oldenburg.head(1)\n"
   ]
  },
  {
   "cell_type": "code",
   "execution_count": 489,
   "id": "3c4c84e1",
   "metadata": {},
   "outputs": [],
   "source": [
    "geo_oldenburg_H3 = geo_oldenburg.h3.polyfill(15, explode=True)\n"
   ]
  },
  {
   "cell_type": "code",
   "execution_count": 492,
   "id": "3d8951c9",
   "metadata": {},
   "outputs": [
    {
     "data": {
      "text/html": [
       "<div>\n",
       "<style scoped>\n",
       "    .dataframe tbody tr th:only-of-type {\n",
       "        vertical-align: middle;\n",
       "    }\n",
       "\n",
       "    .dataframe tbody tr th {\n",
       "        vertical-align: top;\n",
       "    }\n",
       "\n",
       "    .dataframe thead th {\n",
       "        text-align: right;\n",
       "    }\n",
       "</style>\n",
       "<table border=\"1\" class=\"dataframe\">\n",
       "  <thead>\n",
       "    <tr style=\"text-align: right;\">\n",
       "      <th></th>\n",
       "      <th>geometry</th>\n",
       "      <th>type</th>\n",
       "      <th>region_affiliation</th>\n",
       "      <th>history</th>\n",
       "      <th>movement_direction</th>\n",
       "      <th>movement_speed</th>\n",
       "      <th>noise_volume</th>\n",
       "      <th>noise_pollution_area</th>\n",
       "      <th>movement_area</th>\n",
       "      <th>h3_polyfill</th>\n",
       "    </tr>\n",
       "  </thead>\n",
       "  <tbody>\n",
       "    <tr>\n",
       "      <th>0</th>\n",
       "      <td>POLYGON ((10.32268 50.98041, 10.32268 50.98041...</td>\n",
       "      <td>vehicle</td>\n",
       "      <td>Oldenburg</td>\n",
       "      <td>[{'geometry': POINT (1291086.615565773 1421220...</td>\n",
       "      <td>{'add_to_x': 3, 'add_to_y': 49}</td>\n",
       "      <td>50</td>\n",
       "      <td>70</td>\n",
       "      <td>POLYGON ((1291102.615565773 1421318.18690883, ...</td>\n",
       "      <td>POLYGON ((1292086.615565773 1422220.18690883, ...</td>\n",
       "      <td>8f1fad1b16a4520</td>\n",
       "    </tr>\n",
       "  </tbody>\n",
       "</table>\n",
       "</div>"
      ],
      "text/plain": [
       "                                            geometry     type  \\\n",
       "0  POLYGON ((10.32268 50.98041, 10.32268 50.98041...  vehicle   \n",
       "\n",
       "  region_affiliation                                            history  \\\n",
       "0          Oldenburg  [{'geometry': POINT (1291086.615565773 1421220...   \n",
       "\n",
       "                movement_direction  movement_speed  noise_volume  \\\n",
       "0  {'add_to_x': 3, 'add_to_y': 49}              50            70   \n",
       "\n",
       "                                noise_pollution_area  \\\n",
       "0  POLYGON ((1291102.615565773 1421318.18690883, ...   \n",
       "\n",
       "                                       movement_area      h3_polyfill  \n",
       "0  POLYGON ((1292086.615565773 1422220.18690883, ...  8f1fad1b16a4520  "
      ]
     },
     "execution_count": 492,
     "metadata": {},
     "output_type": "execute_result"
    }
   ],
   "source": [
    "geo_oldenburg_H3.head(1)"
   ]
  },
  {
   "cell_type": "code",
   "execution_count": null,
   "id": "173755d4",
   "metadata": {},
   "outputs": [],
   "source": [
    "geo_oldenburg_H3.hvplot(line_width=0.1, frame_width=800, frame_height=800)"
   ]
  },
  {
   "cell_type": "code",
   "execution_count": 496,
   "id": "fa131eea",
   "metadata": {},
   "outputs": [
    {
     "data": {
      "text/html": [
       "<div>\n",
       "<style scoped>\n",
       "    .dataframe tbody tr th:only-of-type {\n",
       "        vertical-align: middle;\n",
       "    }\n",
       "\n",
       "    .dataframe tbody tr th {\n",
       "        vertical-align: top;\n",
       "    }\n",
       "\n",
       "    .dataframe thead th {\n",
       "        text-align: right;\n",
       "    }\n",
       "</style>\n",
       "<table border=\"1\" class=\"dataframe\">\n",
       "  <thead>\n",
       "    <tr style=\"text-align: right;\">\n",
       "      <th></th>\n",
       "      <th>h3_polyfill</th>\n",
       "      <th>amount</th>\n",
       "    </tr>\n",
       "  </thead>\n",
       "  <tbody>\n",
       "    <tr>\n",
       "      <th>0</th>\n",
       "      <td>8f1fad186112800</td>\n",
       "      <td>1</td>\n",
       "    </tr>\n",
       "    <tr>\n",
       "      <th>387414</th>\n",
       "      <td>8f1fad1b16cb665</td>\n",
       "      <td>1</td>\n",
       "    </tr>\n",
       "    <tr>\n",
       "      <th>387413</th>\n",
       "      <td>8f1fad1b16cb664</td>\n",
       "      <td>1</td>\n",
       "    </tr>\n",
       "    <tr>\n",
       "      <th>387412</th>\n",
       "      <td>8f1fad1b16cb663</td>\n",
       "      <td>1</td>\n",
       "    </tr>\n",
       "    <tr>\n",
       "      <th>387411</th>\n",
       "      <td>8f1fad1b16cb662</td>\n",
       "      <td>1</td>\n",
       "    </tr>\n",
       "    <tr>\n",
       "      <th>...</th>\n",
       "      <td>...</td>\n",
       "      <td>...</td>\n",
       "    </tr>\n",
       "    <tr>\n",
       "      <th>361861</th>\n",
       "      <td>8f1fad1b169dc13</td>\n",
       "      <td>7</td>\n",
       "    </tr>\n",
       "    <tr>\n",
       "      <th>361862</th>\n",
       "      <td>8f1fad1b169dc14</td>\n",
       "      <td>7</td>\n",
       "    </tr>\n",
       "    <tr>\n",
       "      <th>361889</th>\n",
       "      <td>8f1fad1b169dc33</td>\n",
       "      <td>7</td>\n",
       "    </tr>\n",
       "    <tr>\n",
       "      <th>361982</th>\n",
       "      <td>8f1fad1b169dcad</td>\n",
       "      <td>7</td>\n",
       "    </tr>\n",
       "    <tr>\n",
       "      <th>361863</th>\n",
       "      <td>8f1fad1b169dc15</td>\n",
       "      <td>7</td>\n",
       "    </tr>\n",
       "  </tbody>\n",
       "</table>\n",
       "<p>610518 rows × 2 columns</p>\n",
       "</div>"
      ],
      "text/plain": [
       "            h3_polyfill  amount\n",
       "0       8f1fad186112800       1\n",
       "387414  8f1fad1b16cb665       1\n",
       "387413  8f1fad1b16cb664       1\n",
       "387412  8f1fad1b16cb663       1\n",
       "387411  8f1fad1b16cb662       1\n",
       "...                 ...     ...\n",
       "361861  8f1fad1b169dc13       7\n",
       "361862  8f1fad1b169dc14       7\n",
       "361889  8f1fad1b169dc33       7\n",
       "361982  8f1fad1b169dcad       7\n",
       "361863  8f1fad1b169dc15       7\n",
       "\n",
       "[610518 rows x 2 columns]"
      ]
     },
     "execution_count": 496,
     "metadata": {},
     "output_type": "execute_result"
    }
   ],
   "source": [
    "count_series = geo_oldenburg_H3.groupby('h3_polyfill').size()\n",
    "new_df = count_series.to_frame(name = 'amount').reset_index()\n",
    "new_df.sort_values(by=['amount'])"
   ]
  },
  {
   "cell_type": "code",
   "execution_count": null,
   "id": "f9676a95",
   "metadata": {},
   "outputs": [],
   "source": []
  },
  {
   "cell_type": "code",
   "execution_count": 500,
   "id": "0b11104f",
   "metadata": {},
   "outputs": [
    {
     "ename": "TypeError",
     "evalue": "h3_to_geo_boundary() got an unexpected keyword argument 'h3_address'",
     "output_type": "error",
     "traceback": [
      "\u001b[0;31m---------------------------------------------------------------------------\u001b[0m",
      "\u001b[0;31mTypeError\u001b[0m                                 Traceback (most recent call last)",
      "\u001b[0;32m/var/folders/z5/3hh6k5k53jlgjlzdygqlzdg80000gn/T/ipykernel_56826/1659935205.py\u001b[0m in \u001b[0;36m<module>\u001b[0;34m\u001b[0m\n\u001b[0;32m----> 1\u001b[0;31m \u001b[0mdf_aggreg\u001b[0m \u001b[0;34m=\u001b[0m \u001b[0mcounts_by_hexagon\u001b[0m\u001b[0;34m(\u001b[0m\u001b[0mdf\u001b[0m \u001b[0;34m=\u001b[0m \u001b[0mgeo_oldenburg_H3\u001b[0m\u001b[0;34m)\u001b[0m\u001b[0;34m\u001b[0m\u001b[0;34m\u001b[0m\u001b[0m\n\u001b[0m\u001b[1;32m      2\u001b[0m \u001b[0;34m\u001b[0m\u001b[0m\n\u001b[1;32m      3\u001b[0m \u001b[0;34m\u001b[0m\u001b[0m\n\u001b[1;32m      4\u001b[0m \u001b[0;31m#df_aggreg.sort_values(by = \"value\", ascending = False, inplace = True)\u001b[0m\u001b[0;34m\u001b[0m\u001b[0;34m\u001b[0m\u001b[0;34m\u001b[0m\u001b[0m\n\u001b[1;32m      5\u001b[0m \u001b[0;31m# Creates a map using Folium\u001b[0m\u001b[0;34m\u001b[0m\u001b[0;34m\u001b[0m\u001b[0;34m\u001b[0m\u001b[0m\n",
      "\u001b[0;32m/var/folders/z5/3hh6k5k53jlgjlzdygqlzdg80000gn/T/ipykernel_56826/3722755175.py\u001b[0m in \u001b[0;36mcounts_by_hexagon\u001b[0;34m(df)\u001b[0m\n\u001b[1;32m     12\u001b[0m     \u001b[0mdf_aggreg\u001b[0m\u001b[0;34m.\u001b[0m\u001b[0mcolumns\u001b[0m \u001b[0;34m=\u001b[0m \u001b[0;34m[\u001b[0m\u001b[0;34m\"h3_polyfill\"\u001b[0m\u001b[0;34m,\u001b[0m \u001b[0;34m\"value\"\u001b[0m\u001b[0;34m]\u001b[0m\u001b[0;34m\u001b[0m\u001b[0;34m\u001b[0m\u001b[0m\n\u001b[1;32m     13\u001b[0m \u001b[0;34m\u001b[0m\u001b[0m\n\u001b[0;32m---> 14\u001b[0;31m     df_aggreg[\"geometry\"] =  df_aggreg.h3_polyfill.apply(lambda x: \n\u001b[0m\u001b[1;32m     15\u001b[0m                                                            {    \"type\" : \"Polygon\",\n\u001b[1;32m     16\u001b[0m                                                                  \u001b[0;34m\"coordinates\"\u001b[0m\u001b[0;34m:\u001b[0m\u001b[0;34m\u001b[0m\u001b[0;34m\u001b[0m\u001b[0m\n",
      "\u001b[0;32m~/miniconda3/envs/noise-simulation/lib/python3.7/site-packages/pandas/core/series.py\u001b[0m in \u001b[0;36mapply\u001b[0;34m(self, func, convert_dtype, args, **kwargs)\u001b[0m\n\u001b[1;32m   4355\u001b[0m         \u001b[0mdtype\u001b[0m\u001b[0;34m:\u001b[0m \u001b[0mfloat64\u001b[0m\u001b[0;34m\u001b[0m\u001b[0;34m\u001b[0m\u001b[0m\n\u001b[1;32m   4356\u001b[0m         \"\"\"\n\u001b[0;32m-> 4357\u001b[0;31m         \u001b[0;32mreturn\u001b[0m \u001b[0mSeriesApply\u001b[0m\u001b[0;34m(\u001b[0m\u001b[0mself\u001b[0m\u001b[0;34m,\u001b[0m \u001b[0mfunc\u001b[0m\u001b[0;34m,\u001b[0m \u001b[0mconvert_dtype\u001b[0m\u001b[0;34m,\u001b[0m \u001b[0margs\u001b[0m\u001b[0;34m,\u001b[0m \u001b[0mkwargs\u001b[0m\u001b[0;34m)\u001b[0m\u001b[0;34m.\u001b[0m\u001b[0mapply\u001b[0m\u001b[0;34m(\u001b[0m\u001b[0;34m)\u001b[0m\u001b[0;34m\u001b[0m\u001b[0;34m\u001b[0m\u001b[0m\n\u001b[0m\u001b[1;32m   4358\u001b[0m \u001b[0;34m\u001b[0m\u001b[0m\n\u001b[1;32m   4359\u001b[0m     def _reduce(\n",
      "\u001b[0;32m~/miniconda3/envs/noise-simulation/lib/python3.7/site-packages/pandas/core/apply.py\u001b[0m in \u001b[0;36mapply\u001b[0;34m(self)\u001b[0m\n\u001b[1;32m   1041\u001b[0m             \u001b[0;32mreturn\u001b[0m \u001b[0mself\u001b[0m\u001b[0;34m.\u001b[0m\u001b[0mapply_str\u001b[0m\u001b[0;34m(\u001b[0m\u001b[0;34m)\u001b[0m\u001b[0;34m\u001b[0m\u001b[0;34m\u001b[0m\u001b[0m\n\u001b[1;32m   1042\u001b[0m \u001b[0;34m\u001b[0m\u001b[0m\n\u001b[0;32m-> 1043\u001b[0;31m         \u001b[0;32mreturn\u001b[0m \u001b[0mself\u001b[0m\u001b[0;34m.\u001b[0m\u001b[0mapply_standard\u001b[0m\u001b[0;34m(\u001b[0m\u001b[0;34m)\u001b[0m\u001b[0;34m\u001b[0m\u001b[0;34m\u001b[0m\u001b[0m\n\u001b[0m\u001b[1;32m   1044\u001b[0m \u001b[0;34m\u001b[0m\u001b[0m\n\u001b[1;32m   1045\u001b[0m     \u001b[0;32mdef\u001b[0m \u001b[0magg\u001b[0m\u001b[0;34m(\u001b[0m\u001b[0mself\u001b[0m\u001b[0;34m)\u001b[0m\u001b[0;34m:\u001b[0m\u001b[0;34m\u001b[0m\u001b[0;34m\u001b[0m\u001b[0m\n",
      "\u001b[0;32m~/miniconda3/envs/noise-simulation/lib/python3.7/site-packages/pandas/core/apply.py\u001b[0m in \u001b[0;36mapply_standard\u001b[0;34m(self)\u001b[0m\n\u001b[1;32m   1099\u001b[0m                     \u001b[0mvalues\u001b[0m\u001b[0;34m,\u001b[0m\u001b[0;34m\u001b[0m\u001b[0;34m\u001b[0m\u001b[0m\n\u001b[1;32m   1100\u001b[0m                     \u001b[0mf\u001b[0m\u001b[0;34m,\u001b[0m  \u001b[0;31m# type: ignore[arg-type]\u001b[0m\u001b[0;34m\u001b[0m\u001b[0;34m\u001b[0m\u001b[0m\n\u001b[0;32m-> 1101\u001b[0;31m                     \u001b[0mconvert\u001b[0m\u001b[0;34m=\u001b[0m\u001b[0mself\u001b[0m\u001b[0;34m.\u001b[0m\u001b[0mconvert_dtype\u001b[0m\u001b[0;34m,\u001b[0m\u001b[0;34m\u001b[0m\u001b[0;34m\u001b[0m\u001b[0m\n\u001b[0m\u001b[1;32m   1102\u001b[0m                 )\n\u001b[1;32m   1103\u001b[0m \u001b[0;34m\u001b[0m\u001b[0m\n",
      "\u001b[0;32m~/miniconda3/envs/noise-simulation/lib/python3.7/site-packages/pandas/_libs/lib.pyx\u001b[0m in \u001b[0;36mpandas._libs.lib.map_infer\u001b[0;34m()\u001b[0m\n",
      "\u001b[0;32m/var/folders/z5/3hh6k5k53jlgjlzdygqlzdg80000gn/T/ipykernel_56826/3722755175.py\u001b[0m in \u001b[0;36m<lambda>\u001b[0;34m(x)\u001b[0m\n\u001b[1;32m     15\u001b[0m                                                            {    \"type\" : \"Polygon\",\n\u001b[1;32m     16\u001b[0m                                                                  \u001b[0;34m\"coordinates\"\u001b[0m\u001b[0;34m:\u001b[0m\u001b[0;34m\u001b[0m\u001b[0;34m\u001b[0m\u001b[0m\n\u001b[0;32m---> 17\u001b[0;31m                                                                 \u001b[0;34m[\u001b[0m\u001b[0mh3\u001b[0m\u001b[0;34m.\u001b[0m\u001b[0mh3_to_geo_boundary\u001b[0m\u001b[0;34m(\u001b[0m\u001b[0mh3_address\u001b[0m\u001b[0;34m=\u001b[0m\u001b[0mx\u001b[0m\u001b[0;34m,\u001b[0m\u001b[0mgeo_json\u001b[0m\u001b[0;34m=\u001b[0m\u001b[0;32mTrue\u001b[0m\u001b[0;34m)\u001b[0m\u001b[0;34m]\u001b[0m\u001b[0;34m\u001b[0m\u001b[0;34m\u001b[0m\u001b[0m\n\u001b[0m\u001b[1;32m     18\u001b[0m                                                             }\n\u001b[1;32m     19\u001b[0m                                                         )\n",
      "\u001b[0;31mTypeError\u001b[0m: h3_to_geo_boundary() got an unexpected keyword argument 'h3_address'"
     ]
    }
   ],
   "source": [
    "df_aggreg = counts_by_hexagon(df = geo_oldenburg_H3)\n",
    "\n",
    "\n",
    "#df_aggreg.sort_values(by = \"value\", ascending = False, inplace = True)\n",
    "# Creates a map using Folium\n",
    "#hexmap = choropleth_map(df_aggreg = df_aggreg, with_legend = True)"
   ]
  },
  {
   "cell_type": "code",
   "execution_count": 117,
   "id": "5a5d9ac4",
   "metadata": {
    "scrolled": true
   },
   "outputs": [
    {
     "ename": "ValueError",
     "evalue": "x attribute access only provided for Point geometries",
     "output_type": "error",
     "traceback": [
      "\u001b[0;31m---------------------------------------------------------------------------\u001b[0m",
      "\u001b[0;31mValueError\u001b[0m                                Traceback (most recent call last)",
      "\u001b[0;32m/var/folders/z5/3hh6k5k53jlgjlzdygqlzdg80000gn/T/ipykernel_56826/1406562929.py\u001b[0m in \u001b[0;36m<module>\u001b[0;34m\u001b[0m\n\u001b[1;32m      8\u001b[0m \u001b[0mgeo_oldenburg\u001b[0m\u001b[0;34m[\u001b[0m\u001b[0;34m'count'\u001b[0m\u001b[0;34m]\u001b[0m\u001b[0;34m=\u001b[0m\u001b[0;36m1\u001b[0m\u001b[0;34m\u001b[0m\u001b[0;34m\u001b[0m\u001b[0m\n\u001b[1;32m      9\u001b[0m \u001b[0;31m#geo_oldenburg = geo_oldenburg.drop(columns=['movement_speed', 'noise_volume','geometry'])\u001b[0m\u001b[0;34m\u001b[0m\u001b[0;34m\u001b[0m\u001b[0;34m\u001b[0m\u001b[0m\n\u001b[0;32m---> 10\u001b[0;31m \u001b[0mdf\u001b[0m \u001b[0;34m=\u001b[0m \u001b[0mgeo_oldenburg\u001b[0m\u001b[0;34m.\u001b[0m\u001b[0mh3\u001b[0m\u001b[0;34m.\u001b[0m\u001b[0mgeo_to_h3\u001b[0m\u001b[0;34m(\u001b[0m\u001b[0;36m8\u001b[0m\u001b[0;34m)\u001b[0m\u001b[0;34m\u001b[0m\u001b[0;34m\u001b[0m\u001b[0m\n\u001b[0m\u001b[1;32m     11\u001b[0m \u001b[0;34m\u001b[0m\u001b[0m\n\u001b[1;32m     12\u001b[0m \u001b[0;31m#.groupby('h3_08').sum()\u001b[0m\u001b[0;34m\u001b[0m\u001b[0;34m\u001b[0m\u001b[0;34m\u001b[0m\u001b[0m\n",
      "\u001b[0;32m~/miniconda3/envs/noise-simulation/lib/python3.7/site-packages/h3pandas/h3pandas.py\u001b[0m in \u001b[0;36mgeo_to_h3\u001b[0;34m(self, resolution, lat_col, lng_col, set_index)\u001b[0m\n\u001b[1;32m     87\u001b[0m         \"\"\"\n\u001b[1;32m     88\u001b[0m         \u001b[0;32mif\u001b[0m \u001b[0misinstance\u001b[0m\u001b[0;34m(\u001b[0m\u001b[0mself\u001b[0m\u001b[0;34m.\u001b[0m\u001b[0m_df\u001b[0m\u001b[0;34m,\u001b[0m \u001b[0mgpd\u001b[0m\u001b[0;34m.\u001b[0m\u001b[0mGeoDataFrame\u001b[0m\u001b[0;34m)\u001b[0m\u001b[0;34m:\u001b[0m\u001b[0;34m\u001b[0m\u001b[0;34m\u001b[0m\u001b[0m\n\u001b[0;32m---> 89\u001b[0;31m             \u001b[0mlngs\u001b[0m \u001b[0;34m=\u001b[0m \u001b[0mself\u001b[0m\u001b[0;34m.\u001b[0m\u001b[0m_df\u001b[0m\u001b[0;34m.\u001b[0m\u001b[0mgeometry\u001b[0m\u001b[0;34m.\u001b[0m\u001b[0mx\u001b[0m\u001b[0;34m\u001b[0m\u001b[0;34m\u001b[0m\u001b[0m\n\u001b[0m\u001b[1;32m     90\u001b[0m             \u001b[0mlats\u001b[0m \u001b[0;34m=\u001b[0m \u001b[0mself\u001b[0m\u001b[0;34m.\u001b[0m\u001b[0m_df\u001b[0m\u001b[0;34m.\u001b[0m\u001b[0mgeometry\u001b[0m\u001b[0;34m.\u001b[0m\u001b[0my\u001b[0m\u001b[0;34m\u001b[0m\u001b[0;34m\u001b[0m\u001b[0m\n\u001b[1;32m     91\u001b[0m         \u001b[0;32melse\u001b[0m\u001b[0;34m:\u001b[0m\u001b[0;34m\u001b[0m\u001b[0;34m\u001b[0m\u001b[0m\n",
      "\u001b[0;32m~/miniconda3/envs/noise-simulation/lib/python3.7/site-packages/geopandas/geoseries.py\u001b[0m in \u001b[0;36mx\u001b[0;34m(self)\u001b[0m\n\u001b[1;32m    267\u001b[0m \u001b[0;34m\u001b[0m\u001b[0m\n\u001b[1;32m    268\u001b[0m         \"\"\"\n\u001b[0;32m--> 269\u001b[0;31m         \u001b[0;32mreturn\u001b[0m \u001b[0m_delegate_property\u001b[0m\u001b[0;34m(\u001b[0m\u001b[0;34m\"x\"\u001b[0m\u001b[0;34m,\u001b[0m \u001b[0mself\u001b[0m\u001b[0;34m)\u001b[0m\u001b[0;34m\u001b[0m\u001b[0;34m\u001b[0m\u001b[0m\n\u001b[0m\u001b[1;32m    270\u001b[0m \u001b[0;34m\u001b[0m\u001b[0m\n\u001b[1;32m    271\u001b[0m     \u001b[0;34m@\u001b[0m\u001b[0mproperty\u001b[0m\u001b[0;34m\u001b[0m\u001b[0;34m\u001b[0m\u001b[0m\n",
      "\u001b[0;32m~/miniconda3/envs/noise-simulation/lib/python3.7/site-packages/geopandas/base.py\u001b[0m in \u001b[0;36m_delegate_property\u001b[0;34m(op, this)\u001b[0m\n\u001b[1;32m     65\u001b[0m     \u001b[0;31m# type: (str, GeoSeries) -> GeoSeries/Series\u001b[0m\u001b[0;34m\u001b[0m\u001b[0;34m\u001b[0m\u001b[0;34m\u001b[0m\u001b[0m\n\u001b[1;32m     66\u001b[0m     \u001b[0ma_this\u001b[0m \u001b[0;34m=\u001b[0m \u001b[0mGeometryArray\u001b[0m\u001b[0;34m(\u001b[0m\u001b[0mthis\u001b[0m\u001b[0;34m.\u001b[0m\u001b[0mgeometry\u001b[0m\u001b[0;34m.\u001b[0m\u001b[0mvalues\u001b[0m\u001b[0;34m)\u001b[0m\u001b[0;34m\u001b[0m\u001b[0;34m\u001b[0m\u001b[0m\n\u001b[0;32m---> 67\u001b[0;31m     \u001b[0mdata\u001b[0m \u001b[0;34m=\u001b[0m \u001b[0mgetattr\u001b[0m\u001b[0;34m(\u001b[0m\u001b[0ma_this\u001b[0m\u001b[0;34m,\u001b[0m \u001b[0mop\u001b[0m\u001b[0;34m)\u001b[0m\u001b[0;34m\u001b[0m\u001b[0;34m\u001b[0m\u001b[0m\n\u001b[0m\u001b[1;32m     68\u001b[0m     \u001b[0;32mif\u001b[0m \u001b[0misinstance\u001b[0m\u001b[0;34m(\u001b[0m\u001b[0mdata\u001b[0m\u001b[0;34m,\u001b[0m \u001b[0mGeometryArray\u001b[0m\u001b[0;34m)\u001b[0m\u001b[0;34m:\u001b[0m\u001b[0;34m\u001b[0m\u001b[0;34m\u001b[0m\u001b[0m\n\u001b[1;32m     69\u001b[0m         \u001b[0;32mfrom\u001b[0m \u001b[0;34m.\u001b[0m\u001b[0mgeoseries\u001b[0m \u001b[0;32mimport\u001b[0m \u001b[0mGeoSeries\u001b[0m\u001b[0;34m\u001b[0m\u001b[0;34m\u001b[0m\u001b[0m\n",
      "\u001b[0;32m~/miniconda3/envs/noise-simulation/lib/python3.7/site-packages/geopandas/array.py\u001b[0m in \u001b[0;36mx\u001b[0;34m(self)\u001b[0m\n\u001b[1;32m    882\u001b[0m         \u001b[0;32melse\u001b[0m\u001b[0;34m:\u001b[0m\u001b[0;34m\u001b[0m\u001b[0;34m\u001b[0m\u001b[0m\n\u001b[1;32m    883\u001b[0m             \u001b[0mmessage\u001b[0m \u001b[0;34m=\u001b[0m \u001b[0;34m\"x attribute access only provided for Point geometries\"\u001b[0m\u001b[0;34m\u001b[0m\u001b[0;34m\u001b[0m\u001b[0m\n\u001b[0;32m--> 884\u001b[0;31m             \u001b[0;32mraise\u001b[0m \u001b[0mValueError\u001b[0m\u001b[0;34m(\u001b[0m\u001b[0mmessage\u001b[0m\u001b[0;34m)\u001b[0m\u001b[0;34m\u001b[0m\u001b[0;34m\u001b[0m\u001b[0m\n\u001b[0m\u001b[1;32m    885\u001b[0m \u001b[0;34m\u001b[0m\u001b[0m\n\u001b[1;32m    886\u001b[0m     \u001b[0;34m@\u001b[0m\u001b[0mproperty\u001b[0m\u001b[0;34m\u001b[0m\u001b[0;34m\u001b[0m\u001b[0m\n",
      "\u001b[0;31mValueError\u001b[0m: x attribute access only provided for Point geometries"
     ]
    }
   ],
   "source": [
    "import h3pandas as h3\n",
    "\n",
    "resolution = 5\n",
    "geo_oldenburg = geopd.GeoDataFrame(oldenburdf, crs=3763)\n",
    "geo_oldenburg['noise_pollution_area']= oldenburdf['geometry'].apply(lambda x: x.buffer(10, cap_style=1))\n",
    "geo_oldenburg = geo_oldenburg.set_geometry('noise_pollution_area')\n",
    "geo_oldenburg = geo_oldenburg.to_crs(4326)\n",
    "geo_oldenburg['count']=1\n",
    "#geo_oldenburg = geo_oldenburg.drop(columns=['movement_speed', 'noise_volume','geometry'])\n",
    "df = geo_oldenburg.h3.geo_to_h3(8)\n",
    "\n",
    "#.groupby('h3_08').sum()\n",
    "#df = df.h3.h3_to_geo_boundary()\n",
    "#df.plot(column='count', figsize=(10, 10))\n",
    "\n",
    "#df = geo_oldenburg.h3.geo_to_h3(6)\n",
    "\n",
    "#polyfill_resample(4)\n",
    "\n",
    "#box2 = geopd.GeoDataFrame(geometry=[box(adsa.bounds[0], adsa.bounds[1], adsa.bounds[2], adsa.bounds[3])])\n",
    "#box2.h3.polyfill_resample(4)\n",
    "#gdf = gpd.GeoDataFrame(geometry=[box(0, 0, 1, 1)])\n",
    "#adsa.h3.polyfill(4, explode=True)\n"
   ]
  },
  {
   "cell_type": "code",
   "execution_count": 107,
   "id": "9bd44d69",
   "metadata": {},
   "outputs": [],
   "source": [
    "#geo_oldenburg = geo_oldenburg.set_geometry('noise_pollution_area')\n",
    "#geo_oldenburg = geo_oldenburg.to_crs(3763)\n",
    "#area = geo_oldenburg['noise_pollution_area'][0]\n",
    "#geopd.GeoDataFrame(geometry=[area], crs=3763)"
   ]
  },
  {
   "cell_type": "code",
   "execution_count": 14,
   "id": "13c540cf",
   "metadata": {},
   "outputs": [],
   "source": [
    "#poly1 = {'type': 'Polygon',\n",
    "# 'coordinates': [[[37.813318999983238, -122.4089866999972145],\n",
    "# [ 37.7866302000007224, -122.3805436999997056 ],\n",
    "# [37.7198061999978478, -122.3544736999993603],\n",
    "# [ 37.7076131999975672, -122.5123436999983966 ],\n",
    "# [37.7835871999971715, -122.5247187000021967],\n",
    "# [37.8151571999998453, -122.4798767000009008]]] }\n",
    "#hexagons = h3.polyfill(poly1, 10)\n"
   ]
  },
  {
   "cell_type": "code",
   "execution_count": 15,
   "id": "78f17c11",
   "metadata": {
    "tags": [
     "testing"
    ]
   },
   "outputs": [],
   "source": [
    "#oldenburggg = gdf[gdf['NAME_3'] == 'Oldenburg']\n",
    "#oldenburggg = oldenburggg.to_crs(4326)\n",
    "#oldenburgbase = oldenburggg.plot(color='white', edgecolor='black', cmap='Reds')\n"
   ]
  },
  {
   "cell_type": "code",
   "execution_count": 16,
   "id": "9abf2722",
   "metadata": {
    "tags": [
     "testing"
    ]
   },
   "outputs": [],
   "source": [
    "#qeqweq = geopd.GeoDataFrame(geometry=[gdf['geometry'].iloc[0]], crs=3763)\n",
    "#qqqq = qeqweq.to_crs(4326)\n",
    "#qqqq.h3.polyfill(9)"
   ]
  },
  {
   "cell_type": "code",
   "execution_count": 17,
   "id": "512a9998",
   "metadata": {
    "tags": [
     "Testing"
    ]
   },
   "outputs": [],
   "source": [
    "#point = Point(1113609.354852433,1610841.474073912)\n",
    "#circle_by_poitn_df = geopd.GeoDataFrame(geometry=[point], crs=3763)\n",
    "\n",
    "#circle_by_poitn_df['geometry'] = circle_by_poitn_df['geometry'][0].buffer(10,0)\n",
    "#circle_by_poitn_df = circle_by_poitn_df.to_crs(4326)\n",
    "#circle_by_poitn_df['geometry'] = circle_by_poitn_df['geometry'][0].buffer(10,0)\n",
    "#circle_by_poitn_df = circle_by_poitn_df.set_geometry('buffer')\n",
    "#circle_by_poitn_df.h3.polyfill_resample(5).plot()\n"
   ]
  },
  {
   "cell_type": "code",
   "execution_count": 260,
   "id": "9add8260",
   "metadata": {},
   "outputs": [],
   "source": [
    "point = Point(1113609.354852433,1610841.474073912)\n",
    "circle_by_poitn_df = geopd.GeoDataFrame(geometry=[point], crs=3763)"
   ]
  },
  {
   "cell_type": "code",
   "execution_count": 261,
   "id": "69908ac4",
   "metadata": {
    "tags": [
     "Problem"
    ]
   },
   "outputs": [],
   "source": [
    "circle_by_poitn_df['geometry'] = circle_by_poitn_df['geometry'][0].buffer(10,1)\n",
    "circle_by_poitn_df = circle_by_poitn_df.set_geometry('geometry')\n",
    "circle_by_poitn_df = circle_by_poitn_df.to_crs(4326)\n",
    "\n",
    "#circle_by_poitn_df_h3.head(5)"
   ]
  },
  {
   "cell_type": "code",
   "execution_count": 262,
   "id": "af7d2d6a",
   "metadata": {},
   "outputs": [
    {
     "data": {
      "text/plain": [
       "<AxesSubplot:>"
      ]
     },
     "execution_count": 262,
     "metadata": {},
     "output_type": "execute_result"
    },
    {
     "data": {
      "image/png": "[encoded data removed]",
      "text/plain": [
       "<Figure size 432x288 with 1 Axes>"
      ]
     },
     "metadata": {
      "needs_background": "light"
     },
     "output_type": "display_data"
    }
   ],
   "source": [
    "circle_by_poitn_df.plot()"
   ]
  },
  {
   "cell_type": "code",
   "execution_count": null,
   "id": "b9964df7",
   "metadata": {},
   "outputs": [],
   "source": []
  },
  {
   "cell_type": "code",
   "execution_count": 256,
   "id": "ca15ae50",
   "metadata": {},
   "outputs": [
    {
     "ename": "ValueError",
     "evalue": "H3 method raised an error. Is the H3 address correct?\nCaller: h3_to_geo_boundary(nan)\nOriginal error: TypeError(\"Argument 'h' has incorrect type (expected str, got float)\")",
     "output_type": "error",
     "traceback": [
      "\u001b[0;31m---------------------------------------------------------------------------\u001b[0m",
      "\u001b[0;31mTypeError\u001b[0m                                 Traceback (most recent call last)",
      "\u001b[0;32m~/miniconda3/envs/noise-simulation/lib/python3.7/site-packages/h3pandas/util/decorator.py\u001b[0m in \u001b[0;36msafe_f\u001b[0;34m(*args, **kwargs)\u001b[0m\n\u001b[1;32m     26\u001b[0m         \u001b[0;32mtry\u001b[0m\u001b[0;34m:\u001b[0m\u001b[0;34m\u001b[0m\u001b[0;34m\u001b[0m\u001b[0m\n\u001b[0;32m---> 27\u001b[0;31m             \u001b[0;32mreturn\u001b[0m \u001b[0mf\u001b[0m\u001b[0;34m(\u001b[0m\u001b[0;34m*\u001b[0m\u001b[0margs\u001b[0m\u001b[0;34m,\u001b[0m \u001b[0;34m**\u001b[0m\u001b[0mkwargs\u001b[0m\u001b[0;34m)\u001b[0m\u001b[0;34m\u001b[0m\u001b[0;34m\u001b[0m\u001b[0m\n\u001b[0m\u001b[1;32m     28\u001b[0m         \u001b[0;32mexcept\u001b[0m \u001b[0;34m(\u001b[0m\u001b[0mTypeError\u001b[0m\u001b[0;34m,\u001b[0m \u001b[0mValueError\u001b[0m\u001b[0;34m,\u001b[0m \u001b[0mH3CellError\u001b[0m\u001b[0;34m)\u001b[0m \u001b[0;32mas\u001b[0m \u001b[0me\u001b[0m\u001b[0;34m:\u001b[0m\u001b[0;34m\u001b[0m\u001b[0;34m\u001b[0m\u001b[0m\n",
      "\u001b[0;32m~/miniconda3/envs/noise-simulation/lib/python3.7/site-packages/h3/api/_api_template.py\u001b[0m in \u001b[0;36mh3_to_geo_boundary\u001b[0;34m(h, geo_json)\u001b[0m\n\u001b[1;32m    286\u001b[0m         \"\"\"\n\u001b[0;32m--> 287\u001b[0;31m         \u001b[0;32mreturn\u001b[0m \u001b[0m_cy\u001b[0m\u001b[0;34m.\u001b[0m\u001b[0mcell_boundary\u001b[0m\u001b[0;34m(\u001b[0m\u001b[0m_in_scalar\u001b[0m\u001b[0;34m(\u001b[0m\u001b[0mh\u001b[0m\u001b[0;34m)\u001b[0m\u001b[0;34m,\u001b[0m \u001b[0mgeo_json\u001b[0m\u001b[0;34m)\u001b[0m\u001b[0;34m\u001b[0m\u001b[0;34m\u001b[0m\u001b[0m\n\u001b[0m\u001b[1;32m    288\u001b[0m \u001b[0;34m\u001b[0m\u001b[0m\n",
      "\u001b[0;31mTypeError\u001b[0m: Argument 'h' has incorrect type (expected str, got float)",
      "\nDuring handling of the above exception, another exception occurred:\n",
      "\u001b[0;31mValueError\u001b[0m                                Traceback (most recent call last)",
      "\u001b[0;32m/var/folders/z5/3hh6k5k53jlgjlzdygqlzdg80000gn/T/ipykernel_55355/1916494909.py\u001b[0m in \u001b[0;36m<module>\u001b[0;34m\u001b[0m\n\u001b[0;32m----> 1\u001b[0;31m \u001b[0mcircle_by_poitn_df\u001b[0m\u001b[0;34m.\u001b[0m\u001b[0mh3\u001b[0m\u001b[0;34m.\u001b[0m\u001b[0mpolyfill_resample\u001b[0m\u001b[0;34m(\u001b[0m\u001b[0;36m3\u001b[0m\u001b[0;34m)\u001b[0m\u001b[0;34m\u001b[0m\u001b[0;34m\u001b[0m\u001b[0m\n\u001b[0m",
      "\u001b[0;32m~/miniconda3/envs/noise-simulation/lib/python3.7/site-packages/h3pandas/h3pandas.py\u001b[0m in \u001b[0;36mpolyfill_resample\u001b[0;34m(self, resolution, return_geometry)\u001b[0m\n\u001b[1;32m    748\u001b[0m         \u001b[0mresult\u001b[0m \u001b[0;34m=\u001b[0m \u001b[0mresult\u001b[0m\u001b[0;34m.\u001b[0m\u001b[0mreset_index\u001b[0m\u001b[0;34m(\u001b[0m\u001b[0;34m)\u001b[0m\u001b[0;34m.\u001b[0m\u001b[0mset_index\u001b[0m\u001b[0;34m(\u001b[0m\u001b[0mCOLUMN_H3_POLYFILL\u001b[0m\u001b[0;34m)\u001b[0m\u001b[0;34m\u001b[0m\u001b[0;34m\u001b[0m\u001b[0m\n\u001b[1;32m    749\u001b[0m \u001b[0;34m\u001b[0m\u001b[0m\n\u001b[0;32m--> 750\u001b[0;31m         \u001b[0;32mreturn\u001b[0m \u001b[0mresult\u001b[0m\u001b[0;34m.\u001b[0m\u001b[0mh3\u001b[0m\u001b[0;34m.\u001b[0m\u001b[0mh3_to_geo_boundary\u001b[0m\u001b[0;34m(\u001b[0m\u001b[0;34m)\u001b[0m \u001b[0;32mif\u001b[0m \u001b[0mreturn_geometry\u001b[0m \u001b[0;32melse\u001b[0m \u001b[0mresult\u001b[0m\u001b[0;34m\u001b[0m\u001b[0;34m\u001b[0m\u001b[0m\n\u001b[0m\u001b[1;32m    751\u001b[0m \u001b[0;34m\u001b[0m\u001b[0m\n\u001b[1;32m    752\u001b[0m     \u001b[0;31m# Private methods\u001b[0m\u001b[0;34m\u001b[0m\u001b[0;34m\u001b[0m\u001b[0;34m\u001b[0m\u001b[0m\n",
      "\u001b[0;32m~/miniconda3/envs/noise-simulation/lib/python3.7/site-packages/h3pandas/h3pandas.py\u001b[0m in \u001b[0;36mh3_to_geo_boundary\u001b[0;34m(self)\u001b[0m\n\u001b[1;32m    163\u001b[0m             \u001b[0;34m\"geometry\"\u001b[0m\u001b[0;34m,\u001b[0m\u001b[0;34m\u001b[0m\u001b[0;34m\u001b[0m\u001b[0m\n\u001b[1;32m    164\u001b[0m             \u001b[0;32mlambda\u001b[0m \u001b[0mx\u001b[0m\u001b[0;34m:\u001b[0m \u001b[0mshapely\u001b[0m\u001b[0;34m.\u001b[0m\u001b[0mgeometry\u001b[0m\u001b[0;34m.\u001b[0m\u001b[0mPolygon\u001b[0m\u001b[0;34m(\u001b[0m\u001b[0mx\u001b[0m\u001b[0;34m)\u001b[0m\u001b[0;34m,\u001b[0m\u001b[0;34m\u001b[0m\u001b[0;34m\u001b[0m\u001b[0m\n\u001b[0;32m--> 165\u001b[0;31m             \u001b[0;32mlambda\u001b[0m \u001b[0mx\u001b[0m\u001b[0;34m:\u001b[0m \u001b[0mgpd\u001b[0m\u001b[0;34m.\u001b[0m\u001b[0mGeoDataFrame\u001b[0m\u001b[0;34m(\u001b[0m\u001b[0mx\u001b[0m\u001b[0;34m,\u001b[0m \u001b[0mcrs\u001b[0m\u001b[0;34m=\u001b[0m\u001b[0;34m\"epsg:4326\"\u001b[0m\u001b[0;34m)\u001b[0m\u001b[0;34m,\u001b[0m\u001b[0;34m\u001b[0m\u001b[0;34m\u001b[0m\u001b[0m\n\u001b[0m\u001b[1;32m    166\u001b[0m         )\n\u001b[1;32m    167\u001b[0m \u001b[0;34m\u001b[0m\u001b[0m\n",
      "\u001b[0;32m~/miniconda3/envs/noise-simulation/lib/python3.7/site-packages/h3pandas/h3pandas.py\u001b[0m in \u001b[0;36m_apply_index_assign\u001b[0;34m(self, func, column_name, processor, finalizer)\u001b[0m\n\u001b[1;32m    778\u001b[0m         \"\"\"\n\u001b[1;32m    779\u001b[0m         \u001b[0mfunc\u001b[0m \u001b[0;34m=\u001b[0m \u001b[0mcatch_invalid_h3_address\u001b[0m\u001b[0;34m(\u001b[0m\u001b[0mfunc\u001b[0m\u001b[0;34m)\u001b[0m\u001b[0;34m\u001b[0m\u001b[0;34m\u001b[0m\u001b[0m\n\u001b[0;32m--> 780\u001b[0;31m         \u001b[0mresult\u001b[0m \u001b[0;34m=\u001b[0m \u001b[0;34m[\u001b[0m\u001b[0mprocessor\u001b[0m\u001b[0;34m(\u001b[0m\u001b[0mfunc\u001b[0m\u001b[0;34m(\u001b[0m\u001b[0mh3address\u001b[0m\u001b[0;34m)\u001b[0m\u001b[0;34m)\u001b[0m \u001b[0;32mfor\u001b[0m \u001b[0mh3address\u001b[0m \u001b[0;32min\u001b[0m \u001b[0mself\u001b[0m\u001b[0;34m.\u001b[0m\u001b[0m_df\u001b[0m\u001b[0;34m.\u001b[0m\u001b[0mindex\u001b[0m\u001b[0;34m]\u001b[0m\u001b[0;34m\u001b[0m\u001b[0;34m\u001b[0m\u001b[0m\n\u001b[0m\u001b[1;32m    781\u001b[0m         \u001b[0massign_args\u001b[0m \u001b[0;34m=\u001b[0m \u001b[0;34m{\u001b[0m\u001b[0mcolumn_name\u001b[0m\u001b[0;34m:\u001b[0m \u001b[0mresult\u001b[0m\u001b[0;34m}\u001b[0m\u001b[0;34m\u001b[0m\u001b[0;34m\u001b[0m\u001b[0m\n\u001b[1;32m    782\u001b[0m         \u001b[0;32mreturn\u001b[0m \u001b[0mfinalizer\u001b[0m\u001b[0;34m(\u001b[0m\u001b[0mself\u001b[0m\u001b[0;34m.\u001b[0m\u001b[0m_df\u001b[0m\u001b[0;34m.\u001b[0m\u001b[0massign\u001b[0m\u001b[0;34m(\u001b[0m\u001b[0;34m**\u001b[0m\u001b[0massign_args\u001b[0m\u001b[0;34m)\u001b[0m\u001b[0;34m)\u001b[0m\u001b[0;34m\u001b[0m\u001b[0;34m\u001b[0m\u001b[0m\n",
      "\u001b[0;32m~/miniconda3/envs/noise-simulation/lib/python3.7/site-packages/h3pandas/h3pandas.py\u001b[0m in \u001b[0;36m<listcomp>\u001b[0;34m(.0)\u001b[0m\n\u001b[1;32m    778\u001b[0m         \"\"\"\n\u001b[1;32m    779\u001b[0m         \u001b[0mfunc\u001b[0m \u001b[0;34m=\u001b[0m \u001b[0mcatch_invalid_h3_address\u001b[0m\u001b[0;34m(\u001b[0m\u001b[0mfunc\u001b[0m\u001b[0;34m)\u001b[0m\u001b[0;34m\u001b[0m\u001b[0;34m\u001b[0m\u001b[0m\n\u001b[0;32m--> 780\u001b[0;31m         \u001b[0mresult\u001b[0m \u001b[0;34m=\u001b[0m \u001b[0;34m[\u001b[0m\u001b[0mprocessor\u001b[0m\u001b[0;34m(\u001b[0m\u001b[0mfunc\u001b[0m\u001b[0;34m(\u001b[0m\u001b[0mh3address\u001b[0m\u001b[0;34m)\u001b[0m\u001b[0;34m)\u001b[0m \u001b[0;32mfor\u001b[0m \u001b[0mh3address\u001b[0m \u001b[0;32min\u001b[0m \u001b[0mself\u001b[0m\u001b[0;34m.\u001b[0m\u001b[0m_df\u001b[0m\u001b[0;34m.\u001b[0m\u001b[0mindex\u001b[0m\u001b[0;34m]\u001b[0m\u001b[0;34m\u001b[0m\u001b[0;34m\u001b[0m\u001b[0m\n\u001b[0m\u001b[1;32m    781\u001b[0m         \u001b[0massign_args\u001b[0m \u001b[0;34m=\u001b[0m \u001b[0;34m{\u001b[0m\u001b[0mcolumn_name\u001b[0m\u001b[0;34m:\u001b[0m \u001b[0mresult\u001b[0m\u001b[0;34m}\u001b[0m\u001b[0;34m\u001b[0m\u001b[0;34m\u001b[0m\u001b[0m\n\u001b[1;32m    782\u001b[0m         \u001b[0;32mreturn\u001b[0m \u001b[0mfinalizer\u001b[0m\u001b[0;34m(\u001b[0m\u001b[0mself\u001b[0m\u001b[0;34m.\u001b[0m\u001b[0m_df\u001b[0m\u001b[0;34m.\u001b[0m\u001b[0massign\u001b[0m\u001b[0;34m(\u001b[0m\u001b[0;34m**\u001b[0m\u001b[0massign_args\u001b[0m\u001b[0;34m)\u001b[0m\u001b[0;34m)\u001b[0m\u001b[0;34m\u001b[0m\u001b[0;34m\u001b[0m\u001b[0m\n",
      "\u001b[0;32m~/miniconda3/envs/noise-simulation/lib/python3.7/site-packages/h3pandas/util/decorator.py\u001b[0m in \u001b[0;36msafe_f\u001b[0;34m(*args, **kwargs)\u001b[0m\n\u001b[1;32m     30\u001b[0m             \u001b[0mmessage\u001b[0m \u001b[0;34m+=\u001b[0m \u001b[0;34mf\"\\nCaller: {f.__name__}({_print_signature(*args, **kwargs)})\"\u001b[0m\u001b[0;34m\u001b[0m\u001b[0;34m\u001b[0m\u001b[0m\n\u001b[1;32m     31\u001b[0m             \u001b[0mmessage\u001b[0m \u001b[0;34m+=\u001b[0m \u001b[0;34mf\"\\nOriginal error: {repr(e)}\"\u001b[0m\u001b[0;34m\u001b[0m\u001b[0;34m\u001b[0m\u001b[0m\n\u001b[0;32m---> 32\u001b[0;31m             \u001b[0;32mraise\u001b[0m \u001b[0mValueError\u001b[0m\u001b[0;34m(\u001b[0m\u001b[0mmessage\u001b[0m\u001b[0;34m)\u001b[0m\u001b[0;34m\u001b[0m\u001b[0;34m\u001b[0m\u001b[0m\n\u001b[0m\u001b[1;32m     33\u001b[0m \u001b[0;34m\u001b[0m\u001b[0m\n\u001b[1;32m     34\u001b[0m     \u001b[0;32mreturn\u001b[0m \u001b[0msafe_f\u001b[0m\u001b[0;34m\u001b[0m\u001b[0;34m\u001b[0m\u001b[0m\n",
      "\u001b[0;31mValueError\u001b[0m: H3 method raised an error. Is the H3 address correct?\nCaller: h3_to_geo_boundary(nan)\nOriginal error: TypeError(\"Argument 'h' has incorrect type (expected str, got float)\")"
     ]
    }
   ],
   "source": [
    "circle_by_poitn_df.h3.polyfill_resample(3)"
   ]
  },
  {
   "cell_type": "code",
   "execution_count": null,
   "id": "009f4ea4",
   "metadata": {},
   "outputs": [],
   "source": []
  },
  {
   "cell_type": "code",
   "execution_count": null,
   "id": "b9964a99",
   "metadata": {},
   "outputs": [],
   "source": []
  },
  {
   "cell_type": "code",
   "execution_count": 69,
   "id": "be8adb2c",
   "metadata": {},
   "outputs": [
    {
     "data": {
      "text/html": [
       "<div>\n",
       "<style scoped>\n",
       "    .dataframe tbody tr th:only-of-type {\n",
       "        vertical-align: middle;\n",
       "    }\n",
       "\n",
       "    .dataframe tbody tr th {\n",
       "        vertical-align: top;\n",
       "    }\n",
       "\n",
       "    .dataframe thead th {\n",
       "        text-align: right;\n",
       "    }\n",
       "</style>\n",
       "<table border=\"1\" class=\"dataframe\">\n",
       "  <thead>\n",
       "    <tr style=\"text-align: right;\">\n",
       "      <th></th>\n",
       "      <th>index</th>\n",
       "      <th>geometry</th>\n",
       "    </tr>\n",
       "    <tr>\n",
       "      <th>h3_polyfill</th>\n",
       "      <th></th>\n",
       "      <th></th>\n",
       "    </tr>\n",
       "  </thead>\n",
       "  <tbody>\n",
       "    <tr>\n",
       "      <th>833f8cfffffffff</th>\n",
       "      <td>0</td>\n",
       "      <td>POLYGON ((15.67935 28.55677, 15.69736 27.87907...</td>\n",
       "    </tr>\n",
       "    <tr>\n",
       "      <th>833912fffffffff</th>\n",
       "      <td>0</td>\n",
       "      <td>POLYGON ((-9.39799 36.68397, -9.96449 36.21506...</td>\n",
       "    </tr>\n",
       "    <tr>\n",
       "      <th>83091dfffffffff</th>\n",
       "      <td>0</td>\n",
       "      <td>POLYGON ((2.22867 65.49345, 1.34872 65.79821, ...</td>\n",
       "    </tr>\n",
       "    <tr>\n",
       "      <th>8338cbfffffffff</th>\n",
       "      <td>0</td>\n",
       "      <td>POLYGON ((8.07596 26.18440, 8.13904 25.52381, ...</td>\n",
       "    </tr>\n",
       "    <tr>\n",
       "      <th>8308a1fffffffff</th>\n",
       "      <td>0</td>\n",
       "      <td>POLYGON ((13.10360 61.67349, 13.15628 61.20073...</td>\n",
       "    </tr>\n",
       "    <tr>\n",
       "      <th>...</th>\n",
       "      <td>...</td>\n",
       "      <td>...</td>\n",
       "    </tr>\n",
       "    <tr>\n",
       "      <th>831952fffffffff</th>\n",
       "      <td>0</td>\n",
       "      <td>POLYGON ((-6.19984 54.79442, -6.95215 54.42981...</td>\n",
       "    </tr>\n",
       "    <tr>\n",
       "      <th>835961fffffffff</th>\n",
       "      <td>0</td>\n",
       "      <td>POLYGON ((9.49047 24.27756, 9.54440 23.61585, ...</td>\n",
       "    </tr>\n",
       "    <tr>\n",
       "      <th>8338edfffffffff</th>\n",
       "      <td>0</td>\n",
       "      <td>POLYGON ((6.93047 31.08032, 7.00344 30.42283, ...</td>\n",
       "    </tr>\n",
       "    <tr>\n",
       "      <th>8309b0fffffffff</th>\n",
       "      <td>0</td>\n",
       "      <td>POLYGON ((1.51382 58.55861, 0.69371 58.27703, ...</td>\n",
       "    </tr>\n",
       "    <tr>\n",
       "      <th>830800fffffffff</th>\n",
       "      <td>0</td>\n",
       "      <td>POLYGON ((9.59715 64.52809, 10.24989 64.31052,...</td>\n",
       "    </tr>\n",
       "  </tbody>\n",
       "</table>\n",
       "<p>1722 rows × 2 columns</p>\n",
       "</div>"
      ],
      "text/plain": [
       "                 index                                           geometry\n",
       "h3_polyfill                                                              \n",
       "833f8cfffffffff      0  POLYGON ((15.67935 28.55677, 15.69736 27.87907...\n",
       "833912fffffffff      0  POLYGON ((-9.39799 36.68397, -9.96449 36.21506...\n",
       "83091dfffffffff      0  POLYGON ((2.22867 65.49345, 1.34872 65.79821, ...\n",
       "8338cbfffffffff      0  POLYGON ((8.07596 26.18440, 8.13904 25.52381, ...\n",
       "8308a1fffffffff      0  POLYGON ((13.10360 61.67349, 13.15628 61.20073...\n",
       "...                ...                                                ...\n",
       "831952fffffffff      0  POLYGON ((-6.19984 54.79442, -6.95215 54.42981...\n",
       "835961fffffffff      0  POLYGON ((9.49047 24.27756, 9.54440 23.61585, ...\n",
       "8338edfffffffff      0  POLYGON ((6.93047 31.08032, 7.00344 30.42283, ...\n",
       "8309b0fffffffff      0  POLYGON ((1.51382 58.55861, 0.69371 58.27703, ...\n",
       "830800fffffffff      0  POLYGON ((9.59715 64.52809, 10.24989 64.31052,...\n",
       "\n",
       "[1722 rows x 2 columns]"
      ]
     },
     "execution_count": 69,
     "metadata": {},
     "output_type": "execute_result"
    }
   ],
   "source": [
    "circle_by_poitn_df_h3"
   ]
  },
  {
   "cell_type": "code",
   "execution_count": null,
   "id": "d3f8d344",
   "metadata": {},
   "outputs": [],
   "source": []
  },
  {
   "cell_type": "code",
   "execution_count": null,
   "id": "b6613acb",
   "metadata": {},
   "outputs": [],
   "source": []
  },
  {
   "cell_type": "code",
   "execution_count": null,
   "id": "41351688",
   "metadata": {},
   "outputs": [],
   "source": []
  },
  {
   "cell_type": "code",
   "execution_count": null,
   "id": "1cff4acf",
   "metadata": {},
   "outputs": [],
   "source": []
  },
  {
   "cell_type": "code",
   "execution_count": 20,
   "id": "19fd1fc2",
   "metadata": {},
   "outputs": [
    {
     "data": {
      "text/html": [
       "<div>\n",
       "<style scoped>\n",
       "    .dataframe tbody tr th:only-of-type {\n",
       "        vertical-align: middle;\n",
       "    }\n",
       "\n",
       "    .dataframe tbody tr th {\n",
       "        vertical-align: top;\n",
       "    }\n",
       "\n",
       "    .dataframe thead th {\n",
       "        text-align: right;\n",
       "    }\n",
       "</style>\n",
       "<table border=\"1\" class=\"dataframe\">\n",
       "  <thead>\n",
       "    <tr style=\"text-align: right;\">\n",
       "      <th></th>\n",
       "      <th>index</th>\n",
       "      <th>geometry</th>\n",
       "    </tr>\n",
       "    <tr>\n",
       "      <th>h3_polyfill</th>\n",
       "      <th></th>\n",
       "      <th></th>\n",
       "    </tr>\n",
       "  </thead>\n",
       "  <tbody>\n",
       "    <tr>\n",
       "      <th>8708164d2ffffff</th>\n",
       "      <td>0</td>\n",
       "      <td>POLYGON ((11.51583 61.68771, 11.51722 61.67815...</td>\n",
       "    </tr>\n",
       "    <tr>\n",
       "      <th>871946644ffffff</th>\n",
       "      <td>0</td>\n",
       "      <td>POLYGON ((-1.09721 54.14412, -1.11257 54.13745...</td>\n",
       "    </tr>\n",
       "    <tr>\n",
       "      <th>87098b2b1ffffff</th>\n",
       "      <td>0</td>\n",
       "      <td>POLYGON ((10.73512 61.36915, 10.73666 61.35955...</td>\n",
       "    </tr>\n",
       "    <tr>\n",
       "      <th>871faa0f3ffffff</th>\n",
       "      <td>0</td>\n",
       "      <td>POLYGON ((9.22652 49.00308, 9.22801 48.99119, ...</td>\n",
       "    </tr>\n",
       "    <tr>\n",
       "      <th>871f8a203ffffff</th>\n",
       "      <td>0</td>\n",
       "      <td>POLYGON ((10.85643 46.43315, 10.85763 46.42081...</td>\n",
       "    </tr>\n",
       "    <tr>\n",
       "      <th>...</th>\n",
       "      <td>...</td>\n",
       "      <td>...</td>\n",
       "    </tr>\n",
       "    <tr>\n",
       "      <th>871f99856ffffff</th>\n",
       "      <td>0</td>\n",
       "      <td>POLYGON ((9.55995 45.90715, 9.56133 45.89479, ...</td>\n",
       "    </tr>\n",
       "    <tr>\n",
       "      <th>871f0841cffffff</th>\n",
       "      <td>0</td>\n",
       "      <td>POLYGON ((15.97206 53.60099, 15.97251 53.58968...</td>\n",
       "    </tr>\n",
       "    <tr>\n",
       "      <th>871f11d8bffffff</th>\n",
       "      <td>0</td>\n",
       "      <td>POLYGON ((9.63865 52.70490, 9.64015 52.69361, ...</td>\n",
       "    </tr>\n",
       "    <tr>\n",
       "      <th>8718613a1ffffff</th>\n",
       "      <td>0</td>\n",
       "      <td>POLYGON ((0.08105 47.94091, 0.06726 47.93366, ...</td>\n",
       "    </tr>\n",
       "    <tr>\n",
       "      <th>871e206b4ffffff</th>\n",
       "      <td>0</td>\n",
       "      <td>POLYGON ((17.31399 50.92018, 17.31420 50.90837...</td>\n",
       "    </tr>\n",
       "  </tbody>\n",
       "</table>\n",
       "<p>522365 rows × 2 columns</p>\n",
       "</div>"
      ],
      "text/plain": [
       "                 index                                           geometry\n",
       "h3_polyfill                                                              \n",
       "8708164d2ffffff      0  POLYGON ((11.51583 61.68771, 11.51722 61.67815...\n",
       "871946644ffffff      0  POLYGON ((-1.09721 54.14412, -1.11257 54.13745...\n",
       "87098b2b1ffffff      0  POLYGON ((10.73512 61.36915, 10.73666 61.35955...\n",
       "871faa0f3ffffff      0  POLYGON ((9.22652 49.00308, 9.22801 48.99119, ...\n",
       "871f8a203ffffff      0  POLYGON ((10.85643 46.43315, 10.85763 46.42081...\n",
       "...                ...                                                ...\n",
       "871f99856ffffff      0  POLYGON ((9.55995 45.90715, 9.56133 45.89479, ...\n",
       "871f0841cffffff      0  POLYGON ((15.97206 53.60099, 15.97251 53.58968...\n",
       "871f11d8bffffff      0  POLYGON ((9.63865 52.70490, 9.64015 52.69361, ...\n",
       "8718613a1ffffff      0  POLYGON ((0.08105 47.94091, 0.06726 47.93366, ...\n",
       "871e206b4ffffff      0  POLYGON ((17.31399 50.92018, 17.31420 50.90837...\n",
       "\n",
       "[522365 rows x 2 columns]"
      ]
     },
     "execution_count": 20,
     "metadata": {},
     "output_type": "execute_result"
    }
   ],
   "source": [
    "circle_by_poitn_df_h3"
   ]
  },
  {
   "cell_type": "code",
   "execution_count": 88,
   "id": "9ac17df8",
   "metadata": {},
   "outputs": [
    {
     "data": {
      "text/html": [
       "<div>\n",
       "<style scoped>\n",
       "    .dataframe tbody tr th:only-of-type {\n",
       "        vertical-align: middle;\n",
       "    }\n",
       "\n",
       "    .dataframe tbody tr th {\n",
       "        vertical-align: top;\n",
       "    }\n",
       "\n",
       "    .dataframe thead th {\n",
       "        text-align: right;\n",
       "    }\n",
       "</style>\n",
       "<table border=\"1\" class=\"dataframe\">\n",
       "  <thead>\n",
       "    <tr style=\"text-align: right;\">\n",
       "      <th></th>\n",
       "      <th>index</th>\n",
       "      <th>geometry</th>\n",
       "    </tr>\n",
       "    <tr>\n",
       "      <th>h3_polyfill</th>\n",
       "      <th></th>\n",
       "      <th></th>\n",
       "    </tr>\n",
       "  </thead>\n",
       "  <tbody>\n",
       "    <tr>\n",
       "      <th>861876a87ffffff</th>\n",
       "      <td>0</td>\n",
       "      <td>POLYGON ((-5.90321 50.39957, -5.95039 50.38837...</td>\n",
       "    </tr>\n",
       "    <tr>\n",
       "      <th>86180e857ffffff</th>\n",
       "      <td>0</td>\n",
       "      <td>POLYGON ((-10.31755 51.12652, -10.36567 51.113...</td>\n",
       "    </tr>\n",
       "    <tr>\n",
       "      <th>86094ccc7ffffff</th>\n",
       "      <td>0</td>\n",
       "      <td>POLYGON ((13.05067 71.09468, 13.12036 71.11141...</td>\n",
       "    </tr>\n",
       "    <tr>\n",
       "      <th>861f1e947ffffff</th>\n",
       "      <td>0</td>\n",
       "      <td>POLYGON ((11.27678 52.41656, 11.26237 52.38666...</td>\n",
       "    </tr>\n",
       "    <tr>\n",
       "      <th>8608c629fffffff</th>\n",
       "      <td>0</td>\n",
       "      <td>POLYGON ((23.68835 65.70050, 23.73552 65.68097...</td>\n",
       "    </tr>\n",
       "    <tr>\n",
       "      <th>...</th>\n",
       "      <td>...</td>\n",
       "      <td>...</td>\n",
       "    </tr>\n",
       "    <tr>\n",
       "      <th>861124427ffffff</th>\n",
       "      <td>0</td>\n",
       "      <td>POLYGON ((24.72652 60.95751, 24.76664 60.93622...</td>\n",
       "    </tr>\n",
       "    <tr>\n",
       "      <th>860903037ffffff</th>\n",
       "      <td>0</td>\n",
       "      <td>POLYGON ((-0.96976 65.26364, -1.00321 65.28673...</td>\n",
       "    </tr>\n",
       "    <tr>\n",
       "      <th>861f9e08fffffff</th>\n",
       "      <td>0</td>\n",
       "      <td>POLYGON ((6.50770 45.08962, 6.49691 45.05697, ...</td>\n",
       "    </tr>\n",
       "    <tr>\n",
       "      <th>8608b0167ffffff</th>\n",
       "      <td>0</td>\n",
       "      <td>POLYGON ((14.10217 58.68997, 14.08461 58.66328...</td>\n",
       "    </tr>\n",
       "    <tr>\n",
       "      <th>860976157ffffff</th>\n",
       "      <td>0</td>\n",
       "      <td>POLYGON ((0.46561 68.71905, 0.42851 68.74360, ...</td>\n",
       "    </tr>\n",
       "  </tbody>\n",
       "</table>\n",
       "<p>285479 rows × 2 columns</p>\n",
       "</div>"
      ],
      "text/plain": [
       "                 index                                           geometry\n",
       "h3_polyfill                                                              \n",
       "861876a87ffffff      0  POLYGON ((-5.90321 50.39957, -5.95039 50.38837...\n",
       "86180e857ffffff      0  POLYGON ((-10.31755 51.12652, -10.36567 51.113...\n",
       "86094ccc7ffffff      0  POLYGON ((13.05067 71.09468, 13.12036 71.11141...\n",
       "861f1e947ffffff      0  POLYGON ((11.27678 52.41656, 11.26237 52.38666...\n",
       "8608c629fffffff      0  POLYGON ((23.68835 65.70050, 23.73552 65.68097...\n",
       "...                ...                                                ...\n",
       "861124427ffffff      0  POLYGON ((24.72652 60.95751, 24.76664 60.93622...\n",
       "860903037ffffff      0  POLYGON ((-0.96976 65.26364, -1.00321 65.28673...\n",
       "861f9e08fffffff      0  POLYGON ((6.50770 45.08962, 6.49691 45.05697, ...\n",
       "8608b0167ffffff      0  POLYGON ((14.10217 58.68997, 14.08461 58.66328...\n",
       "860976157ffffff      0  POLYGON ((0.46561 68.71905, 0.42851 68.74360, ...\n",
       "\n",
       "[285479 rows x 2 columns]"
      ]
     },
     "execution_count": 88,
     "metadata": {},
     "output_type": "execute_result"
    }
   ],
   "source": [
    "circle_by_poitn_df_h3"
   ]
  },
  {
   "cell_type": "code",
   "execution_count": null,
   "id": "673b602f",
   "metadata": {},
   "outputs": [],
   "source": []
  },
  {
   "cell_type": "code",
   "execution_count": null,
   "id": "9b8c7c51",
   "metadata": {},
   "outputs": [],
   "source": []
  },
  {
   "cell_type": "code",
   "execution_count": 84,
   "id": "7c20d12b",
   "metadata": {},
   "outputs": [
    {
     "data": {
      "text/html": [
       "<div>\n",
       "<style scoped>\n",
       "    .dataframe tbody tr th:only-of-type {\n",
       "        vertical-align: middle;\n",
       "    }\n",
       "\n",
       "    .dataframe tbody tr th {\n",
       "        vertical-align: top;\n",
       "    }\n",
       "\n",
       "    .dataframe thead th {\n",
       "        text-align: right;\n",
       "    }\n",
       "</style>\n",
       "<table border=\"1\" class=\"dataframe\">\n",
       "  <thead>\n",
       "    <tr style=\"text-align: right;\">\n",
       "      <th></th>\n",
       "      <th>geometry</th>\n",
       "    </tr>\n",
       "  </thead>\n",
       "  <tbody>\n",
       "    <tr>\n",
       "      <th>0</th>\n",
       "      <td>POLYGON ((8.51564 52.98327, 8.51564 52.98327, ...</td>\n",
       "    </tr>\n",
       "  </tbody>\n",
       "</table>\n",
       "</div>"
      ],
      "text/plain": [
       "                                            geometry\n",
       "0  POLYGON ((8.51564 52.98327, 8.51564 52.98327, ..."
      ]
     },
     "execution_count": 84,
     "metadata": {},
     "output_type": "execute_result"
    }
   ],
   "source": [
    "circle_by_poitn_df"
   ]
  },
  {
   "cell_type": "code",
   "execution_count": null,
   "id": "ebcce509",
   "metadata": {},
   "outputs": [],
   "source": []
  },
  {
   "cell_type": "code",
   "execution_count": null,
   "id": "8a4f62e4",
   "metadata": {},
   "outputs": [],
   "source": []
  },
  {
   "cell_type": "code",
   "execution_count": null,
   "id": "3f060b57",
   "metadata": {},
   "outputs": [],
   "source": []
  },
  {
   "cell_type": "code",
   "execution_count": 80,
   "id": "d77f71c4",
   "metadata": {},
   "outputs": [
    {
     "data": {
      "text/html": [
       "<div>\n",
       "<style scoped>\n",
       "    .dataframe tbody tr th:only-of-type {\n",
       "        vertical-align: middle;\n",
       "    }\n",
       "\n",
       "    .dataframe tbody tr th {\n",
       "        vertical-align: top;\n",
       "    }\n",
       "\n",
       "    .dataframe thead th {\n",
       "        text-align: right;\n",
       "    }\n",
       "</style>\n",
       "<table border=\"1\" class=\"dataframe\">\n",
       "  <thead>\n",
       "    <tr style=\"text-align: right;\">\n",
       "      <th></th>\n",
       "      <th>geometry</th>\n",
       "    </tr>\n",
       "  </thead>\n",
       "  <tbody>\n",
       "    <tr>\n",
       "      <th>0</th>\n",
       "      <td>POLYGON ((1113629.307 1610842.454, 1113629.307...</td>\n",
       "    </tr>\n",
       "  </tbody>\n",
       "</table>\n",
       "</div>"
      ],
      "text/plain": [
       "                                            geometry\n",
       "0  POLYGON ((1113629.307 1610842.454, 1113629.307..."
      ]
     },
     "execution_count": 80,
     "metadata": {},
     "output_type": "execute_result"
    }
   ],
   "source": [
    "circle_by_poitn_df"
   ]
  },
  {
   "cell_type": "code",
   "execution_count": 57,
   "id": "7a5c722a",
   "metadata": {
    "tags": [
     "Problem"
    ]
   },
   "outputs": [
    {
     "ename": "TypeError",
     "evalue": "Unknown type <class 'shapely.geometry.point.Point'>",
     "output_type": "error",
     "traceback": [
      "\u001b[0;31m---------------------------------------------------------------------------\u001b[0m",
      "\u001b[0;31mTypeError\u001b[0m                                 Traceback (most recent call last)",
      "\u001b[0;32m/var/folders/z5/3hh6k5k53jlgjlzdygqlzdg80000gn/T/ipykernel_54898/1658873423.py\u001b[0m in \u001b[0;36m<module>\u001b[0;34m\u001b[0m\n\u001b[1;32m     11\u001b[0m \u001b[0;34m\u001b[0m\u001b[0m\n\u001b[1;32m     12\u001b[0m \u001b[0mcircle_by_poitn_df\u001b[0m \u001b[0;34m=\u001b[0m \u001b[0mcircle_by_poitn_df\u001b[0m\u001b[0;34m.\u001b[0m\u001b[0mto_crs\u001b[0m\u001b[0;34m(\u001b[0m\u001b[0;36m4326\u001b[0m\u001b[0;34m)\u001b[0m\u001b[0;34m\u001b[0m\u001b[0;34m\u001b[0m\u001b[0m\n\u001b[0;32m---> 13\u001b[0;31m \u001b[0mcircle_by_poitn_df_h3\u001b[0m \u001b[0;34m=\u001b[0m \u001b[0mcircle_by_poitn_df\u001b[0m\u001b[0;34m.\u001b[0m\u001b[0mh3\u001b[0m\u001b[0;34m.\u001b[0m\u001b[0mpolyfill\u001b[0m\u001b[0;34m(\u001b[0m\u001b[0;36m7\u001b[0m\u001b[0;34m)\u001b[0m\u001b[0;34m\u001b[0m\u001b[0;34m\u001b[0m\u001b[0m\n\u001b[0m\u001b[1;32m     14\u001b[0m \u001b[0;31m#circle_by_poitn_df_h3.crs\u001b[0m\u001b[0;34m\u001b[0m\u001b[0;34m\u001b[0m\u001b[0;34m\u001b[0m\u001b[0m\n\u001b[1;32m     15\u001b[0m \u001b[0mcircle_by_poitn_df_h3\u001b[0m\u001b[0;34m\u001b[0m\u001b[0;34m\u001b[0m\u001b[0m\n",
      "\u001b[0;32m~/miniconda3/envs/noise-simulation/lib/python3.7/site-packages/h3pandas/util/decorator.py\u001b[0m in \u001b[0;36mdoc_f\u001b[0;34m(*args, **kwargs)\u001b[0m\n\u001b[1;32m     42\u001b[0m         \u001b[0;34m@\u001b[0m\u001b[0mwraps\u001b[0m\u001b[0;34m(\u001b[0m\u001b[0mf\u001b[0m\u001b[0;34m)\u001b[0m\u001b[0;34m\u001b[0m\u001b[0;34m\u001b[0m\u001b[0m\n\u001b[1;32m     43\u001b[0m         \u001b[0;32mdef\u001b[0m \u001b[0mdoc_f\u001b[0m\u001b[0;34m(\u001b[0m\u001b[0;34m*\u001b[0m\u001b[0margs\u001b[0m\u001b[0;34m,\u001b[0m \u001b[0;34m**\u001b[0m\u001b[0mkwargs\u001b[0m\u001b[0;34m)\u001b[0m\u001b[0;34m:\u001b[0m\u001b[0;34m\u001b[0m\u001b[0;34m\u001b[0m\u001b[0m\n\u001b[0;32m---> 44\u001b[0;31m             \u001b[0;32mreturn\u001b[0m \u001b[0mf\u001b[0m\u001b[0;34m(\u001b[0m\u001b[0;34m*\u001b[0m\u001b[0margs\u001b[0m\u001b[0;34m,\u001b[0m \u001b[0;34m**\u001b[0m\u001b[0mkwargs\u001b[0m\u001b[0;34m)\u001b[0m\u001b[0;34m\u001b[0m\u001b[0;34m\u001b[0m\u001b[0m\n\u001b[0m\u001b[1;32m     45\u001b[0m \u001b[0;34m\u001b[0m\u001b[0m\n\u001b[1;32m     46\u001b[0m         \u001b[0mparameters\u001b[0m \u001b[0;34m=\u001b[0m \u001b[0mf\u001b[0m\u001b[0;34m.\u001b[0m\u001b[0m__doc__\u001b[0m \u001b[0;32mor\u001b[0m \u001b[0;34m\"\"\u001b[0m\u001b[0;34m\u001b[0m\u001b[0;34m\u001b[0m\u001b[0m\n",
      "\u001b[0;32m~/miniconda3/envs/noise-simulation/lib/python3.7/site-packages/h3pandas/h3pandas.py\u001b[0m in \u001b[0;36mpolyfill\u001b[0;34m(self, resolution, explode)\u001b[0m\n\u001b[1;32m    395\u001b[0m             \u001b[0;32mreturn\u001b[0m \u001b[0mlist\u001b[0m\u001b[0;34m(\u001b[0m\u001b[0mpolyfill\u001b[0m\u001b[0;34m(\u001b[0m\u001b[0mrow\u001b[0m\u001b[0;34m.\u001b[0m\u001b[0mgeometry\u001b[0m\u001b[0;34m,\u001b[0m \u001b[0mresolution\u001b[0m\u001b[0;34m,\u001b[0m \u001b[0;32mTrue\u001b[0m\u001b[0;34m)\u001b[0m\u001b[0;34m)\u001b[0m\u001b[0;34m\u001b[0m\u001b[0;34m\u001b[0m\u001b[0m\n\u001b[1;32m    396\u001b[0m \u001b[0;34m\u001b[0m\u001b[0m\n\u001b[0;32m--> 397\u001b[0;31m         \u001b[0mresult\u001b[0m \u001b[0;34m=\u001b[0m \u001b[0mself\u001b[0m\u001b[0;34m.\u001b[0m\u001b[0m_df\u001b[0m\u001b[0;34m.\u001b[0m\u001b[0mapply\u001b[0m\u001b[0;34m(\u001b[0m\u001b[0mfunc\u001b[0m\u001b[0;34m,\u001b[0m \u001b[0maxis\u001b[0m\u001b[0;34m=\u001b[0m\u001b[0;36m1\u001b[0m\u001b[0;34m)\u001b[0m\u001b[0;34m\u001b[0m\u001b[0;34m\u001b[0m\u001b[0m\n\u001b[0m\u001b[1;32m    398\u001b[0m \u001b[0;34m\u001b[0m\u001b[0m\n\u001b[1;32m    399\u001b[0m         \u001b[0;32mif\u001b[0m \u001b[0;32mnot\u001b[0m \u001b[0mexplode\u001b[0m\u001b[0;34m:\u001b[0m\u001b[0;34m\u001b[0m\u001b[0;34m\u001b[0m\u001b[0m\n",
      "\u001b[0;32m~/miniconda3/envs/noise-simulation/lib/python3.7/site-packages/geopandas/geodataframe.py\u001b[0m in \u001b[0;36mapply\u001b[0;34m(self, func, axis, raw, result_type, args, **kwargs)\u001b[0m\n\u001b[1;32m   1360\u001b[0m     \u001b[0;32mdef\u001b[0m \u001b[0mapply\u001b[0m\u001b[0;34m(\u001b[0m\u001b[0mself\u001b[0m\u001b[0;34m,\u001b[0m \u001b[0mfunc\u001b[0m\u001b[0;34m,\u001b[0m \u001b[0maxis\u001b[0m\u001b[0;34m=\u001b[0m\u001b[0;36m0\u001b[0m\u001b[0;34m,\u001b[0m \u001b[0mraw\u001b[0m\u001b[0;34m=\u001b[0m\u001b[0;32mFalse\u001b[0m\u001b[0;34m,\u001b[0m \u001b[0mresult_type\u001b[0m\u001b[0;34m=\u001b[0m\u001b[0;32mNone\u001b[0m\u001b[0;34m,\u001b[0m \u001b[0margs\u001b[0m\u001b[0;34m=\u001b[0m\u001b[0;34m(\u001b[0m\u001b[0;34m)\u001b[0m\u001b[0;34m,\u001b[0m \u001b[0;34m**\u001b[0m\u001b[0mkwargs\u001b[0m\u001b[0;34m)\u001b[0m\u001b[0;34m:\u001b[0m\u001b[0;34m\u001b[0m\u001b[0;34m\u001b[0m\u001b[0m\n\u001b[1;32m   1361\u001b[0m         result = super().apply(\n\u001b[0;32m-> 1362\u001b[0;31m             \u001b[0mfunc\u001b[0m\u001b[0;34m,\u001b[0m \u001b[0maxis\u001b[0m\u001b[0;34m=\u001b[0m\u001b[0maxis\u001b[0m\u001b[0;34m,\u001b[0m \u001b[0mraw\u001b[0m\u001b[0;34m=\u001b[0m\u001b[0mraw\u001b[0m\u001b[0;34m,\u001b[0m \u001b[0mresult_type\u001b[0m\u001b[0;34m=\u001b[0m\u001b[0mresult_type\u001b[0m\u001b[0;34m,\u001b[0m \u001b[0margs\u001b[0m\u001b[0;34m=\u001b[0m\u001b[0margs\u001b[0m\u001b[0;34m,\u001b[0m \u001b[0;34m**\u001b[0m\u001b[0mkwargs\u001b[0m\u001b[0;34m\u001b[0m\u001b[0;34m\u001b[0m\u001b[0m\n\u001b[0m\u001b[1;32m   1363\u001b[0m         )\n\u001b[1;32m   1364\u001b[0m         if (\n",
      "\u001b[0;32m~/miniconda3/envs/noise-simulation/lib/python3.7/site-packages/pandas/core/frame.py\u001b[0m in \u001b[0;36mapply\u001b[0;34m(self, func, axis, raw, result_type, args, **kwargs)\u001b[0m\n\u001b[1;32m   8738\u001b[0m             \u001b[0mkwargs\u001b[0m\u001b[0;34m=\u001b[0m\u001b[0mkwargs\u001b[0m\u001b[0;34m,\u001b[0m\u001b[0;34m\u001b[0m\u001b[0;34m\u001b[0m\u001b[0m\n\u001b[1;32m   8739\u001b[0m         )\n\u001b[0;32m-> 8740\u001b[0;31m         \u001b[0;32mreturn\u001b[0m \u001b[0mop\u001b[0m\u001b[0;34m.\u001b[0m\u001b[0mapply\u001b[0m\u001b[0;34m(\u001b[0m\u001b[0;34m)\u001b[0m\u001b[0;34m\u001b[0m\u001b[0;34m\u001b[0m\u001b[0m\n\u001b[0m\u001b[1;32m   8741\u001b[0m \u001b[0;34m\u001b[0m\u001b[0m\n\u001b[1;32m   8742\u001b[0m     def applymap(\n",
      "\u001b[0;32m~/miniconda3/envs/noise-simulation/lib/python3.7/site-packages/pandas/core/apply.py\u001b[0m in \u001b[0;36mapply\u001b[0;34m(self)\u001b[0m\n\u001b[1;32m    686\u001b[0m             \u001b[0;32mreturn\u001b[0m \u001b[0mself\u001b[0m\u001b[0;34m.\u001b[0m\u001b[0mapply_raw\u001b[0m\u001b[0;34m(\u001b[0m\u001b[0;34m)\u001b[0m\u001b[0;34m\u001b[0m\u001b[0;34m\u001b[0m\u001b[0m\n\u001b[1;32m    687\u001b[0m \u001b[0;34m\u001b[0m\u001b[0m\n\u001b[0;32m--> 688\u001b[0;31m         \u001b[0;32mreturn\u001b[0m \u001b[0mself\u001b[0m\u001b[0;34m.\u001b[0m\u001b[0mapply_standard\u001b[0m\u001b[0;34m(\u001b[0m\u001b[0;34m)\u001b[0m\u001b[0;34m\u001b[0m\u001b[0;34m\u001b[0m\u001b[0m\n\u001b[0m\u001b[1;32m    689\u001b[0m \u001b[0;34m\u001b[0m\u001b[0m\n\u001b[1;32m    690\u001b[0m     \u001b[0;32mdef\u001b[0m \u001b[0magg\u001b[0m\u001b[0;34m(\u001b[0m\u001b[0mself\u001b[0m\u001b[0;34m)\u001b[0m\u001b[0;34m:\u001b[0m\u001b[0;34m\u001b[0m\u001b[0;34m\u001b[0m\u001b[0m\n",
      "\u001b[0;32m~/miniconda3/envs/noise-simulation/lib/python3.7/site-packages/pandas/core/apply.py\u001b[0m in \u001b[0;36mapply_standard\u001b[0;34m(self)\u001b[0m\n\u001b[1;32m    810\u001b[0m \u001b[0;34m\u001b[0m\u001b[0m\n\u001b[1;32m    811\u001b[0m     \u001b[0;32mdef\u001b[0m \u001b[0mapply_standard\u001b[0m\u001b[0;34m(\u001b[0m\u001b[0mself\u001b[0m\u001b[0;34m)\u001b[0m\u001b[0;34m:\u001b[0m\u001b[0;34m\u001b[0m\u001b[0;34m\u001b[0m\u001b[0m\n\u001b[0;32m--> 812\u001b[0;31m         \u001b[0mresults\u001b[0m\u001b[0;34m,\u001b[0m \u001b[0mres_index\u001b[0m \u001b[0;34m=\u001b[0m \u001b[0mself\u001b[0m\u001b[0;34m.\u001b[0m\u001b[0mapply_series_generator\u001b[0m\u001b[0;34m(\u001b[0m\u001b[0;34m)\u001b[0m\u001b[0;34m\u001b[0m\u001b[0;34m\u001b[0m\u001b[0m\n\u001b[0m\u001b[1;32m    813\u001b[0m \u001b[0;34m\u001b[0m\u001b[0m\n\u001b[1;32m    814\u001b[0m         \u001b[0;31m# wrap results\u001b[0m\u001b[0;34m\u001b[0m\u001b[0;34m\u001b[0m\u001b[0;34m\u001b[0m\u001b[0m\n",
      "\u001b[0;32m~/miniconda3/envs/noise-simulation/lib/python3.7/site-packages/pandas/core/apply.py\u001b[0m in \u001b[0;36mapply_series_generator\u001b[0;34m(self)\u001b[0m\n\u001b[1;32m    826\u001b[0m             \u001b[0;32mfor\u001b[0m \u001b[0mi\u001b[0m\u001b[0;34m,\u001b[0m \u001b[0mv\u001b[0m \u001b[0;32min\u001b[0m \u001b[0menumerate\u001b[0m\u001b[0;34m(\u001b[0m\u001b[0mseries_gen\u001b[0m\u001b[0;34m)\u001b[0m\u001b[0;34m:\u001b[0m\u001b[0;34m\u001b[0m\u001b[0;34m\u001b[0m\u001b[0m\n\u001b[1;32m    827\u001b[0m                 \u001b[0;31m# ignore SettingWithCopy here in case the user mutates\u001b[0m\u001b[0;34m\u001b[0m\u001b[0;34m\u001b[0m\u001b[0;34m\u001b[0m\u001b[0m\n\u001b[0;32m--> 828\u001b[0;31m                 \u001b[0mresults\u001b[0m\u001b[0;34m[\u001b[0m\u001b[0mi\u001b[0m\u001b[0;34m]\u001b[0m \u001b[0;34m=\u001b[0m \u001b[0mself\u001b[0m\u001b[0;34m.\u001b[0m\u001b[0mf\u001b[0m\u001b[0;34m(\u001b[0m\u001b[0mv\u001b[0m\u001b[0;34m)\u001b[0m\u001b[0;34m\u001b[0m\u001b[0;34m\u001b[0m\u001b[0m\n\u001b[0m\u001b[1;32m    829\u001b[0m                 \u001b[0;32mif\u001b[0m \u001b[0misinstance\u001b[0m\u001b[0;34m(\u001b[0m\u001b[0mresults\u001b[0m\u001b[0;34m[\u001b[0m\u001b[0mi\u001b[0m\u001b[0;34m]\u001b[0m\u001b[0;34m,\u001b[0m \u001b[0mABCSeries\u001b[0m\u001b[0;34m)\u001b[0m\u001b[0;34m:\u001b[0m\u001b[0;34m\u001b[0m\u001b[0;34m\u001b[0m\u001b[0m\n\u001b[1;32m    830\u001b[0m                     \u001b[0;31m# If we have a view on v, we need to make a copy because\u001b[0m\u001b[0;34m\u001b[0m\u001b[0;34m\u001b[0m\u001b[0;34m\u001b[0m\u001b[0m\n",
      "\u001b[0;32m~/miniconda3/envs/noise-simulation/lib/python3.7/site-packages/h3pandas/h3pandas.py\u001b[0m in \u001b[0;36mfunc\u001b[0;34m(row)\u001b[0m\n\u001b[1;32m    393\u001b[0m \u001b[0;34m\u001b[0m\u001b[0m\n\u001b[1;32m    394\u001b[0m         \u001b[0;32mdef\u001b[0m \u001b[0mfunc\u001b[0m\u001b[0;34m(\u001b[0m\u001b[0mrow\u001b[0m\u001b[0;34m)\u001b[0m\u001b[0;34m:\u001b[0m\u001b[0;34m\u001b[0m\u001b[0;34m\u001b[0m\u001b[0m\n\u001b[0;32m--> 395\u001b[0;31m             \u001b[0;32mreturn\u001b[0m \u001b[0mlist\u001b[0m\u001b[0;34m(\u001b[0m\u001b[0mpolyfill\u001b[0m\u001b[0;34m(\u001b[0m\u001b[0mrow\u001b[0m\u001b[0;34m.\u001b[0m\u001b[0mgeometry\u001b[0m\u001b[0;34m,\u001b[0m \u001b[0mresolution\u001b[0m\u001b[0;34m,\u001b[0m \u001b[0;32mTrue\u001b[0m\u001b[0;34m)\u001b[0m\u001b[0;34m)\u001b[0m\u001b[0;34m\u001b[0m\u001b[0;34m\u001b[0m\u001b[0m\n\u001b[0m\u001b[1;32m    396\u001b[0m \u001b[0;34m\u001b[0m\u001b[0m\n\u001b[1;32m    397\u001b[0m         \u001b[0mresult\u001b[0m \u001b[0;34m=\u001b[0m \u001b[0mself\u001b[0m\u001b[0;34m.\u001b[0m\u001b[0m_df\u001b[0m\u001b[0;34m.\u001b[0m\u001b[0mapply\u001b[0m\u001b[0;34m(\u001b[0m\u001b[0mfunc\u001b[0m\u001b[0;34m,\u001b[0m \u001b[0maxis\u001b[0m\u001b[0;34m=\u001b[0m\u001b[0;36m1\u001b[0m\u001b[0;34m)\u001b[0m\u001b[0;34m\u001b[0m\u001b[0;34m\u001b[0m\u001b[0m\n",
      "\u001b[0;32m~/miniconda3/envs/noise-simulation/lib/python3.7/site-packages/h3pandas/util/shapely.py\u001b[0m in \u001b[0;36mpolyfill\u001b[0;34m(geometry, resolution, geo_json)\u001b[0m\n\u001b[1;32m     46\u001b[0m         \u001b[0;32mreturn\u001b[0m \u001b[0mset\u001b[0m\u001b[0;34m(\u001b[0m\u001b[0mh3_addresses\u001b[0m\u001b[0;34m)\u001b[0m\u001b[0;34m\u001b[0m\u001b[0;34m\u001b[0m\u001b[0m\n\u001b[1;32m     47\u001b[0m     \u001b[0;32melse\u001b[0m\u001b[0;34m:\u001b[0m\u001b[0;34m\u001b[0m\u001b[0;34m\u001b[0m\u001b[0m\n\u001b[0;32m---> 48\u001b[0;31m         \u001b[0;32mraise\u001b[0m \u001b[0mTypeError\u001b[0m\u001b[0;34m(\u001b[0m\u001b[0;34mf\"Unknown type {type(geometry)}\"\u001b[0m\u001b[0;34m)\u001b[0m\u001b[0;34m\u001b[0m\u001b[0;34m\u001b[0m\u001b[0m\n\u001b[0m",
      "\u001b[0;31mTypeError\u001b[0m: Unknown type <class 'shapely.geometry.point.Point'>"
     ]
    }
   ],
   "source": [
    "##Here i am creating a point (out of test reasons, actually it would be all points in the geodataframe) \n",
    "## in crs 3764 that uses meters as the measurement metric, buffer that point for 10 meter in its radius and \n",
    "## change that polygon into the h3 grid system\n",
    "## -->why ?? for counting the overlaps of circles in the oldenburg region\n",
    "#POINT(8.14502 53.05857)\n",
    "\n",
    "\n",
    "point = Point(1087093,1613391)\n",
    "circle_by_poitn_df = geopd.GeoDataFrame(geometry=[point], crs=3763)\n",
    "#circle_by_poitn_df['geometry'] = circle_by_poitn_df['geometry'][0].buffer(10,0)\n",
    "\n",
    "circle_by_poitn_df = circle_by_poitn_df.to_crs(4326)\n",
    "circle_by_poitn_df_h3 = circle_by_poitn_df.h3.polyfill(7)\n",
    "#circle_by_poitn_df_h3.crs\n",
    "circle_by_poitn_df_h3"
   ]
  },
  {
   "cell_type": "code",
   "execution_count": 103,
   "id": "d5dbce68",
   "metadata": {},
   "outputs": [
    {
     "data": {
      "text/html": [
       "<div>\n",
       "<style scoped>\n",
       "    .dataframe tbody tr th:only-of-type {\n",
       "        vertical-align: middle;\n",
       "    }\n",
       "\n",
       "    .dataframe tbody tr th {\n",
       "        vertical-align: top;\n",
       "    }\n",
       "\n",
       "    .dataframe thead th {\n",
       "        text-align: right;\n",
       "    }\n",
       "</style>\n",
       "<table border=\"1\" class=\"dataframe\">\n",
       "  <thead>\n",
       "    <tr style=\"text-align: right;\">\n",
       "      <th></th>\n",
       "      <th>geometry</th>\n",
       "      <th>h3_polyfill</th>\n",
       "    </tr>\n",
       "  </thead>\n",
       "  <tbody>\n",
       "    <tr>\n",
       "      <th>0</th>\n",
       "      <td>POLYGON ((18.60835 52.93122, 18.41620 50.98032...</td>\n",
       "      <td>831962fffffffff</td>\n",
       "    </tr>\n",
       "    <tr>\n",
       "      <th>0</th>\n",
       "      <td>POLYGON ((18.60835 52.93122, 18.41620 50.98032...</td>\n",
       "      <td>830988fffffffff</td>\n",
       "    </tr>\n",
       "    <tr>\n",
       "      <th>0</th>\n",
       "      <td>POLYGON ((18.60835 52.93122, 18.41620 50.98032...</td>\n",
       "      <td>83194efffffffff</td>\n",
       "    </tr>\n",
       "    <tr>\n",
       "      <th>0</th>\n",
       "      <td>POLYGON ((18.60835 52.93122, 18.41620 50.98032...</td>\n",
       "      <td>83098afffffffff</td>\n",
       "    </tr>\n",
       "    <tr>\n",
       "      <th>0</th>\n",
       "      <td>POLYGON ((18.60835 52.93122, 18.41620 50.98032...</td>\n",
       "      <td>831facfffffffff</td>\n",
       "    </tr>\n",
       "    <tr>\n",
       "      <th>...</th>\n",
       "      <td>...</td>\n",
       "      <td>...</td>\n",
       "    </tr>\n",
       "    <tr>\n",
       "      <th>0</th>\n",
       "      <td>POLYGON ((18.60835 52.93122, 18.41620 50.98032...</td>\n",
       "      <td>8309b6fffffffff</td>\n",
       "    </tr>\n",
       "    <tr>\n",
       "      <th>0</th>\n",
       "      <td>POLYGON ((18.60835 52.93122, 18.41620 50.98032...</td>\n",
       "      <td>831fa6fffffffff</td>\n",
       "    </tr>\n",
       "    <tr>\n",
       "      <th>0</th>\n",
       "      <td>POLYGON ((18.60835 52.93122, 18.41620 50.98032...</td>\n",
       "      <td>830983fffffffff</td>\n",
       "    </tr>\n",
       "    <tr>\n",
       "      <th>0</th>\n",
       "      <td>POLYGON ((18.60835 52.93122, 18.41620 50.98032...</td>\n",
       "      <td>831fb1fffffffff</td>\n",
       "    </tr>\n",
       "    <tr>\n",
       "      <th>0</th>\n",
       "      <td>POLYGON ((18.60835 52.93122, 18.41620 50.98032...</td>\n",
       "      <td>83186dfffffffff</td>\n",
       "    </tr>\n",
       "  </tbody>\n",
       "</table>\n",
       "<p>214 rows × 2 columns</p>\n",
       "</div>"
      ],
      "text/plain": [
       "                                             geometry      h3_polyfill\n",
       "0   POLYGON ((18.60835 52.93122, 18.41620 50.98032...  831962fffffffff\n",
       "0   POLYGON ((18.60835 52.93122, 18.41620 50.98032...  830988fffffffff\n",
       "0   POLYGON ((18.60835 52.93122, 18.41620 50.98032...  83194efffffffff\n",
       "0   POLYGON ((18.60835 52.93122, 18.41620 50.98032...  83098afffffffff\n",
       "0   POLYGON ((18.60835 52.93122, 18.41620 50.98032...  831facfffffffff\n",
       "..                                                ...              ...\n",
       "0   POLYGON ((18.60835 52.93122, 18.41620 50.98032...  8309b6fffffffff\n",
       "0   POLYGON ((18.60835 52.93122, 18.41620 50.98032...  831fa6fffffffff\n",
       "0   POLYGON ((18.60835 52.93122, 18.41620 50.98032...  830983fffffffff\n",
       "0   POLYGON ((18.60835 52.93122, 18.41620 50.98032...  831fb1fffffffff\n",
       "0   POLYGON ((18.60835 52.93122, 18.41620 50.98032...  83186dfffffffff\n",
       "\n",
       "[214 rows x 2 columns]"
      ]
     },
     "execution_count": 103,
     "metadata": {},
     "output_type": "execute_result"
    }
   ],
   "source": [
    "point = Point(8.60835,52.93122)\n",
    "circle_by_poitn = point.buffer(10, 0)\n",
    "circle_by_poitn_df = geopd.GeoDataFrame(geometry=[circle_by_poitn], crs=4326)\n",
    "circle_by_poitn_df_h3 = circle_by_poitn_df.h3.polyfill(3, explode=True)\n",
    "circle_by_poitn_df_h3"
   ]
  },
  {
   "cell_type": "code",
   "execution_count": null,
   "id": "4c1a9565",
   "metadata": {},
   "outputs": [],
   "source": [
    "#qeqweq = geopd.GeoDataFrame(geometry=[gdf['geometry'].iloc[0]], crs=3763)\n",
    "#qqqq = qeqweq.to_crs(4326)\n",
    "#qqqq.geometry\n",
    "#qqqq.h3.polyfill_resample(7)\n"
   ]
  },
  {
   "cell_type": "code",
   "execution_count": null,
   "id": "1406a552",
   "metadata": {},
   "outputs": [],
   "source": [
    "#qwe = test.set_geometry('noise_pollution_area')\n",
    "#qwe = qwe.to_crs(4326)\n",
    "#qwe= qwe.rename(columns={\"noise_pollution_area\": \"geometry\"})\n",
    "#qwe"
   ]
  },
  {
   "cell_type": "code",
   "execution_count": null,
   "id": "a6f3906a",
   "metadata": {},
   "outputs": [],
   "source": [
    "test = geopd.GeoDataFrame([geo_oldenburg.iloc[0]], crs=4326)\n",
    "#test = test.append(geo_oldenburg.iloc[0])\n",
    "test = test.set_geometry('movement_area')\n",
    "\n",
    "test = test.drop(columns=['geometry', 'noise_pollution_area'])\n",
    "test = test.rename(columns={'movement_area':'geometry'})\n",
    "test.h3.polyfill(8)"
   ]
  },
  {
   "cell_type": "code",
   "execution_count": null,
   "id": "0c27c226",
   "metadata": {
    "scrolled": true
   },
   "outputs": [],
   "source": [
    "#box2 = geopd.GeoDataFrame(geometry=[box(adsa.bounds[0], adsa.bounds[1], adsa.bounds[2], adsa.bounds[3])])\n",
    "#gdf = geopd.GeoDataFrame(geometry=[test['noise_pollution_area'][0]],crs=3763)\n",
    "#qweqw = gdf.to_crs(4326)\n",
    "#qweqw.h3.polyfill(9)\n",
    "\n"
   ]
  },
  {
   "cell_type": "code",
   "execution_count": null,
   "id": "e3a1f6b7",
   "metadata": {},
   "outputs": [],
   "source": [
    "#gdf = geopd.GeoDataFrame(geometry=[test['noise_pollution_area'][0]],crs=3763)\n",
    "#qqqq = qeqweq.to_crs(4326)\n",
    "#qq = qqqq.h3.polyfill_resample(8)\n",
    "#qq.plot()"
   ]
  },
  {
   "cell_type": "code",
   "execution_count": null,
   "id": "07065ffc",
   "metadata": {},
   "outputs": [],
   "source": [
    "#noise_level= oldenburdf['geometry'].apply(lambda x: x.buffer(100, cap_style=1))\n",
    "#tas = geopd.GeoDataFrame(noise_level, crs=3763)\n",
    "#wq = test.to_wkt()\n",
    "#test['wkt'] = pd.Series(map(lambda geom: str(test.to_wkt()), test['geometry']),index=test.index, dtype='string')\n",
    "#wq['wkt']\n",
    "#asd = tas.dissolve()\n",
    "#asd['geometry'].values[0]\n",
    "#tas.plot(color='green', figsize=(10, 10), markersize=5)\n",
    "#affected_area_by_people\n",
    "#er = oldenburdf['geometry']\n",
    "#er.apply(lambda x: print(x))"
   ]
  },
  {
   "cell_type": "markdown",
   "id": "5cd1754f",
   "metadata": {},
   "source": [
    "## simulation of people moving in a ploygon\n",
    "while len(spawned_people_geodf['history'][0]) < 1000:    \n",
    "    spawned_people_geodf= spawned_people_geodf.apply(simulateMovement, axis=1)\n",
    "    #df = pd.DataFrame(spawned_people_geodf['history'][0]).set_index('t')\n",
    "    gdf = geopd.GeoDataFrame(spawned_people_geodf, crs=CRS(3763))\n",
    "    \n",
    "    gdf.plot(color='green',markersize=3, figsize=(10, 10))\n",
    "    #agentsdf = gdf.to_crs(epsg=4326)\n",
    "    #traj = mpd.Trajectory(agentsdf, 1)\n",
    "    #test = traj.hvplot(geo=True, tiles='OSM', line_width=1, frame_width=500, frame_height=500)\n",
    "    display.clear_output(wait=True)\n",
    "    display.display(pl.gcf())\n",
    "    time.sleep(0.01)\n",
    "    print(len(spawned_people_geodf['history'][0]))"
   ]
  },
  {
   "cell_type": "code",
   "execution_count": null,
   "id": "c48481e2",
   "metadata": {},
   "outputs": [],
   "source": [
    "number_of_people = 50\n",
    "number_of_vehicles = 50\n",
    "def beginSim():\n",
    "    #for index, row in gdf.iterrows():\n",
    "    polygon_bounding_box = Polygon([(polygon.bounds.minx.values[0], polygon.bounds.miny.values[0]), (polygon.bounds.maxx.values[0], polygon.bounds.miny.values[0]), (polygon.bounds.maxx.values[0], polygon.bounds.maxy.values[0]), (polygon.bounds.minx.values[0], polygon.bounds.maxy.values[0])])\n",
    "    for x in range(number_of_people):\n",
    "        spawned_point = Point(random.uniform(polygon.bounds.minx.values[0], polygon.bounds.maxx.values[0]), random.uniform(polygon.bounds.miny.values[0], polygon.bounds.maxy.values[0]))\n",
    "    moving_agent = [spawned_point,datetime.now(), []]\n",
    "    peopleDictionary.append(Person(random.randint(18,50)))\n"
   ]
  },
  {
   "cell_type": "code",
   "execution_count": null,
   "id": "e2b55bf0",
   "metadata": {},
   "outputs": [],
   "source": [
    "def dB_calculator(array_of_noise):\n",
    "    array_of_noise = [math.pow(10, i/10) for i in array_of_noise]\n",
    "    return 10*math.log10(reduce(lambda x,y: x+y, array_of_noise))\n",
    "    \n"
   ]
  },
  {
   "cell_type": "code",
   "execution_count": null,
   "id": "87e90bb4",
   "metadata": {},
   "outputs": [],
   "source": [
    "## Measuring db noise level  10 log 10 (10^x + 10^x)\n",
    "\n",
    "dB_calculator([100, 100])\n"
   ]
  },
  {
   "cell_type": "code",
   "execution_count": null,
   "id": "16755d1d",
   "metadata": {},
   "outputs": [],
   "source": [
    "import threading\n",
    "import time\n",
    "\n",
    "exitFlag = 0\n",
    "\n",
    "class myThread (threading.Thread):\n",
    "    def __init__(self, threadID, name, counter):\n",
    "        threading.Thread.__init__(self)\n",
    "        self.threadID = threadID\n",
    "        self.name = name\n",
    "        self.counter = counter\n",
    "    def run(self):\n",
    "        print(\"Starting \" + self.name)\n",
    "        print_time(self.name, 100, self.counter)\n",
    "        print(\"Exiting \" + self.name)\n",
    "\n",
    "def print_time(threadName, counter, delay):\n",
    "    while counter:\n",
    "        if exitFlag:\n",
    "            threadName.exit()\n",
    "        time.sleep(delay)\n",
    "        print(\"%s: %s\" % (threadName, time.ctime(time.time())))\n",
    "        counter -= 1\n",
    "\n",
    "# Create new threads\n",
    "thread1 = myThread(1, \"Thread-1\", 1)\n",
    "thread2 = myThread(2, \"Thread-2\", 2)\n",
    "\n",
    "# Start new Threads\n",
    "thread1.start()\n",
    "thread2.start()\n"
   ]
  },
  {
   "cell_type": "code",
   "execution_count": 461,
   "id": "0e56dcd2",
   "metadata": {},
   "outputs": [],
   "source": [
    "import os\n",
    "from pyspark.sql import SparkSession\n",
    "from pyspark.streaming import StreamingContext\n",
    "import io\n",
    "from pyspark.sql.functions import *"
   ]
  },
  {
   "cell_type": "code",
   "execution_count": 474,
   "id": "6d51ebe7",
   "metadata": {},
   "outputs": [],
   "source": [
    "import os\n",
    "os.environ['PYSPARK_SUBMIT_ARGS'] = '--packages org.apache.spark:spark-sql-kafka-0-10_2.12:3.0.1,org.apache.spark:spark-streaming-kafka-0-10_2.11:2.4.5,org.apache.kafka:kafka-clients:2.6.0 pyspark-shell'\n"
   ]
  },
  {
   "cell_type": "code",
   "execution_count": null,
   "id": "5835392c",
   "metadata": {},
   "outputs": [],
   "source": [
    "dfSpark = spark.createDataFrame(spawned_people_geodf)"
   ]
  },
  {
   "cell_type": "code",
   "execution_count": null,
   "id": "98787228",
   "metadata": {},
   "outputs": [],
   "source": []
  }
 ],
 "metadata": {
  "celltoolbar": "Tags",
  "kernelspec": {
   "display_name": "Python 3 (ipykernel)",
   "language": "python",
   "name": "python3"
  },
  "language_info": {
   "codemirror_mode": {
    "name": "ipython",
    "version": 3
   },
   "file_extension": ".py",
   "mimetype": "text/x-python",
   "name": "python",
   "nbconvert_exporter": "python",
   "pygments_lexer": "ipython3",
   "version": "3.7.11"
  }
 },
 "nbformat": 4,
 "nbformat_minor": 5
}
