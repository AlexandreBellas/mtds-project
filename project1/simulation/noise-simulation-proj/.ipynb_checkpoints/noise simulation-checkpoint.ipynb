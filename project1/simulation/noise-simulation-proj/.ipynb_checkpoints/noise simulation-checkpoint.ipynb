{
 "cells": [
  {
   "cell_type": "markdown",
   "id": "2039853b",
   "metadata": {},
   "source": [
    "## Following parameters are set in the simulations\n",
    "- P = number of people\n",
    "- V = number of vehicles\n",
    "- W, L = width and length of the (rectangular) region where individuals move (in meters)\n",
    "- Np = level of noise (dB) produced by each person\n",
    "- Nv = level of noise (dB) produced by each vehicle\n",
    "- Dp = distance (side of the square area, in meters) affected by the presence of a person\n",
    "- Dv = distance (side of the square area, in meters) affected by the presence of a vehicle\n",
    "- Vp = moving speed for an individual\n",
    "- Vv = moving speed for a vehicle\n",
    "- t = time step (in seconds): the simulation recomputes the position of people and vehicle, and the level of noise of each square meter in the region with a temporal granularity of t (simulated) seconds"
   ]
  },
  {
   "cell_type": "code",
   "execution_count": 31,
   "id": "70e58f90",
   "metadata": {},
   "outputs": [],
   "source": [
    "## Parameters all in meter\n",
    "number_of_people = 1000\n",
    "number_of_vehicles = 1000\n",
    "area_of_movemenet = 1000\n",
    "noise_level_people = 50\n",
    "noise_level_vehicles = 70\n",
    "affected_area_by_people = 10\n",
    "affected_area_by_vehicles = 20\n",
    "moving_speed_people = 8 # km/h\n",
    "moving_speed_vehicles = 50 #km/h"
   ]
  },
  {
   "cell_type": "code",
   "execution_count": 20,
   "id": "1c887603",
   "metadata": {},
   "outputs": [
    {
     "ename": "ModuleNotFoundError",
     "evalue": "No module named 'h3'",
     "output_type": "error",
     "traceback": [
      "\u001b[0;31m---------------------------------------------------------------------------\u001b[0m",
      "\u001b[0;31mModuleNotFoundError\u001b[0m                       Traceback (most recent call last)",
      "\u001b[0;32m/var/folders/z5/3hh6k5k53jlgjlzdygqlzdg80000gn/T/ipykernel_18270/3314153755.py\u001b[0m in \u001b[0;36m<module>\u001b[0;34m\u001b[0m\n\u001b[1;32m     11\u001b[0m \u001b[0;32mfrom\u001b[0m \u001b[0mfunctools\u001b[0m \u001b[0;32mimport\u001b[0m \u001b[0mreduce\u001b[0m\u001b[0;34m,\u001b[0m \u001b[0mpartial\u001b[0m\u001b[0;34m\u001b[0m\u001b[0;34m\u001b[0m\u001b[0m\n\u001b[1;32m     12\u001b[0m \u001b[0;31m#import h3pandas as h3\u001b[0m\u001b[0;34m\u001b[0m\u001b[0;34m\u001b[0m\u001b[0m\n\u001b[0;32m---> 13\u001b[0;31m \u001b[0;32mimport\u001b[0m \u001b[0mh3\u001b[0m\u001b[0;34m\u001b[0m\u001b[0;34m\u001b[0m\u001b[0m\n\u001b[0m\u001b[1;32m     14\u001b[0m \u001b[0;34m\u001b[0m\u001b[0m\n",
      "\u001b[0;31mModuleNotFoundError\u001b[0m: No module named 'h3'"
     ]
    }
   ],
   "source": [
    "import numpy as np\n",
    "import random\n",
    "import pandas as pd\n",
    "import geopandas as geopd\n",
    "#import movingpandas as mpd\n",
    "from shapely.geometry import Point, LineString, Polygon, box, mapping\n",
    "from datetime import datetime\n",
    "from pyproj import CRS\n",
    "from datetime import datetime\n",
    "import math\n",
    "from functools import reduce, partial\n",
    "#import h3pandas as h3\n",
    "import h3"
   ]
  },
  {
   "cell_type": "code",
   "execution_count": 89,
   "id": "04781bd9",
   "metadata": {},
   "outputs": [
    {
     "name": "stdout",
     "output_type": "stream",
     "text": [
      "CPU times: user 544 ms, sys: 27.2 ms, total: 571 ms\n",
      "Wall time: 593 ms\n"
     ]
    }
   ],
   "source": [
    "%%time\n",
    "## loading geojson of the german map and its regions\n",
    "import os\n",
    "fname = \"resources/2_hoch.geojson.json\"\n",
    "file = open(fname)\n",
    "df = geopd.read_file(file)\n",
    "gdf = geopd.GeoDataFrame(df)\n",
    "gdf = gdf.to_crs(epsg=3763)\n"
   ]
  },
  {
   "cell_type": "code",
   "execution_count": 90,
   "id": "d4ddcc8f",
   "metadata": {},
   "outputs": [
    {
     "data": {
      "text/html": [
       "<div>\n",
       "<style scoped>\n",
       "    .dataframe tbody tr th:only-of-type {\n",
       "        vertical-align: middle;\n",
       "    }\n",
       "\n",
       "    .dataframe tbody tr th {\n",
       "        vertical-align: top;\n",
       "    }\n",
       "\n",
       "    .dataframe thead th {\n",
       "        text-align: right;\n",
       "    }\n",
       "</style>\n",
       "<table border=\"1\" class=\"dataframe\">\n",
       "  <thead>\n",
       "    <tr style=\"text-align: right;\">\n",
       "      <th></th>\n",
       "      <th>ID_0</th>\n",
       "      <th>ISO</th>\n",
       "      <th>NAME_0</th>\n",
       "      <th>ID_1</th>\n",
       "      <th>NAME_1</th>\n",
       "      <th>ID_2</th>\n",
       "      <th>NAME_2</th>\n",
       "      <th>ID_3</th>\n",
       "      <th>NAME_3</th>\n",
       "      <th>NL_NAME_3</th>\n",
       "      <th>VARNAME_3</th>\n",
       "      <th>TYPE_3</th>\n",
       "      <th>ENGTYPE_3</th>\n",
       "      <th>geometry</th>\n",
       "      <th>area_size</th>\n",
       "    </tr>\n",
       "  </thead>\n",
       "  <tbody>\n",
       "    <tr>\n",
       "      <th>153</th>\n",
       "      <td>86</td>\n",
       "      <td>DEU</td>\n",
       "      <td>Germany</td>\n",
       "      <td>2</td>\n",
       "      <td>Bayern</td>\n",
       "      <td>11</td>\n",
       "      <td>Unterfranken</td>\n",
       "      <td>137</td>\n",
       "      <td>Schweinfurt Städte</td>\n",
       "      <td>None</td>\n",
       "      <td>None</td>\n",
       "      <td>Kreisfreie Städte</td>\n",
       "      <td>Urban district</td>\n",
       "      <td>POLYGON ((1310704.438 1321023.112, 1310923.412...</td>\n",
       "      <td>3.807898e+07</td>\n",
       "    </tr>\n",
       "    <tr>\n",
       "      <th>103</th>\n",
       "      <td>86</td>\n",
       "      <td>DEU</td>\n",
       "      <td>Germany</td>\n",
       "      <td>2</td>\n",
       "      <td>Bayern</td>\n",
       "      <td>7</td>\n",
       "      <td>Oberbayern</td>\n",
       "      <td>87</td>\n",
       "      <td>Rosenheim Städte</td>\n",
       "      <td>None</td>\n",
       "      <td>None</td>\n",
       "      <td>Kreisfreie Städte</td>\n",
       "      <td>Urban district</td>\n",
       "      <td>POLYGON ((1512728.210 1114790.395, 1513376.355...</td>\n",
       "      <td>3.962358e+07</td>\n",
       "    </tr>\n",
       "    <tr>\n",
       "      <th>71</th>\n",
       "      <td>86</td>\n",
       "      <td>DEU</td>\n",
       "      <td>Germany</td>\n",
       "      <td>2</td>\n",
       "      <td>Bayern</td>\n",
       "      <td>5</td>\n",
       "      <td>Mittelfranken</td>\n",
       "      <td>55</td>\n",
       "      <td>Schwabach Städte</td>\n",
       "      <td>None</td>\n",
       "      <td>None</td>\n",
       "      <td>Kreisfreie Städte</td>\n",
       "      <td>Urban district</td>\n",
       "      <td>POLYGON ((1392408.589 1254075.975, 1392926.587...</td>\n",
       "      <td>4.218242e+07</td>\n",
       "    </tr>\n",
       "    <tr>\n",
       "      <th>219</th>\n",
       "      <td>86</td>\n",
       "      <td>DEU</td>\n",
       "      <td>Germany</td>\n",
       "      <td>8</td>\n",
       "      <td>Mecklenburg-Vorpommern</td>\n",
       "      <td>19</td>\n",
       "      <td>Mecklenburg-Vorpommern</td>\n",
       "      <td>203</td>\n",
       "      <td>Stralsund Städte</td>\n",
       "      <td>None</td>\n",
       "      <td>None</td>\n",
       "      <td>Kreisfreie Städte</td>\n",
       "      <td>Urban district</td>\n",
       "      <td>POLYGON ((1368585.450 1841422.546, 1368890.083...</td>\n",
       "      <td>4.276265e+07</td>\n",
       "    </tr>\n",
       "    <tr>\n",
       "      <th>137</th>\n",
       "      <td>86</td>\n",
       "      <td>DEU</td>\n",
       "      <td>Germany</td>\n",
       "      <td>2</td>\n",
       "      <td>Bayern</td>\n",
       "      <td>10</td>\n",
       "      <td>Schwaben</td>\n",
       "      <td>121</td>\n",
       "      <td>Kaufbeuren Städte</td>\n",
       "      <td>None</td>\n",
       "      <td>None</td>\n",
       "      <td>Kreisfreie Städte</td>\n",
       "      <td>Urban district</td>\n",
       "      <td>POLYGON ((1400985.334 1090149.755, 1401193.429...</td>\n",
       "      <td>4.304720e+07</td>\n",
       "    </tr>\n",
       "    <tr>\n",
       "      <th>...</th>\n",
       "      <td>...</td>\n",
       "      <td>...</td>\n",
       "      <td>...</td>\n",
       "      <td>...</td>\n",
       "      <td>...</td>\n",
       "      <td>...</td>\n",
       "      <td>...</td>\n",
       "      <td>...</td>\n",
       "      <td>...</td>\n",
       "      <td>...</td>\n",
       "      <td>...</td>\n",
       "      <td>...</td>\n",
       "      <td>...</td>\n",
       "      <td>...</td>\n",
       "      <td>...</td>\n",
       "    </tr>\n",
       "    <tr>\n",
       "      <th>208</th>\n",
       "      <td>86</td>\n",
       "      <td>DEU</td>\n",
       "      <td>Germany</td>\n",
       "      <td>8</td>\n",
       "      <td>Mecklenburg-Vorpommern</td>\n",
       "      <td>19</td>\n",
       "      <td>Mecklenburg-Vorpommern</td>\n",
       "      <td>192</td>\n",
       "      <td>Ludwigslust</td>\n",
       "      <td>None</td>\n",
       "      <td>None</td>\n",
       "      <td>Landkreise</td>\n",
       "      <td>Rural district</td>\n",
       "      <td>POLYGON ((1254742.289 1725448.049, 1256102.669...</td>\n",
       "      <td>2.632941e+09</td>\n",
       "    </tr>\n",
       "    <tr>\n",
       "      <th>169</th>\n",
       "      <td>86</td>\n",
       "      <td>DEU</td>\n",
       "      <td>Germany</td>\n",
       "      <td>4</td>\n",
       "      <td>Brandenburg</td>\n",
       "      <td>13</td>\n",
       "      <td>Brandenburg</td>\n",
       "      <td>153</td>\n",
       "      <td>Ostprignitz-Ruppin</td>\n",
       "      <td>None</td>\n",
       "      <td>None</td>\n",
       "      <td>Landkreise</td>\n",
       "      <td>Rural district</td>\n",
       "      <td>POLYGON ((1355546.100 1714772.389, 1356067.799...</td>\n",
       "      <td>2.646973e+09</td>\n",
       "    </tr>\n",
       "    <tr>\n",
       "      <th>170</th>\n",
       "      <td>86</td>\n",
       "      <td>DEU</td>\n",
       "      <td>Germany</td>\n",
       "      <td>4</td>\n",
       "      <td>Brandenburg</td>\n",
       "      <td>13</td>\n",
       "      <td>Brandenburg</td>\n",
       "      <td>154</td>\n",
       "      <td>Potsdam-Mittelmark</td>\n",
       "      <td>None</td>\n",
       "      <td>None</td>\n",
       "      <td>Landkreise</td>\n",
       "      <td>Rural district</td>\n",
       "      <td>POLYGON ((1435789.028 1635776.088, 1434858.027...</td>\n",
       "      <td>2.841665e+09</td>\n",
       "    </tr>\n",
       "    <tr>\n",
       "      <th>255</th>\n",
       "      <td>86</td>\n",
       "      <td>DEU</td>\n",
       "      <td>Germany</td>\n",
       "      <td>9</td>\n",
       "      <td>Niedersachsen</td>\n",
       "      <td>23</td>\n",
       "      <td>Weser-Ems</td>\n",
       "      <td>239</td>\n",
       "      <td>Emsland</td>\n",
       "      <td>None</td>\n",
       "      <td>None</td>\n",
       "      <td>Landkreise</td>\n",
       "      <td>Rural district</td>\n",
       "      <td>POLYGON ((1027834.633 1599510.076, 1027586.139...</td>\n",
       "      <td>2.910653e+09</td>\n",
       "    </tr>\n",
       "    <tr>\n",
       "      <th>175</th>\n",
       "      <td>86</td>\n",
       "      <td>DEU</td>\n",
       "      <td>Germany</td>\n",
       "      <td>4</td>\n",
       "      <td>Brandenburg</td>\n",
       "      <td>13</td>\n",
       "      <td>Brandenburg</td>\n",
       "      <td>159</td>\n",
       "      <td>Uckermark</td>\n",
       "      <td>None</td>\n",
       "      <td>None</td>\n",
       "      <td>Landkreise</td>\n",
       "      <td>Rural district</td>\n",
       "      <td>POLYGON ((1490279.493 1759163.823, 1490721.171...</td>\n",
       "      <td>3.232172e+09</td>\n",
       "    </tr>\n",
       "  </tbody>\n",
       "</table>\n",
       "<p>434 rows × 15 columns</p>\n",
       "</div>"
      ],
      "text/plain": [
       "     ID_0  ISO   NAME_0  ID_1                  NAME_1  ID_2  \\\n",
       "153    86  DEU  Germany     2                  Bayern    11   \n",
       "103    86  DEU  Germany     2                  Bayern     7   \n",
       "71     86  DEU  Germany     2                  Bayern     5   \n",
       "219    86  DEU  Germany     8  Mecklenburg-Vorpommern    19   \n",
       "137    86  DEU  Germany     2                  Bayern    10   \n",
       "..    ...  ...      ...   ...                     ...   ...   \n",
       "208    86  DEU  Germany     8  Mecklenburg-Vorpommern    19   \n",
       "169    86  DEU  Germany     4             Brandenburg    13   \n",
       "170    86  DEU  Germany     4             Brandenburg    13   \n",
       "255    86  DEU  Germany     9           Niedersachsen    23   \n",
       "175    86  DEU  Germany     4             Brandenburg    13   \n",
       "\n",
       "                     NAME_2  ID_3              NAME_3 NL_NAME_3 VARNAME_3  \\\n",
       "153            Unterfranken   137  Schweinfurt Städte      None      None   \n",
       "103              Oberbayern    87    Rosenheim Städte      None      None   \n",
       "71            Mittelfranken    55    Schwabach Städte      None      None   \n",
       "219  Mecklenburg-Vorpommern   203    Stralsund Städte      None      None   \n",
       "137                Schwaben   121   Kaufbeuren Städte      None      None   \n",
       "..                      ...   ...                 ...       ...       ...   \n",
       "208  Mecklenburg-Vorpommern   192         Ludwigslust      None      None   \n",
       "169             Brandenburg   153  Ostprignitz-Ruppin      None      None   \n",
       "170             Brandenburg   154  Potsdam-Mittelmark      None      None   \n",
       "255               Weser-Ems   239             Emsland      None      None   \n",
       "175             Brandenburg   159           Uckermark      None      None   \n",
       "\n",
       "                TYPE_3       ENGTYPE_3  \\\n",
       "153  Kreisfreie Städte  Urban district   \n",
       "103  Kreisfreie Städte  Urban district   \n",
       "71   Kreisfreie Städte  Urban district   \n",
       "219  Kreisfreie Städte  Urban district   \n",
       "137  Kreisfreie Städte  Urban district   \n",
       "..                 ...             ...   \n",
       "208         Landkreise  Rural district   \n",
       "169         Landkreise  Rural district   \n",
       "170         Landkreise  Rural district   \n",
       "255         Landkreise  Rural district   \n",
       "175         Landkreise  Rural district   \n",
       "\n",
       "                                              geometry     area_size  \n",
       "153  POLYGON ((1310704.438 1321023.112, 1310923.412...  3.807898e+07  \n",
       "103  POLYGON ((1512728.210 1114790.395, 1513376.355...  3.962358e+07  \n",
       "71   POLYGON ((1392408.589 1254075.975, 1392926.587...  4.218242e+07  \n",
       "219  POLYGON ((1368585.450 1841422.546, 1368890.083...  4.276265e+07  \n",
       "137  POLYGON ((1400985.334 1090149.755, 1401193.429...  4.304720e+07  \n",
       "..                                                 ...           ...  \n",
       "208  POLYGON ((1254742.289 1725448.049, 1256102.669...  2.632941e+09  \n",
       "169  POLYGON ((1355546.100 1714772.389, 1356067.799...  2.646973e+09  \n",
       "170  POLYGON ((1435789.028 1635776.088, 1434858.027...  2.841665e+09  \n",
       "255  POLYGON ((1027834.633 1599510.076, 1027586.139...  2.910653e+09  \n",
       "175  POLYGON ((1490279.493 1759163.823, 1490721.171...  3.232172e+09  \n",
       "\n",
       "[434 rows x 15 columns]"
      ]
     },
     "execution_count": 90,
     "metadata": {},
     "output_type": "execute_result"
    }
   ],
   "source": [
    "gdf['area_size'] = gdf['geometry'].area\n",
    "gdf.sort_values(by=['area_size'])\n",
    "#gdf.plot(figsize=(10, 10))"
   ]
  },
  {
   "cell_type": "code",
   "execution_count": 481,
   "id": "1ba76bd7",
   "metadata": {
    "scrolled": true
   },
   "outputs": [
    {
     "name": "stdout",
     "output_type": "stream",
     "text": [
      "CPU times: user 49.7 ms, sys: 22.2 ms, total: 71.9 ms\n",
      "Wall time: 94 ms\n"
     ]
    },
    {
     "data": {
      "image/png": "[encoded data removed]",
      "text/plain": [
       "<Figure size 720x720 with 1 Axes>"
      ]
     },
     "metadata": {
      "needs_background": "light"
     },
     "output_type": "display_data"
    }
   ],
   "source": [
    "%%time\n",
    "## preparing the base map of the region that is currently utilized\n",
    "\n",
    "#interate_map = gdf['NAME_3']\n",
    "brandenburgdf = gdf[gdf['NAME_3'] == 'Potsdam Städte']\n",
    "brandenburgbase = brandenburgdf.plot(color='white', edgecolor='black', cmap='Reds', figsize=(10, 10))\n",
    "#polygon_bounding_box = Polygon([(polygon.bounds.minx.values[0], polygon.bounds.miny.values[0]), (polygon.bounds.maxx.values[0], polygon.bounds.miny.values[0]), (polygon.bounds.maxx.values[0], polygon.bounds.maxy.values[0]), (polygon.bounds.minx.values[0], polygon.bounds.maxy.values[0])])\n",
    "\n",
    "#tet = interate_map.apply(lambda x: print(x))\n"
   ]
  },
  {
   "cell_type": "code",
   "execution_count": 96,
   "id": "60f80ad9",
   "metadata": {},
   "outputs": [],
   "source": [
    "## span entities within the polygon of the region\n",
    "#spawned_point = Point(random.uniform(polygon.bounds.minx.values[0], polygon.bounds.maxx.values[0]), random.uniform(polygon.bounds.miny.values[0], polygon.bounds.maxy.values[0]))\n",
    "\n",
    "x_coord_adding = random.randrange(-100, 100)\n",
    "y_coord_adding = random.randrange(-100, 100)\n",
    "def add_needed_col_to_vehicle(df):\n",
    "    df['type']='vehicle'\n",
    "    df['history']=[]\n",
    "    df['movement_direction']={'add_to_x':random.randrange(-moving_speed_vehicles, moving_speed_vehicles),'add_to_y': random.randrange(-moving_speed_vehicles,moving_speed_vehicles)}\n",
    "    df['movement_area']=df['geometry'].buffer(area_of_movemenet, cap_style=3)\n",
    "    df['movement_speed']= moving_speed_vehicles    \n",
    "    df['noise_volume']= noise_level_vehicles\n",
    "    df['noise_pollution_area']= affected_area_by_vehicles\n",
    "    return df\n",
    "\n",
    "def add_needed_col_to_people(df):\n",
    "    df['type']='person'\n",
    "    df['history']=[]\n",
    "    df['movement_direction']={'add_to_x':random.randrange(-moving_speed_people, moving_speed_people),'add_to_y': random.randrange(-moving_speed_people,moving_speed_people)}\n",
    "    df['movement_area']=df['geometry'].buffer(area_of_movemenet, cap_style=3)\n",
    "    df['movement_speed']= moving_speed_people    \n",
    "    df['noise_volume']= noise_level_people\n",
    "    df['noise_pollution_area']= affected_area_by_people\n",
    "    return df\n",
    "\n",
    "def spawnpeople(region_object_row):\n",
    "    counter_people = 0\n",
    "    counter_vehicle = 0\n",
    "\n",
    "    spawned_people = []\n",
    "    spawned_vehicles = []\n",
    "    #print(region_object_row['NAME_3'])\n",
    "    #print(type(region_object_row))\n",
    "    polygon = region_object_row['geometry']\n",
    "\n",
    "    while len(spawned_people) < number_of_people: \n",
    "        spawned_point = Point(random.uniform(polygon.bounds.minx.values[0], polygon.bounds.maxx.values[0]), random.uniform(polygon.bounds.miny.values[0], polygon.bounds.maxy.values[0]))\n",
    "        if(region_object_row['geometry'].contains(spawned_point).values[0]):\n",
    "            spawned_people.append(spawned_point)\n",
    "        counter_people += 1  \n",
    "\n",
    "    while len(spawned_vehicles) < number_of_vehicles: \n",
    "        spawned_point = Point(random.uniform(polygon.bounds.minx.values[0], polygon.bounds.maxx.values[0]), random.uniform(polygon.bounds.miny.values[0], polygon.bounds.maxy.values[0]))\n",
    "        if(region_object_row['geometry'].contains(spawned_point).values[0]):\n",
    "            spawned_vehicles.append(spawned_point)\n",
    "        counter_vehicle += 1\n",
    "        \n",
    "    #transforming data to Dataframe and adding columns for PEOPLE\n",
    "    spawned_people_df = pd.DataFrame(spawned_people, columns = ['geometry'])\n",
    "    spawned_people_geodf = geopd.GeoDataFrame(spawned_people_df, crs=3763)\n",
    "    spawned_people_geodf = spawned_people_geodf.apply(add_needed_col_to_people, axis=1)\n",
    "\n",
    "    #transforming data to Dataframe and adding columns for VEHICLES\n",
    "    spawned_vehicles_df = pd.DataFrame(spawned_vehicles, columns = ['geometry'])\n",
    "    spawned_vehicles_geodf = geopd.GeoDataFrame(spawned_vehicles_df, crs=3763)\n",
    "    spawned_vehicles_geodf = spawned_vehicles_geodf.apply(add_needed_col_to_vehicle, axis=1)\n",
    "\n",
    "    frames = [spawned_vehicles_geodf, spawned_people_geodf]\n",
    "    result = pd.concat(frames, ignore_index=True)\n",
    "    print(region_object_row['NAME_3'].values[0])\n",
    "    result['region_affiliation'] =region_object_row['NAME_3'].values[0]\n",
    "    return result\n"
   ]
  },
  {
   "cell_type": "code",
   "execution_count": 483,
   "id": "7f0bac50",
   "metadata": {
    "tags": [
     "TEST"
    ]
   },
   "outputs": [
    {
     "name": "stderr",
     "output_type": "stream",
     "text": [
      "/Users/aminhofmann/miniconda3/envs/noise-simulation/lib/python3.7/site-packages/geopandas/geodataframe.py:1322: SettingWithCopyWarning: \n",
      "A value is trying to be set on a copy of a slice from a DataFrame.\n",
      "Try using .loc[row_indexer,col_indexer] = value instead\n",
      "\n",
      "See the caveats in the documentation: https://pandas.pydata.org/pandas-docs/stable/user_guide/indexing.html#returning-a-view-versus-a-copy\n",
      "  super(GeoDataFrame, self).__setitem__(key, value)\n"
     ]
    },
    {
     "name": "stdout",
     "output_type": "stream",
     "text": [
      "Oldenburg\n"
     ]
    },
    {
     "data": {
      "text/html": [
       "<div>\n",
       "<style scoped>\n",
       "    .dataframe tbody tr th:only-of-type {\n",
       "        vertical-align: middle;\n",
       "    }\n",
       "\n",
       "    .dataframe tbody tr th {\n",
       "        vertical-align: top;\n",
       "    }\n",
       "\n",
       "    .dataframe thead th {\n",
       "        text-align: right;\n",
       "    }\n",
       "</style>\n",
       "<table border=\"1\" class=\"dataframe\">\n",
       "  <thead>\n",
       "    <tr style=\"text-align: right;\">\n",
       "      <th></th>\n",
       "      <th>ID_0</th>\n",
       "      <th>ISO</th>\n",
       "      <th>NAME_0</th>\n",
       "      <th>ID_1</th>\n",
       "      <th>NAME_1</th>\n",
       "      <th>ID_2</th>\n",
       "      <th>NAME_2</th>\n",
       "      <th>ID_3</th>\n",
       "      <th>NAME_3</th>\n",
       "      <th>NL_NAME_3</th>\n",
       "      <th>VARNAME_3</th>\n",
       "      <th>TYPE_3</th>\n",
       "      <th>ENGTYPE_3</th>\n",
       "      <th>geometry</th>\n",
       "      <th>area_size</th>\n",
       "    </tr>\n",
       "  </thead>\n",
       "  <tbody>\n",
       "    <tr>\n",
       "      <th>0</th>\n",
       "      <td>86</td>\n",
       "      <td>DEU</td>\n",
       "      <td>Germany</td>\n",
       "      <td>9</td>\n",
       "      <td>Niedersachsen</td>\n",
       "      <td>23</td>\n",
       "      <td>Weser-Ems</td>\n",
       "      <td>244</td>\n",
       "      <td>Oldenburg</td>\n",
       "      <td>None</td>\n",
       "      <td>None</td>\n",
       "      <td>Landkreise</td>\n",
       "      <td>Rural district</td>\n",
       "      <td>POLYGON ((1290773.810 1421304.010, 1292065.260...</td>\n",
       "      <td>1.142377e+09</td>\n",
       "    </tr>\n",
       "  </tbody>\n",
       "</table>\n",
       "</div>"
      ],
      "text/plain": [
       "   ID_0  ISO   NAME_0  ID_1         NAME_1  ID_2     NAME_2  ID_3     NAME_3  \\\n",
       "0    86  DEU  Germany     9  Niedersachsen    23  Weser-Ems   244  Oldenburg   \n",
       "\n",
       "  NL_NAME_3 VARNAME_3      TYPE_3       ENGTYPE_3  \\\n",
       "0      None      None  Landkreise  Rural district   \n",
       "\n",
       "                                            geometry     area_size  \n",
       "0  POLYGON ((1290773.810 1421304.010, 1292065.260...  1.142377e+09  "
      ]
     },
     "execution_count": 483,
     "metadata": {},
     "output_type": "execute_result"
    }
   ],
   "source": [
    "### Spawning moving entities into regions that are defined in geojson -->for now just into the city Oldenburg\n",
    "\n",
    "## preparing th    test2 = pd.DataFrame([i*2, i*3, i*4])\n",
    "#test = pd.concat([test, test2], ignore_index=True)e base map of the spawned_vehicles, columns = ['geometry'])region that is currently utilized\n",
    "\n",
    "gdf = gdf.to_crs(epsg=3763)\n",
    "#brandenburgbase = brandenburgdf.plot(color='white', edgecolor='black', cmap='Reds', figsize=(10, 10))\n",
    "polygon_bounding_box = Polygon([(1290773.81,1421304.01), (1292065.26,1421613.65), (1292294.97,1420691.03), (1290811.45,1420198.23)])\n",
    "newDF = pd.DataFrame([], columns = ['geometry', 'type', 'region_affiliation','history','movement_direction','movement_speed','noise_volume','noise_pollution_area'])\n",
    "#for index, row in gdf.iterrows():\n",
    "gdf_oldenburg = gdf[gdf['NAME_3'] == 'Oldenburg']\n",
    "#new_geodf = geopd.GeoDataFrame(data=[gdf_oldenburg], columns= ['ID_0', 'ISO', 'NAME_0', 'ID_1', 'NAME_1', 'ID_2', 'NAME_2', 'ID_3', 'NAME_3', 'NL_NAME_3', 'VARNAME_3', 'TYPE_3', 'ENGTYPE_3', 'geometry'], crs=3763)\n",
    "#newgeo = geopd.GeoSeries(data=row,crs=3763)\n",
    "gdf_oldenburg['geometry'] = polygon_bounding_box\n",
    "test2 = spawnpeople(gdf_oldenburg)\n",
    "#test = pd.Series(test2, index = ['geometry', 'type', 'region_affiliation','history','movement_direction','movement_area','movement_speed','noise_volume','noise_pollution_area'])\n",
    "newDF = newDF.append(test2, ignore_index=True)\n",
    "gdf_oldenburg\n",
    "    \n",
    "    "
   ]
  },
  {
   "cell_type": "code",
   "execution_count": 97,
   "id": "ff9fd8ee",
   "metadata": {
    "scrolled": true
   },
   "outputs": [
    {
     "name": "stderr",
     "output_type": "stream",
     "text": [
      "/Users/aminhofmann/miniconda3/lib/python3.9/site-packages/pandas/core/dtypes/cast.py:122: ShapelyDeprecationWarning: The array interface is deprecated and will no longer work in Shapely 2.0. Convert the '.coords' to a numpy array instead.\n",
      "  arr = construct_1d_object_array_from_listlike(values)\n"
     ]
    },
    {
     "ename": "TypeError",
     "evalue": "add_needed_col_to_people() missing 1 required positional argument: 'area'",
     "output_type": "error",
     "traceback": [
      "\u001b[0;31m---------------------------------------------------------------------------\u001b[0m",
      "\u001b[0;31mTypeError\u001b[0m                                 Traceback (most recent call last)",
      "\u001b[0;32m/var/folders/z5/3hh6k5k53jlgjlzdygqlzdg80000gn/T/ipykernel_18270/28218199.py\u001b[0m in \u001b[0;36m<module>\u001b[0;34m\u001b[0m\n\u001b[1;32m     13\u001b[0m \u001b[0;31m#new_geodf = geopd.GeoDataFrame(data=[gdf_oldenburg], columns= ['ID_0', 'ISO', 'NAME_0', 'ID_1', 'NAME_1', 'ID_2', 'NAME_2', 'ID_3', 'NAME_3', 'NL_NAME_3', 'VARNAME_3', 'TYPE_3', 'ENGTYPE_3', 'geometry'], crs=3763)\u001b[0m\u001b[0;34m\u001b[0m\u001b[0;34m\u001b[0m\u001b[0m\n\u001b[1;32m     14\u001b[0m \u001b[0;31m#newgeo = geopd.GeoSeries(data=row,crs=3763)\u001b[0m\u001b[0;34m\u001b[0m\u001b[0;34m\u001b[0m\u001b[0m\n\u001b[0;32m---> 15\u001b[0;31m \u001b[0mtest2\u001b[0m \u001b[0;34m=\u001b[0m \u001b[0mspawnpeople\u001b[0m\u001b[0;34m(\u001b[0m\u001b[0mgdf_oldenburg\u001b[0m\u001b[0;34m)\u001b[0m\u001b[0;34m\u001b[0m\u001b[0;34m\u001b[0m\u001b[0m\n\u001b[0m\u001b[1;32m     16\u001b[0m \u001b[0;31m#test = pd.Series(test2, index = ['geometry', 'type', 'region_affiliation','history','movement_direction','movement_area','movement_speed','noise_volume','noise_pollution_area'])\u001b[0m\u001b[0;34m\u001b[0m\u001b[0;34m\u001b[0m\u001b[0m\n\u001b[1;32m     17\u001b[0m \u001b[0mnewDF\u001b[0m \u001b[0;34m=\u001b[0m \u001b[0mnewDF\u001b[0m\u001b[0;34m.\u001b[0m\u001b[0mappend\u001b[0m\u001b[0;34m(\u001b[0m\u001b[0mtest2\u001b[0m\u001b[0;34m,\u001b[0m \u001b[0mignore_index\u001b[0m\u001b[0;34m=\u001b[0m\u001b[0;32mTrue\u001b[0m\u001b[0;34m)\u001b[0m\u001b[0;34m\u001b[0m\u001b[0;34m\u001b[0m\u001b[0m\n",
      "\u001b[0;32m/var/folders/z5/3hh6k5k53jlgjlzdygqlzdg80000gn/T/ipykernel_18270/752134708.py\u001b[0m in \u001b[0;36mspawnpeople\u001b[0;34m(region_object_row)\u001b[0m\n\u001b[1;32m     50\u001b[0m     \u001b[0mspawned_people_df\u001b[0m \u001b[0;34m=\u001b[0m \u001b[0mpd\u001b[0m\u001b[0;34m.\u001b[0m\u001b[0mDataFrame\u001b[0m\u001b[0;34m(\u001b[0m\u001b[0mspawned_people\u001b[0m\u001b[0;34m,\u001b[0m \u001b[0mcolumns\u001b[0m \u001b[0;34m=\u001b[0m \u001b[0;34m[\u001b[0m\u001b[0;34m'geometry'\u001b[0m\u001b[0;34m]\u001b[0m\u001b[0;34m)\u001b[0m\u001b[0;34m\u001b[0m\u001b[0;34m\u001b[0m\u001b[0m\n\u001b[1;32m     51\u001b[0m     \u001b[0mspawned_people_geodf\u001b[0m \u001b[0;34m=\u001b[0m \u001b[0mgeopd\u001b[0m\u001b[0;34m.\u001b[0m\u001b[0mGeoDataFrame\u001b[0m\u001b[0;34m(\u001b[0m\u001b[0mspawned_people_df\u001b[0m\u001b[0;34m,\u001b[0m \u001b[0mcrs\u001b[0m\u001b[0;34m=\u001b[0m\u001b[0;36m3763\u001b[0m\u001b[0;34m)\u001b[0m\u001b[0;34m\u001b[0m\u001b[0;34m\u001b[0m\u001b[0m\n\u001b[0;32m---> 52\u001b[0;31m     \u001b[0mspawned_people_geodf\u001b[0m \u001b[0;34m=\u001b[0m \u001b[0mspawned_people_geodf\u001b[0m\u001b[0;34m.\u001b[0m\u001b[0mapply\u001b[0m\u001b[0;34m(\u001b[0m\u001b[0madd_needed_col_to_people\u001b[0m\u001b[0;34m(\u001b[0m\u001b[0mpolygon\u001b[0m\u001b[0;34m)\u001b[0m\u001b[0;34m,\u001b[0m \u001b[0maxis\u001b[0m\u001b[0;34m=\u001b[0m\u001b[0;36m1\u001b[0m\u001b[0;34m)\u001b[0m\u001b[0;34m\u001b[0m\u001b[0;34m\u001b[0m\u001b[0m\n\u001b[0m\u001b[1;32m     53\u001b[0m \u001b[0;34m\u001b[0m\u001b[0m\n\u001b[1;32m     54\u001b[0m     \u001b[0;31m#transforming data to Dataframe and adding columns for VEHICLES\u001b[0m\u001b[0;34m\u001b[0m\u001b[0;34m\u001b[0m\u001b[0m\n",
      "\u001b[0;31mTypeError\u001b[0m: add_needed_col_to_people() missing 1 required positional argument: 'area'"
     ]
    }
   ],
   "source": [
    "### Spawning moving entities into regions that are defined in geojson -->for now just into the city Oldenburg\n",
    "\n",
    "## preparing th    test2 = pd.DataFrame([i*2, i*3, i*4])\n",
    "#test = pd.concat([test, test2], ignore_index=True)e base map of the spawned_vehicles, columns = ['geometry'])region that is currently utilized\n",
    "\n",
    "gdf = gdf.to_crs(epsg=3763)\n",
    "#brandenburgbase = brandenburgdf.plot(color='white', edgecolor='black', cmap='Reds', figsize=(10, 10))\n",
    "#polygon_bounding_box = Polygon([(polygon.bounds.minx.values[0], polygon.bounds.miny.values[0]), (polygon.bounds.maxx.values[0], polygon.bounds.miny.values[0]), (polygon.bounds.maxx.values[0], polygon.bounds.maxy.values[0]), (polygon.bounds.minx.values[0], polygon.bounds.maxy.values[0])])\n",
    "\n",
    "newDF = pd.DataFrame([], columns = ['geometry', 'type', 'region_affiliation','history','movement_direction','movement_speed','noise_volume','noise_pollution_area'])\n",
    "#for index, row in gdf.iterrows():\n",
    "gdf_oldenburg = gdf[gdf['NAME_3'] == 'Schweinfurt Städte']\n",
    "#new_geodf = geopd.GeoDataFrame(data=[gdf_oldenburg], columns= ['ID_0', 'ISO', 'NAME_0', 'ID_1', 'NAME_1', 'ID_2', 'NAME_2', 'ID_3', 'NAME_3', 'NL_NAME_3', 'VARNAME_3', 'TYPE_3', 'ENGTYPE_3', 'geometry'], crs=3763)\n",
    "#newgeo = geopd.GeoSeries(data=row,crs=3763)\n",
    "test2 = spawnpeople(gdf_oldenburg)\n",
    "#test = pd.Series(test2, index = ['geometry', 'type', 'region_affiliation','history','movement_direction','movement_area','movement_speed','noise_volume','noise_pollution_area'])\n",
    "newDF = newDF.append(test2, ignore_index=True)\n",
    "\n",
    "    \n",
    "    "
   ]
  },
  {
   "cell_type": "code",
   "execution_count": 83,
   "id": "d1a77dc5",
   "metadata": {},
   "outputs": [
    {
     "data": {
      "text/plain": [
       "shapely.geometry.polygon.Polygon"
      ]
     },
     "execution_count": 83,
     "metadata": {},
     "output_type": "execute_result"
    }
   ],
   "source": [
    "gdf_oldenburg.iloc[0]['geometry']"
   ]
  },
  {
   "cell_type": "code",
   "execution_count": 382,
   "id": "50e1ec7f",
   "metadata": {},
   "outputs": [],
   "source": [
    "## this can be ignored\n",
    "#spawned_people_geodf = spawned_people_geodf.set_geometry('geometry')\n",
    "#spawned_people_geodf.plot(ax=brandenburgbase, marker='o', color='white',edgecolor='red',markersize=3)\n",
    "#spawned_people_geodf.plot(color='white', edgecolor='black', markersize=1)"
   ]
  },
  {
   "cell_type": "code",
   "execution_count": 34,
   "id": "4bb259ca",
   "metadata": {
    "scrolled": true
   },
   "outputs": [
    {
     "ename": "AttributeError",
     "evalue": "'GeoDataFrame' object has no attribute 'hvplot'",
     "output_type": "error",
     "traceback": [
      "\u001b[0;31m---------------------------------------------------------------------------\u001b[0m",
      "\u001b[0;31mAttributeError\u001b[0m                            Traceback (most recent call last)",
      "\u001b[0;32m/var/folders/z5/3hh6k5k53jlgjlzdygqlzdg80000gn/T/ipykernel_18270/3671057524.py\u001b[0m in \u001b[0;36m<module>\u001b[0;34m\u001b[0m\n\u001b[1;32m      3\u001b[0m \u001b[0mgeonewdf\u001b[0m \u001b[0;34m=\u001b[0m \u001b[0mgeonewdf\u001b[0m\u001b[0;34m.\u001b[0m\u001b[0mset_geometry\u001b[0m\u001b[0;34m(\u001b[0m\u001b[0;34m'geometry'\u001b[0m\u001b[0;34m)\u001b[0m\u001b[0;34m\u001b[0m\u001b[0;34m\u001b[0m\u001b[0m\n\u001b[1;32m      4\u001b[0m \u001b[0;31m#fix = geonewdf.plot(color='white', edgecolor='black', markersize=0.5, figsize=(15, 15))\u001b[0m\u001b[0;34m\u001b[0m\u001b[0;34m\u001b[0m\u001b[0m\n\u001b[0;32m----> 5\u001b[0;31m \u001b[0mgeonewdf\u001b[0m\u001b[0;34m.\u001b[0m\u001b[0mhvplot\u001b[0m\u001b[0;34m(\u001b[0m\u001b[0mline_width\u001b[0m\u001b[0;34m=\u001b[0m\u001b[0;36m0.1\u001b[0m\u001b[0;34m,\u001b[0m \u001b[0mframe_width\u001b[0m\u001b[0;34m=\u001b[0m\u001b[0;36m800\u001b[0m\u001b[0;34m,\u001b[0m \u001b[0mframe_height\u001b[0m\u001b[0;34m=\u001b[0m\u001b[0;36m800\u001b[0m\u001b[0;34m)\u001b[0m\u001b[0;34m\u001b[0m\u001b[0;34m\u001b[0m\u001b[0m\n\u001b[0m",
      "\u001b[0;32m~/miniconda3/lib/python3.9/site-packages/pandas/core/generic.py\u001b[0m in \u001b[0;36m__getattr__\u001b[0;34m(self, name)\u001b[0m\n\u001b[1;32m   5581\u001b[0m         ):\n\u001b[1;32m   5582\u001b[0m             \u001b[0;32mreturn\u001b[0m \u001b[0mself\u001b[0m\u001b[0;34m[\u001b[0m\u001b[0mname\u001b[0m\u001b[0;34m]\u001b[0m\u001b[0;34m\u001b[0m\u001b[0;34m\u001b[0m\u001b[0m\n\u001b[0;32m-> 5583\u001b[0;31m         \u001b[0;32mreturn\u001b[0m \u001b[0mobject\u001b[0m\u001b[0;34m.\u001b[0m\u001b[0m__getattribute__\u001b[0m\u001b[0;34m(\u001b[0m\u001b[0mself\u001b[0m\u001b[0;34m,\u001b[0m \u001b[0mname\u001b[0m\u001b[0;34m)\u001b[0m\u001b[0;34m\u001b[0m\u001b[0;34m\u001b[0m\u001b[0m\n\u001b[0m\u001b[1;32m   5584\u001b[0m \u001b[0;34m\u001b[0m\u001b[0m\n\u001b[1;32m   5585\u001b[0m     \u001b[0;32mdef\u001b[0m \u001b[0m__setattr__\u001b[0m\u001b[0;34m(\u001b[0m\u001b[0mself\u001b[0m\u001b[0;34m,\u001b[0m \u001b[0mname\u001b[0m\u001b[0;34m:\u001b[0m \u001b[0mstr\u001b[0m\u001b[0;34m,\u001b[0m \u001b[0mvalue\u001b[0m\u001b[0;34m)\u001b[0m \u001b[0;34m->\u001b[0m \u001b[0;32mNone\u001b[0m\u001b[0;34m:\u001b[0m\u001b[0;34m\u001b[0m\u001b[0;34m\u001b[0m\u001b[0m\n",
      "\u001b[0;31mAttributeError\u001b[0m: 'GeoDataFrame' object has no attribute 'hvplot'"
     ]
    }
   ],
   "source": [
    "## here you can see the potitions of entities at moment x spawned in oldenburg\n",
    "geonewdf= geopd.GeoDataFrame(newDF, crs=3763)\n",
    "geonewdf = geonewdf.set_geometry('geometry')\n",
    "#fix = geonewdf.plot(color='white', edgecolor='black', markersize=0.5, figsize=(15, 15))\n",
    "geonewdf.hvplot(line_width=0.1, frame_width=800, frame_height=800)\n"
   ]
  },
  {
   "cell_type": "markdown",
   "id": "9d424650",
   "metadata": {},
   "source": [
    "### Run simulation of people movement"
   ]
  },
  {
   "cell_type": "code",
   "execution_count": 39,
   "id": "9496c521",
   "metadata": {},
   "outputs": [],
   "source": [
    "#test.apply(lambda x: x['history'].append({'geometry': x['geometry'], 't':datetime.now()}), axis=1)\n",
    "def simulateMovement(array):\n",
    "    test = array['history'].copy()\n",
    "    test.append({'geometry': array['geometry'], 't':datetime.now()})\n",
    "    array['history'] = test\n",
    "    new_point =Point(array['geometry'].x + array['movement_direction']['add_to_x'], array['geometry'].y + array['movement_direction']['add_to_y'])\n",
    "    while array['movement_area'].contains(new_point) != True:\n",
    "        new_x_coord_adding = random.randrange(-100, 100)\n",
    "        new_y_coord_adding = random.randrange(-100, 100)\n",
    "        new_point =Point(array['geometry'].x + new_x_coord_adding, array['geometry'].y + new_y_coord_adding)\n",
    "        array['movement_direction'] = {'add_to_x':new_x_coord_adding,'add_to_y': new_y_coord_adding}\n",
    "    \n",
    "    array['geometry'] = new_point\n",
    "    return array\n",
    "#test = spawned_people_geodf.apply(simulateMovement, axis=1)\n",
    "#spawned_people_geodf"
   ]
  },
  {
   "cell_type": "markdown",
   "id": "c254112e",
   "metadata": {},
   "source": [
    "## simulation of people moving in a ploygon -->currently not using\n",
    "brandenburgbase1 = brandenburgdf.plot(color='white', edgecolor='black', cmap='Reds', figsize=(10, 10))\n",
    "while len(spawned_people_geodf['history'][0]) < 1000:    \n",
    "    spawned_people_geodf= spawned_people_geodf.apply(simulateMovement, axis=1)\n",
    "    #df = pd.DataFrame(spawned_people_geodf['history'][0]).set_index('t')\n",
    "    gdf = geopd.GeoDataFrame(spawned_people_geodf, crs=CRS(3763))\n",
    "    gdfbase = gdf.set_geometry(\"movement_area\")\n",
    "    #gdfbase = gdf.plot(edgecolor='black', cmap='Reds', figsize=(10, 10))\n",
    "    gdfbase_with_movement = gdfbase.plot(ax=brandenburgbase1, marker='o', color='white',edgecolor='red',markersize=3)\n",
    "    gdf.plot(ax=gdfbase_with_movement, marker='o', color='black',markersize=5)\n",
    "    #agentsdf = gdf.to_crs(epsg=4326)\n",
    "    #traj = mpd.Trajectory(agentsdf, 1)\n",
    "    #test = traj.hvplot(geo=True, tiles='OSM', line_width=1, frame_width=500, frame_height=500)\n",
    "    display.clear_output(wait=True)\n",
    "    display.display(pl.gcf())\n",
    "    time.sleep(0.005)\n",
    "    print(len(spawned_people_geodf['history'][0]))"
   ]
  },
  {
   "cell_type": "code",
   "execution_count": 37,
   "id": "cf9ede66",
   "metadata": {},
   "outputs": [],
   "source": [
    "spawned_people_geodf = newDF.copy()"
   ]
  },
  {
   "cell_type": "code",
   "execution_count": 43,
   "id": "fed26e03",
   "metadata": {},
   "outputs": [
    {
     "name": "stdout",
     "output_type": "stream",
     "text": [
      "3\n",
      "4\n",
      "5\n"
     ]
    }
   ],
   "source": [
    "## simulation of people moving in a ploygon\n",
    "while len(spawned_people_geodf['history'][0]) < 5:    \n",
    "    spawned_people_geodf= spawned_people_geodf.apply(simulateMovement, axis=1)\n",
    "    #df = pd.DataFrame(spawned_people_geodf['history'][0]).set_index('t')\n",
    "    gdf = geopd.GeoDataFrame(spawned_people_geodf, crs=CRS(3763))\n",
    "    \n",
    "    #frame = spawned_people_geodf.plot(color='green',markersize=3, figsize=(10, 10))\n",
    "    #agentsdf = gdf.to_crs(epsg=4326)\n",
    "    #traj = mpd.Trajectory(agentsdf, 1)\n",
    "    #test = traj.hvplot(geo=True, tiles='OSM', line_width=1, frame_width=500, frame_height=500)\n",
    "    #display.clear_output(wait=True)\n",
    "    #display.display(pl.gcf())\n",
    "    #time.sleep(1)\n",
    "    print(len(spawned_people_geodf['history'][0]))"
   ]
  },
  {
   "cell_type": "code",
   "execution_count": 58,
   "id": "fc2da034",
   "metadata": {},
   "outputs": [
    {
     "data": {
      "text/plain": [
       "geometry                    POINT (1310153.7450401683 1313140.2859622054)\n",
       "type                                                              vehicle\n",
       "region_affiliation                                     Schweinfurt Städte\n",
       "history                 [{'geometry': POINT (1310388.7450401683 131328...\n",
       "movement_direction                     {'add_to_x': -47, 'add_to_y': -28}\n",
       "movement_speed                                                         50\n",
       "noise_volume                                                           70\n",
       "noise_pollution_area                                                   20\n",
       "movement_area           POLYGON ((1311388.7450401683 1314280.285962205...\n",
       "Name: 0, dtype: object"
      ]
     },
     "execution_count": 58,
     "metadata": {},
     "output_type": "execute_result"
    }
   ],
   "source": [
    "spawned_people_geodf.iloc[0]"
   ]
  },
  {
   "cell_type": "code",
   "execution_count": 488,
   "id": "586d0338",
   "metadata": {},
   "outputs": [
    {
     "data": {
      "text/html": [
       "<div>\n",
       "<style scoped>\n",
       "    .dataframe tbody tr th:only-of-type {\n",
       "        vertical-align: middle;\n",
       "    }\n",
       "\n",
       "    .dataframe tbody tr th {\n",
       "        vertical-align: top;\n",
       "    }\n",
       "\n",
       "    .dataframe thead th {\n",
       "        text-align: right;\n",
       "    }\n",
       "</style>\n",
       "<table border=\"1\" class=\"dataframe\">\n",
       "  <thead>\n",
       "    <tr style=\"text-align: right;\">\n",
       "      <th></th>\n",
       "      <th>geometry</th>\n",
       "      <th>type</th>\n",
       "      <th>region_affiliation</th>\n",
       "      <th>history</th>\n",
       "      <th>movement_direction</th>\n",
       "      <th>movement_speed</th>\n",
       "      <th>noise_volume</th>\n",
       "      <th>noise_pollution_area</th>\n",
       "      <th>movement_area</th>\n",
       "    </tr>\n",
       "  </thead>\n",
       "  <tbody>\n",
       "    <tr>\n",
       "      <th>0</th>\n",
       "      <td>POLYGON ((10.32268 50.98041, 10.32268 50.98041...</td>\n",
       "      <td>vehicle</td>\n",
       "      <td>Oldenburg</td>\n",
       "      <td>[{'geometry': POINT (1291086.615565773 1421220...</td>\n",
       "      <td>{'add_to_x': 3, 'add_to_y': 49}</td>\n",
       "      <td>50</td>\n",
       "      <td>70</td>\n",
       "      <td>POLYGON ((1291102.615565773 1421318.18690883, ...</td>\n",
       "      <td>POLYGON ((1292086.615565773 1422220.18690883, ...</td>\n",
       "    </tr>\n",
       "  </tbody>\n",
       "</table>\n",
       "</div>"
      ],
      "text/plain": [
       "                                            geometry     type  \\\n",
       "0  POLYGON ((10.32268 50.98041, 10.32268 50.98041...  vehicle   \n",
       "\n",
       "  region_affiliation                                            history  \\\n",
       "0          Oldenburg  [{'geometry': POINT (1291086.615565773 1421220...   \n",
       "\n",
       "                movement_direction  movement_speed  noise_volume  \\\n",
       "0  {'add_to_x': 3, 'add_to_y': 49}              50            70   \n",
       "\n",
       "                                noise_pollution_area  \\\n",
       "0  POLYGON ((1291102.615565773 1421318.18690883, ...   \n",
       "\n",
       "                                       movement_area  \n",
       "0  POLYGON ((1292086.615565773 1422220.18690883, ...  "
      ]
     },
     "execution_count": 488,
     "metadata": {},
     "output_type": "execute_result"
    }
   ],
   "source": [
    "oldenburdf = spawned_people_geodf[spawned_people_geodf['region_affiliation'] == 'Oldenburg']\n",
    "geo_oldenburg = geopd.GeoDataFrame(oldenburdf, crs=3763)\n",
    "geo_oldenburg['noise_pollution_area']= oldenburdf['geometry'].apply(lambda x: x.buffer(10, cap_style=1))\n",
    "#geo_oldenburg = geo_oldenburg.set_geometry('noise_pollution_area')\n",
    "geo_oldenburg['geometry'] = geo_oldenburg['noise_pollution_area']\n",
    "geo_oldenburg = geo_oldenburg.to_crs(4326)\n",
    "#df = geo_oldenburg.h3.geo_to_h3(15)\n",
    "geo_oldenburg.head(1)\n"
   ]
  },
  {
   "cell_type": "code",
   "execution_count": 489,
   "id": "3c4c84e1",
   "metadata": {},
   "outputs": [],
   "source": [
    "geo_oldenburg_H3 = geo_oldenburg.h3.polyfill(15, explode=True)\n"
   ]
  },
  {
   "cell_type": "code",
   "execution_count": 492,
   "id": "3d8951c9",
   "metadata": {},
   "outputs": [
    {
     "data": {
      "text/html": [
       "<div>\n",
       "<style scoped>\n",
       "    .dataframe tbody tr th:only-of-type {\n",
       "        vertical-align: middle;\n",
       "    }\n",
       "\n",
       "    .dataframe tbody tr th {\n",
       "        vertical-align: top;\n",
       "    }\n",
       "\n",
       "    .dataframe thead th {\n",
       "        text-align: right;\n",
       "    }\n",
       "</style>\n",
       "<table border=\"1\" class=\"dataframe\">\n",
       "  <thead>\n",
       "    <tr style=\"text-align: right;\">\n",
       "      <th></th>\n",
       "      <th>geometry</th>\n",
       "      <th>type</th>\n",
       "      <th>region_affiliation</th>\n",
       "      <th>history</th>\n",
       "      <th>movement_direction</th>\n",
       "      <th>movement_speed</th>\n",
       "      <th>noise_volume</th>\n",
       "      <th>noise_pollution_area</th>\n",
       "      <th>movement_area</th>\n",
       "      <th>h3_polyfill</th>\n",
       "    </tr>\n",
       "  </thead>\n",
       "  <tbody>\n",
       "    <tr>\n",
       "      <th>0</th>\n",
       "      <td>POLYGON ((10.32268 50.98041, 10.32268 50.98041...</td>\n",
       "      <td>vehicle</td>\n",
       "      <td>Oldenburg</td>\n",
       "      <td>[{'geometry': POINT (1291086.615565773 1421220...</td>\n",
       "      <td>{'add_to_x': 3, 'add_to_y': 49}</td>\n",
       "      <td>50</td>\n",
       "      <td>70</td>\n",
       "      <td>POLYGON ((1291102.615565773 1421318.18690883, ...</td>\n",
       "      <td>POLYGON ((1292086.615565773 1422220.18690883, ...</td>\n",
       "      <td>8f1fad1b16a4520</td>\n",
       "    </tr>\n",
       "  </tbody>\n",
       "</table>\n",
       "</div>"
      ],
      "text/plain": [
       "                                            geometry     type  \\\n",
       "0  POLYGON ((10.32268 50.98041, 10.32268 50.98041...  vehicle   \n",
       "\n",
       "  region_affiliation                                            history  \\\n",
       "0          Oldenburg  [{'geometry': POINT (1291086.615565773 1421220...   \n",
       "\n",
       "                movement_direction  movement_speed  noise_volume  \\\n",
       "0  {'add_to_x': 3, 'add_to_y': 49}              50            70   \n",
       "\n",
       "                                noise_pollution_area  \\\n",
       "0  POLYGON ((1291102.615565773 1421318.18690883, ...   \n",
       "\n",
       "                                       movement_area      h3_polyfill  \n",
       "0  POLYGON ((1292086.615565773 1422220.18690883, ...  8f1fad1b16a4520  "
      ]
     },
     "execution_count": 492,
     "metadata": {},
     "output_type": "execute_result"
    }
   ],
   "source": [
    "geo_oldenburg_H3.head(1)"
   ]
  },
  {
   "cell_type": "code",
   "execution_count": null,
   "id": "173755d4",
   "metadata": {},
   "outputs": [],
   "source": [
    "geo_oldenburg_H3.hvplot(line_width=0.1, frame_width=800, frame_height=800)"
   ]
  },
  {
   "cell_type": "code",
   "execution_count": 496,
   "id": "fa131eea",
   "metadata": {},
   "outputs": [
    {
     "data": {
      "text/html": [
       "<div>\n",
       "<style scoped>\n",
       "    .dataframe tbody tr th:only-of-type {\n",
       "        vertical-align: middle;\n",
       "    }\n",
       "\n",
       "    .dataframe tbody tr th {\n",
       "        vertical-align: top;\n",
       "    }\n",
       "\n",
       "    .dataframe thead th {\n",
       "        text-align: right;\n",
       "    }\n",
       "</style>\n",
       "<table border=\"1\" class=\"dataframe\">\n",
       "  <thead>\n",
       "    <tr style=\"text-align: right;\">\n",
       "      <th></th>\n",
       "      <th>h3_polyfill</th>\n",
       "      <th>amount</th>\n",
       "    </tr>\n",
       "  </thead>\n",
       "  <tbody>\n",
       "    <tr>\n",
       "      <th>0</th>\n",
       "      <td>8f1fad186112800</td>\n",
       "      <td>1</td>\n",
       "    </tr>\n",
       "    <tr>\n",
       "      <th>387414</th>\n",
       "      <td>8f1fad1b16cb665</td>\n",
       "      <td>1</td>\n",
       "    </tr>\n",
       "    <tr>\n",
       "      <th>387413</th>\n",
       "      <td>8f1fad1b16cb664</td>\n",
       "      <td>1</td>\n",
       "    </tr>\n",
       "    <tr>\n",
       "      <th>387412</th>\n",
       "      <td>8f1fad1b16cb663</td>\n",
       "      <td>1</td>\n",
       "    </tr>\n",
       "    <tr>\n",
       "      <th>387411</th>\n",
       "      <td>8f1fad1b16cb662</td>\n",
       "      <td>1</td>\n",
       "    </tr>\n",
       "    <tr>\n",
       "      <th>...</th>\n",
       "      <td>...</td>\n",
       "      <td>...</td>\n",
       "    </tr>\n",
       "    <tr>\n",
       "      <th>361861</th>\n",
       "      <td>8f1fad1b169dc13</td>\n",
       "      <td>7</td>\n",
       "    </tr>\n",
       "    <tr>\n",
       "      <th>361862</th>\n",
       "      <td>8f1fad1b169dc14</td>\n",
       "      <td>7</td>\n",
       "    </tr>\n",
       "    <tr>\n",
       "      <th>361889</th>\n",
       "      <td>8f1fad1b169dc33</td>\n",
       "      <td>7</td>\n",
       "    </tr>\n",
       "    <tr>\n",
       "      <th>361982</th>\n",
       "      <td>8f1fad1b169dcad</td>\n",
       "      <td>7</td>\n",
       "    </tr>\n",
       "    <tr>\n",
       "      <th>361863</th>\n",
       "      <td>8f1fad1b169dc15</td>\n",
       "      <td>7</td>\n",
       "    </tr>\n",
       "  </tbody>\n",
       "</table>\n",
       "<p>610518 rows × 2 columns</p>\n",
       "</div>"
      ],
      "text/plain": [
       "            h3_polyfill  amount\n",
       "0       8f1fad186112800       1\n",
       "387414  8f1fad1b16cb665       1\n",
       "387413  8f1fad1b16cb664       1\n",
       "387412  8f1fad1b16cb663       1\n",
       "387411  8f1fad1b16cb662       1\n",
       "...                 ...     ...\n",
       "361861  8f1fad1b169dc13       7\n",
       "361862  8f1fad1b169dc14       7\n",
       "361889  8f1fad1b169dc33       7\n",
       "361982  8f1fad1b169dcad       7\n",
       "361863  8f1fad1b169dc15       7\n",
       "\n",
       "[610518 rows x 2 columns]"
      ]
     },
     "execution_count": 496,
     "metadata": {},
     "output_type": "execute_result"
    }
   ],
   "source": [
    "count_series = geo_oldenburg_H3.groupby('h3_polyfill').size()\n",
    "new_df = count_series.to_frame(name = 'amount').reset_index()\n",
    "new_df.sort_values(by=['amount'])"
   ]
  },
  {
   "cell_type": "code",
   "execution_count": null,
   "id": "f9676a95",
   "metadata": {},
   "outputs": [],
   "source": []
  },
  {
   "cell_type": "code",
   "execution_count": 500,
   "id": "0b11104f",
   "metadata": {},
   "outputs": [
    {
     "ename": "TypeError",
     "evalue": "h3_to_geo_boundary() got an unexpected keyword argument 'h3_address'",
     "output_type": "error",
     "traceback": [
      "\u001b[0;31m---------------------------------------------------------------------------\u001b[0m",
      "\u001b[0;31mTypeError\u001b[0m                                 Traceback (most recent call last)",
      "\u001b[0;32m/var/folders/z5/3hh6k5k53jlgjlzdygqlzdg80000gn/T/ipykernel_56826/1659935205.py\u001b[0m in \u001b[0;36m<module>\u001b[0;34m\u001b[0m\n\u001b[0;32m----> 1\u001b[0;31m \u001b[0mdf_aggreg\u001b[0m \u001b[0;34m=\u001b[0m \u001b[0mcounts_by_hexagon\u001b[0m\u001b[0;34m(\u001b[0m\u001b[0mdf\u001b[0m \u001b[0;34m=\u001b[0m \u001b[0mgeo_oldenburg_H3\u001b[0m\u001b[0;34m)\u001b[0m\u001b[0;34m\u001b[0m\u001b[0;34m\u001b[0m\u001b[0m\n\u001b[0m\u001b[1;32m      2\u001b[0m \u001b[0;34m\u001b[0m\u001b[0m\n\u001b[1;32m      3\u001b[0m \u001b[0;34m\u001b[0m\u001b[0m\n\u001b[1;32m      4\u001b[0m \u001b[0;31m#df_aggreg.sort_values(by = \"value\", ascending = False, inplace = True)\u001b[0m\u001b[0;34m\u001b[0m\u001b[0;34m\u001b[0m\u001b[0;34m\u001b[0m\u001b[0m\n\u001b[1;32m      5\u001b[0m \u001b[0;31m# Creates a map using Folium\u001b[0m\u001b[0;34m\u001b[0m\u001b[0;34m\u001b[0m\u001b[0;34m\u001b[0m\u001b[0m\n",
      "\u001b[0;32m/var/folders/z5/3hh6k5k53jlgjlzdygqlzdg80000gn/T/ipykernel_56826/3722755175.py\u001b[0m in \u001b[0;36mcounts_by_hexagon\u001b[0;34m(df)\u001b[0m\n\u001b[1;32m     12\u001b[0m     \u001b[0mdf_aggreg\u001b[0m\u001b[0;34m.\u001b[0m\u001b[0mcolumns\u001b[0m \u001b[0;34m=\u001b[0m \u001b[0;34m[\u001b[0m\u001b[0;34m\"h3_polyfill\"\u001b[0m\u001b[0;34m,\u001b[0m \u001b[0;34m\"value\"\u001b[0m\u001b[0;34m]\u001b[0m\u001b[0;34m\u001b[0m\u001b[0;34m\u001b[0m\u001b[0m\n\u001b[1;32m     13\u001b[0m \u001b[0;34m\u001b[0m\u001b[0m\n\u001b[0;32m---> 14\u001b[0;31m     df_aggreg[\"geometry\"] =  df_aggreg.h3_polyfill.apply(lambda x: \n\u001b[0m\u001b[1;32m     15\u001b[0m                                                            {    \"type\" : \"Polygon\",\n\u001b[1;32m     16\u001b[0m                                                                  \u001b[0;34m\"coordinates\"\u001b[0m\u001b[0;34m:\u001b[0m\u001b[0;34m\u001b[0m\u001b[0;34m\u001b[0m\u001b[0m\n",
      "\u001b[0;32m~/miniconda3/envs/noise-simulation/lib/python3.7/site-packages/pandas/core/series.py\u001b[0m in \u001b[0;36mapply\u001b[0;34m(self, func, convert_dtype, args, **kwargs)\u001b[0m\n\u001b[1;32m   4355\u001b[0m         \u001b[0mdtype\u001b[0m\u001b[0;34m:\u001b[0m \u001b[0mfloat64\u001b[0m\u001b[0;34m\u001b[0m\u001b[0;34m\u001b[0m\u001b[0m\n\u001b[1;32m   4356\u001b[0m         \"\"\"\n\u001b[0;32m-> 4357\u001b[0;31m         \u001b[0;32mreturn\u001b[0m \u001b[0mSeriesApply\u001b[0m\u001b[0;34m(\u001b[0m\u001b[0mself\u001b[0m\u001b[0;34m,\u001b[0m \u001b[0mfunc\u001b[0m\u001b[0;34m,\u001b[0m \u001b[0mconvert_dtype\u001b[0m\u001b[0;34m,\u001b[0m \u001b[0margs\u001b[0m\u001b[0;34m,\u001b[0m \u001b[0mkwargs\u001b[0m\u001b[0;34m)\u001b[0m\u001b[0;34m.\u001b[0m\u001b[0mapply\u001b[0m\u001b[0;34m(\u001b[0m\u001b[0;34m)\u001b[0m\u001b[0;34m\u001b[0m\u001b[0;34m\u001b[0m\u001b[0m\n\u001b[0m\u001b[1;32m   4358\u001b[0m \u001b[0;34m\u001b[0m\u001b[0m\n\u001b[1;32m   4359\u001b[0m     def _reduce(\n",
      "\u001b[0;32m~/miniconda3/envs/noise-simulation/lib/python3.7/site-packages/pandas/core/apply.py\u001b[0m in \u001b[0;36mapply\u001b[0;34m(self)\u001b[0m\n\u001b[1;32m   1041\u001b[0m             \u001b[0;32mreturn\u001b[0m \u001b[0mself\u001b[0m\u001b[0;34m.\u001b[0m\u001b[0mapply_str\u001b[0m\u001b[0;34m(\u001b[0m\u001b[0;34m)\u001b[0m\u001b[0;34m\u001b[0m\u001b[0;34m\u001b[0m\u001b[0m\n\u001b[1;32m   1042\u001b[0m \u001b[0;34m\u001b[0m\u001b[0m\n\u001b[0;32m-> 1043\u001b[0;31m         \u001b[0;32mreturn\u001b[0m \u001b[0mself\u001b[0m\u001b[0;34m.\u001b[0m\u001b[0mapply_standard\u001b[0m\u001b[0;34m(\u001b[0m\u001b[0;34m)\u001b[0m\u001b[0;34m\u001b[0m\u001b[0;34m\u001b[0m\u001b[0m\n\u001b[0m\u001b[1;32m   1044\u001b[0m \u001b[0;34m\u001b[0m\u001b[0m\n\u001b[1;32m   1045\u001b[0m     \u001b[0;32mdef\u001b[0m \u001b[0magg\u001b[0m\u001b[0;34m(\u001b[0m\u001b[0mself\u001b[0m\u001b[0;34m)\u001b[0m\u001b[0;34m:\u001b[0m\u001b[0;34m\u001b[0m\u001b[0;34m\u001b[0m\u001b[0m\n",
      "\u001b[0;32m~/miniconda3/envs/noise-simulation/lib/python3.7/site-packages/pandas/core/apply.py\u001b[0m in \u001b[0;36mapply_standard\u001b[0;34m(self)\u001b[0m\n\u001b[1;32m   1099\u001b[0m                     \u001b[0mvalues\u001b[0m\u001b[0;34m,\u001b[0m\u001b[0;34m\u001b[0m\u001b[0;34m\u001b[0m\u001b[0m\n\u001b[1;32m   1100\u001b[0m                     \u001b[0mf\u001b[0m\u001b[0;34m,\u001b[0m  \u001b[0;31m# type: ignore[arg-type]\u001b[0m\u001b[0;34m\u001b[0m\u001b[0;34m\u001b[0m\u001b[0m\n\u001b[0;32m-> 1101\u001b[0;31m                     \u001b[0mconvert\u001b[0m\u001b[0;34m=\u001b[0m\u001b[0mself\u001b[0m\u001b[0;34m.\u001b[0m\u001b[0mconvert_dtype\u001b[0m\u001b[0;34m,\u001b[0m\u001b[0;34m\u001b[0m\u001b[0;34m\u001b[0m\u001b[0m\n\u001b[0m\u001b[1;32m   1102\u001b[0m                 )\n\u001b[1;32m   1103\u001b[0m \u001b[0;34m\u001b[0m\u001b[0m\n",
      "\u001b[0;32m~/miniconda3/envs/noise-simulation/lib/python3.7/site-packages/pandas/_libs/lib.pyx\u001b[0m in \u001b[0;36mpandas._libs.lib.map_infer\u001b[0;34m()\u001b[0m\n",
      "\u001b[0;32m/var/folders/z5/3hh6k5k53jlgjlzdygqlzdg80000gn/T/ipykernel_56826/3722755175.py\u001b[0m in \u001b[0;36m<lambda>\u001b[0;34m(x)\u001b[0m\n\u001b[1;32m     15\u001b[0m                                                            {    \"type\" : \"Polygon\",\n\u001b[1;32m     16\u001b[0m                                                                  \u001b[0;34m\"coordinates\"\u001b[0m\u001b[0;34m:\u001b[0m\u001b[0;34m\u001b[0m\u001b[0;34m\u001b[0m\u001b[0m\n\u001b[0;32m---> 17\u001b[0;31m                                                                 \u001b[0;34m[\u001b[0m\u001b[0mh3\u001b[0m\u001b[0;34m.\u001b[0m\u001b[0mh3_to_geo_boundary\u001b[0m\u001b[0;34m(\u001b[0m\u001b[0mh3_address\u001b[0m\u001b[0;34m=\u001b[0m\u001b[0mx\u001b[0m\u001b[0;34m,\u001b[0m\u001b[0mgeo_json\u001b[0m\u001b[0;34m=\u001b[0m\u001b[0;32mTrue\u001b[0m\u001b[0;34m)\u001b[0m\u001b[0;34m]\u001b[0m\u001b[0;34m\u001b[0m\u001b[0;34m\u001b[0m\u001b[0m\n\u001b[0m\u001b[1;32m     18\u001b[0m                                                             }\n\u001b[1;32m     19\u001b[0m                                                         )\n",
      "\u001b[0;31mTypeError\u001b[0m: h3_to_geo_boundary() got an unexpected keyword argument 'h3_address'"
     ]
    }
   ],
   "source": [
    "df_aggreg = counts_by_hexagon(df = geo_oldenburg_H3)\n",
    "\n",
    "\n",
    "#df_aggreg.sort_values(by = \"value\", ascending = False, inplace = True)\n",
    "# Creates a map using Folium\n",
    "#hexmap = choropleth_map(df_aggreg = df_aggreg, with_legend = True)"
   ]
  },
  {
   "cell_type": "code",
   "execution_count": 117,
   "id": "5a5d9ac4",
   "metadata": {
    "scrolled": true
   },
   "outputs": [
    {
     "ename": "ValueError",
     "evalue": "x attribute access only provided for Point geometries",
     "output_type": "error",
     "traceback": [
      "\u001b[0;31m---------------------------------------------------------------------------\u001b[0m",
      "\u001b[0;31mValueError\u001b[0m                                Traceback (most recent call last)",
      "\u001b[0;32m/var/folders/z5/3hh6k5k53jlgjlzdygqlzdg80000gn/T/ipykernel_56826/1406562929.py\u001b[0m in \u001b[0;36m<module>\u001b[0;34m\u001b[0m\n\u001b[1;32m      8\u001b[0m \u001b[0mgeo_oldenburg\u001b[0m\u001b[0;34m[\u001b[0m\u001b[0;34m'count'\u001b[0m\u001b[0;34m]\u001b[0m\u001b[0;34m=\u001b[0m\u001b[0;36m1\u001b[0m\u001b[0;34m\u001b[0m\u001b[0;34m\u001b[0m\u001b[0m\n\u001b[1;32m      9\u001b[0m \u001b[0;31m#geo_oldenburg = geo_oldenburg.drop(columns=['movement_speed', 'noise_volume','geometry'])\u001b[0m\u001b[0;34m\u001b[0m\u001b[0;34m\u001b[0m\u001b[0;34m\u001b[0m\u001b[0m\n\u001b[0;32m---> 10\u001b[0;31m \u001b[0mdf\u001b[0m \u001b[0;34m=\u001b[0m \u001b[0mgeo_oldenburg\u001b[0m\u001b[0;34m.\u001b[0m\u001b[0mh3\u001b[0m\u001b[0;34m.\u001b[0m\u001b[0mgeo_to_h3\u001b[0m\u001b[0;34m(\u001b[0m\u001b[0;36m8\u001b[0m\u001b[0;34m)\u001b[0m\u001b[0;34m\u001b[0m\u001b[0;34m\u001b[0m\u001b[0m\n\u001b[0m\u001b[1;32m     11\u001b[0m \u001b[0;34m\u001b[0m\u001b[0m\n\u001b[1;32m     12\u001b[0m \u001b[0;31m#.groupby('h3_08').sum()\u001b[0m\u001b[0;34m\u001b[0m\u001b[0;34m\u001b[0m\u001b[0;34m\u001b[0m\u001b[0m\n",
      "\u001b[0;32m~/miniconda3/envs/noise-simulation/lib/python3.7/site-packages/h3pandas/h3pandas.py\u001b[0m in \u001b[0;36mgeo_to_h3\u001b[0;34m(self, resolution, lat_col, lng_col, set_index)\u001b[0m\n\u001b[1;32m     87\u001b[0m         \"\"\"\n\u001b[1;32m     88\u001b[0m         \u001b[0;32mif\u001b[0m \u001b[0misinstance\u001b[0m\u001b[0;34m(\u001b[0m\u001b[0mself\u001b[0m\u001b[0;34m.\u001b[0m\u001b[0m_df\u001b[0m\u001b[0;34m,\u001b[0m \u001b[0mgpd\u001b[0m\u001b[0;34m.\u001b[0m\u001b[0mGeoDataFrame\u001b[0m\u001b[0;34m)\u001b[0m\u001b[0;34m:\u001b[0m\u001b[0;34m\u001b[0m\u001b[0;34m\u001b[0m\u001b[0m\n\u001b[0;32m---> 89\u001b[0;31m             \u001b[0mlngs\u001b[0m \u001b[0;34m=\u001b[0m \u001b[0mself\u001b[0m\u001b[0;34m.\u001b[0m\u001b[0m_df\u001b[0m\u001b[0;34m.\u001b[0m\u001b[0mgeometry\u001b[0m\u001b[0;34m.\u001b[0m\u001b[0mx\u001b[0m\u001b[0;34m\u001b[0m\u001b[0;34m\u001b[0m\u001b[0m\n\u001b[0m\u001b[1;32m     90\u001b[0m             \u001b[0mlats\u001b[0m \u001b[0;34m=\u001b[0m \u001b[0mself\u001b[0m\u001b[0;34m.\u001b[0m\u001b[0m_df\u001b[0m\u001b[0;34m.\u001b[0m\u001b[0mgeometry\u001b[0m\u001b[0;34m.\u001b[0m\u001b[0my\u001b[0m\u001b[0;34m\u001b[0m\u001b[0;34m\u001b[0m\u001b[0m\n\u001b[1;32m     91\u001b[0m         \u001b[0;32melse\u001b[0m\u001b[0;34m:\u001b[0m\u001b[0;34m\u001b[0m\u001b[0;34m\u001b[0m\u001b[0m\n",
      "\u001b[0;32m~/miniconda3/envs/noise-simulation/lib/python3.7/site-packages/geopandas/geoseries.py\u001b[0m in \u001b[0;36mx\u001b[0;34m(self)\u001b[0m\n\u001b[1;32m    267\u001b[0m \u001b[0;34m\u001b[0m\u001b[0m\n\u001b[1;32m    268\u001b[0m         \"\"\"\n\u001b[0;32m--> 269\u001b[0;31m         \u001b[0;32mreturn\u001b[0m \u001b[0m_delegate_property\u001b[0m\u001b[0;34m(\u001b[0m\u001b[0;34m\"x\"\u001b[0m\u001b[0;34m,\u001b[0m \u001b[0mself\u001b[0m\u001b[0;34m)\u001b[0m\u001b[0;34m\u001b[0m\u001b[0;34m\u001b[0m\u001b[0m\n\u001b[0m\u001b[1;32m    270\u001b[0m \u001b[0;34m\u001b[0m\u001b[0m\n\u001b[1;32m    271\u001b[0m     \u001b[0;34m@\u001b[0m\u001b[0mproperty\u001b[0m\u001b[0;34m\u001b[0m\u001b[0;34m\u001b[0m\u001b[0m\n",
      "\u001b[0;32m~/miniconda3/envs/noise-simulation/lib/python3.7/site-packages/geopandas/base.py\u001b[0m in \u001b[0;36m_delegate_property\u001b[0;34m(op, this)\u001b[0m\n\u001b[1;32m     65\u001b[0m     \u001b[0;31m# type: (str, GeoSeries) -> GeoSeries/Series\u001b[0m\u001b[0;34m\u001b[0m\u001b[0;34m\u001b[0m\u001b[0;34m\u001b[0m\u001b[0m\n\u001b[1;32m     66\u001b[0m     \u001b[0ma_this\u001b[0m \u001b[0;34m=\u001b[0m \u001b[0mGeometryArray\u001b[0m\u001b[0;34m(\u001b[0m\u001b[0mthis\u001b[0m\u001b[0;34m.\u001b[0m\u001b[0mgeometry\u001b[0m\u001b[0;34m.\u001b[0m\u001b[0mvalues\u001b[0m\u001b[0;34m)\u001b[0m\u001b[0;34m\u001b[0m\u001b[0;34m\u001b[0m\u001b[0m\n\u001b[0;32m---> 67\u001b[0;31m     \u001b[0mdata\u001b[0m \u001b[0;34m=\u001b[0m \u001b[0mgetattr\u001b[0m\u001b[0;34m(\u001b[0m\u001b[0ma_this\u001b[0m\u001b[0;34m,\u001b[0m \u001b[0mop\u001b[0m\u001b[0;34m)\u001b[0m\u001b[0;34m\u001b[0m\u001b[0;34m\u001b[0m\u001b[0m\n\u001b[0m\u001b[1;32m     68\u001b[0m     \u001b[0;32mif\u001b[0m \u001b[0misinstance\u001b[0m\u001b[0;34m(\u001b[0m\u001b[0mdata\u001b[0m\u001b[0;34m,\u001b[0m \u001b[0mGeometryArray\u001b[0m\u001b[0;34m)\u001b[0m\u001b[0;34m:\u001b[0m\u001b[0;34m\u001b[0m\u001b[0;34m\u001b[0m\u001b[0m\n\u001b[1;32m     69\u001b[0m         \u001b[0;32mfrom\u001b[0m \u001b[0;34m.\u001b[0m\u001b[0mgeoseries\u001b[0m \u001b[0;32mimport\u001b[0m \u001b[0mGeoSeries\u001b[0m\u001b[0;34m\u001b[0m\u001b[0;34m\u001b[0m\u001b[0m\n",
      "\u001b[0;32m~/miniconda3/envs/noise-simulation/lib/python3.7/site-packages/geopandas/array.py\u001b[0m in \u001b[0;36mx\u001b[0;34m(self)\u001b[0m\n\u001b[1;32m    882\u001b[0m         \u001b[0;32melse\u001b[0m\u001b[0;34m:\u001b[0m\u001b[0;34m\u001b[0m\u001b[0;34m\u001b[0m\u001b[0m\n\u001b[1;32m    883\u001b[0m             \u001b[0mmessage\u001b[0m \u001b[0;34m=\u001b[0m \u001b[0;34m\"x attribute access only provided for Point geometries\"\u001b[0m\u001b[0;34m\u001b[0m\u001b[0;34m\u001b[0m\u001b[0m\n\u001b[0;32m--> 884\u001b[0;31m             \u001b[0;32mraise\u001b[0m \u001b[0mValueError\u001b[0m\u001b[0;34m(\u001b[0m\u001b[0mmessage\u001b[0m\u001b[0;34m)\u001b[0m\u001b[0;34m\u001b[0m\u001b[0;34m\u001b[0m\u001b[0m\n\u001b[0m\u001b[1;32m    885\u001b[0m \u001b[0;34m\u001b[0m\u001b[0m\n\u001b[1;32m    886\u001b[0m     \u001b[0;34m@\u001b[0m\u001b[0mproperty\u001b[0m\u001b[0;34m\u001b[0m\u001b[0;34m\u001b[0m\u001b[0m\n",
      "\u001b[0;31mValueError\u001b[0m: x attribute access only provided for Point geometries"
     ]
    }
   ],
   "source": [
    "import h3pandas as h3\n",
    "\n",
    "resolution = 5\n",
    "geo_oldenburg = geopd.GeoDataFrame(oldenburdf, crs=3763)\n",
    "geo_oldenburg['noise_pollution_area']= oldenburdf['geometry'].apply(lambda x: x.buffer(10, cap_style=1))\n",
    "geo_oldenburg = geo_oldenburg.set_geometry('noise_pollution_area')\n",
    "geo_oldenburg = geo_oldenburg.to_crs(4326)\n",
    "geo_oldenburg['count']=1\n",
    "#geo_oldenburg = geo_oldenburg.drop(columns=['movement_speed', 'noise_volume','geometry'])\n",
    "df = geo_oldenburg.h3.geo_to_h3(8)\n",
    "\n",
    "#.groupby('h3_08').sum()\n",
    "#df = df.h3.h3_to_geo_boundary()\n",
    "#df.plot(column='count', figsize=(10, 10))\n",
    "\n",
    "#df = geo_oldenburg.h3.geo_to_h3(6)\n",
    "\n",
    "#polyfill_resample(4)\n",
    "\n",
    "#box2 = geopd.GeoDataFrame(geometry=[box(adsa.bounds[0], adsa.bounds[1], adsa.bounds[2], adsa.bounds[3])])\n",
    "#box2.h3.polyfill_resample(4)\n",
    "#gdf = gpd.GeoDataFrame(geometry=[box(0, 0, 1, 1)])\n",
    "#adsa.h3.polyfill(4, explode=True)\n"
   ]
  },
  {
   "cell_type": "code",
   "execution_count": 107,
   "id": "9bd44d69",
   "metadata": {},
   "outputs": [],
   "source": [
    "#geo_oldenburg = geo_oldenburg.set_geometry('noise_pollution_area')\n",
    "#geo_oldenburg = geo_oldenburg.to_crs(3763)\n",
    "#area = geo_oldenburg['noise_pollution_area'][0]\n",
    "#geopd.GeoDataFrame(geometry=[area], crs=3763)"
   ]
  },
  {
   "cell_type": "code",
   "execution_count": 14,
   "id": "13c540cf",
   "metadata": {},
   "outputs": [],
   "source": [
    "#poly1 = {'type': 'Polygon',\n",
    "# 'coordinates': [[[37.813318999983238, -122.4089866999972145],\n",
    "# [ 37.7866302000007224, -122.3805436999997056 ],\n",
    "# [37.7198061999978478, -122.3544736999993603],\n",
    "# [ 37.7076131999975672, -122.5123436999983966 ],\n",
    "# [37.7835871999971715, -122.5247187000021967],\n",
    "# [37.8151571999998453, -122.4798767000009008]]] }\n",
    "#hexagons = h3.polyfill(poly1, 10)\n"
   ]
  },
  {
   "cell_type": "code",
   "execution_count": 15,
   "id": "78f17c11",
   "metadata": {
    "tags": [
     "testing"
    ]
   },
   "outputs": [],
   "source": [
    "#oldenburggg = gdf[gdf['NAME_3'] == 'Oldenburg']\n",
    "#oldenburggg = oldenburggg.to_crs(4326)\n",
    "#oldenburgbase = oldenburggg.plot(color='white', edgecolor='black', cmap='Reds')\n"
   ]
  },
  {
   "cell_type": "code",
   "execution_count": 16,
   "id": "9abf2722",
   "metadata": {
    "tags": [
     "testing"
    ]
   },
   "outputs": [],
   "source": [
    "#qeqweq = geopd.GeoDataFrame(geometry=[gdf['geometry'].iloc[0]], crs=3763)\n",
    "#qqqq = qeqweq.to_crs(4326)\n",
    "#qqqq.h3.polyfill(9)"
   ]
  },
  {
   "cell_type": "code",
   "execution_count": 17,
   "id": "512a9998",
   "metadata": {
    "tags": [
     "Testing"
    ]
   },
   "outputs": [],
   "source": [
    "#point = Point(1113609.354852433,1610841.474073912)\n",
    "#circle_by_poitn_df = geopd.GeoDataFrame(geometry=[point], crs=3763)\n",
    "\n",
    "#circle_by_poitn_df['geometry'] = circle_by_poitn_df['geometry'][0].buffer(10,0)\n",
    "#circle_by_poitn_df = circle_by_poitn_df.to_crs(4326)\n",
    "#circle_by_poitn_df['geometry'] = circle_by_poitn_df['geometry'][0].buffer(10,0)\n",
    "#circle_by_poitn_df = circle_by_poitn_df.set_geometry('buffer')\n",
    "#circle_by_poitn_df.h3.polyfill_resample(5).plot()\n"
   ]
  },
  {
   "cell_type": "code",
   "execution_count": 260,
   "id": "9add8260",
   "metadata": {},
   "outputs": [],
   "source": [
    "point = Point(1113609.354852433,1610841.474073912)\n",
    "circle_by_poitn_df = geopd.GeoDataFrame(geometry=[point], crs=3763)"
   ]
  },
  {
   "cell_type": "code",
   "execution_count": 261,
   "id": "69908ac4",
   "metadata": {
    "tags": [
     "Problem"
    ]
   },
   "outputs": [],
   "source": [
    "circle_by_poitn_df['geometry'] = circle_by_poitn_df['geometry'][0].buffer(10,1)\n",
    "circle_by_poitn_df = circle_by_poitn_df.set_geometry('geometry')\n",
    "circle_by_poitn_df = circle_by_poitn_df.to_crs(4326)\n",
    "\n",
    "#circle_by_poitn_df_h3.head(5)"
   ]
  },
  {
   "cell_type": "code",
   "execution_count": 262,
   "id": "af7d2d6a",
   "metadata": {},
   "outputs": [
    {
     "data": {
      "text/plain": [
       "<AxesSubplot:>"
      ]
     },
     "execution_count": 262,
     "metadata": {},
     "output_type": "execute_result"
    },
    {
     "data": {
      "image/png": "[encoded data removed]",
      "text/plain": [
       "<Figure size 432x288 with 1 Axes>"
      ]
     },
     "metadata": {
      "needs_background": "light"
     },
     "output_type": "display_data"
    }
   ],
   "source": [
    "circle_by_poitn_df.plot()"
   ]
  },
  {
   "cell_type": "code",
   "execution_count": null,
   "id": "b9964df7",
   "metadata": {},
   "outputs": [],
   "source": []
  },
  {
   "cell_type": "code",
   "execution_count": 256,
   "id": "ca15ae50",
   "metadata": {},
   "outputs": [
    {
     "ename": "ValueError",
     "evalue": "H3 method raised an error. Is the H3 address correct?\nCaller: h3_to_geo_boundary(nan)\nOriginal error: TypeError(\"Argument 'h' has incorrect type (expected str, got float)\")",
     "output_type": "error",
     "traceback": [
      "\u001b[0;31m---------------------------------------------------------------------------\u001b[0m",
      "\u001b[0;31mTypeError\u001b[0m                                 Traceback (most recent call last)",
      "\u001b[0;32m~/miniconda3/envs/noise-simulation/lib/python3.7/site-packages/h3pandas/util/decorator.py\u001b[0m in \u001b[0;36msafe_f\u001b[0;34m(*args, **kwargs)\u001b[0m\n\u001b[1;32m     26\u001b[0m         \u001b[0;32mtry\u001b[0m\u001b[0;34m:\u001b[0m\u001b[0;34m\u001b[0m\u001b[0;34m\u001b[0m\u001b[0m\n\u001b[0;32m---> 27\u001b[0;31m             \u001b[0;32mreturn\u001b[0m \u001b[0mf\u001b[0m\u001b[0;34m(\u001b[0m\u001b[0;34m*\u001b[0m\u001b[0margs\u001b[0m\u001b[0;34m,\u001b[0m \u001b[0;34m**\u001b[0m\u001b[0mkwargs\u001b[0m\u001b[0;34m)\u001b[0m\u001b[0;34m\u001b[0m\u001b[0;34m\u001b[0m\u001b[0m\n\u001b[0m\u001b[1;32m     28\u001b[0m         \u001b[0;32mexcept\u001b[0m \u001b[0;34m(\u001b[0m\u001b[0mTypeError\u001b[0m\u001b[0;34m,\u001b[0m \u001b[0mValueError\u001b[0m\u001b[0;34m,\u001b[0m \u001b[0mH3CellError\u001b[0m\u001b[0;34m)\u001b[0m \u001b[0;32mas\u001b[0m \u001b[0me\u001b[0m\u001b[0;34m:\u001b[0m\u001b[0;34m\u001b[0m\u001b[0;34m\u001b[0m\u001b[0m\n",
      "\u001b[0;32m~/miniconda3/envs/noise-simulation/lib/python3.7/site-packages/h3/api/_api_template.py\u001b[0m in \u001b[0;36mh3_to_geo_boundary\u001b[0;34m(h, geo_json)\u001b[0m\n\u001b[1;32m    286\u001b[0m         \"\"\"\n\u001b[0;32m--> 287\u001b[0;31m         \u001b[0;32mreturn\u001b[0m \u001b[0m_cy\u001b[0m\u001b[0;34m.\u001b[0m\u001b[0mcell_boundary\u001b[0m\u001b[0;34m(\u001b[0m\u001b[0m_in_scalar\u001b[0m\u001b[0;34m(\u001b[0m\u001b[0mh\u001b[0m\u001b[0;34m)\u001b[0m\u001b[0;34m,\u001b[0m \u001b[0mgeo_json\u001b[0m\u001b[0;34m)\u001b[0m\u001b[0;34m\u001b[0m\u001b[0;34m\u001b[0m\u001b[0m\n\u001b[0m\u001b[1;32m    288\u001b[0m \u001b[0;34m\u001b[0m\u001b[0m\n",
      "\u001b[0;31mTypeError\u001b[0m: Argument 'h' has incorrect type (expected str, got float)",
      "\nDuring handling of the above exception, another exception occurred:\n",
      "\u001b[0;31mValueError\u001b[0m                                Traceback (most recent call last)",
      "\u001b[0;32m/var/folders/z5/3hh6k5k53jlgjlzdygqlzdg80000gn/T/ipykernel_55355/1916494909.py\u001b[0m in \u001b[0;36m<module>\u001b[0;34m\u001b[0m\n\u001b[0;32m----> 1\u001b[0;31m \u001b[0mcircle_by_poitn_df\u001b[0m\u001b[0;34m.\u001b[0m\u001b[0mh3\u001b[0m\u001b[0;34m.\u001b[0m\u001b[0mpolyfill_resample\u001b[0m\u001b[0;34m(\u001b[0m\u001b[0;36m3\u001b[0m\u001b[0;34m)\u001b[0m\u001b[0;34m\u001b[0m\u001b[0;34m\u001b[0m\u001b[0m\n\u001b[0m",
      "\u001b[0;32m~/miniconda3/envs/noise-simulation/lib/python3.7/site-packages/h3pandas/h3pandas.py\u001b[0m in \u001b[0;36mpolyfill_resample\u001b[0;34m(self, resolution, return_geometry)\u001b[0m\n\u001b[1;32m    748\u001b[0m         \u001b[0mresult\u001b[0m \u001b[0;34m=\u001b[0m \u001b[0mresult\u001b[0m\u001b[0;34m.\u001b[0m\u001b[0mreset_index\u001b[0m\u001b[0;34m(\u001b[0m\u001b[0;34m)\u001b[0m\u001b[0;34m.\u001b[0m\u001b[0mset_index\u001b[0m\u001b[0;34m(\u001b[0m\u001b[0mCOLUMN_H3_POLYFILL\u001b[0m\u001b[0;34m)\u001b[0m\u001b[0;34m\u001b[0m\u001b[0;34m\u001b[0m\u001b[0m\n\u001b[1;32m    749\u001b[0m \u001b[0;34m\u001b[0m\u001b[0m\n\u001b[0;32m--> 750\u001b[0;31m         \u001b[0;32mreturn\u001b[0m \u001b[0mresult\u001b[0m\u001b[0;34m.\u001b[0m\u001b[0mh3\u001b[0m\u001b[0;34m.\u001b[0m\u001b[0mh3_to_geo_boundary\u001b[0m\u001b[0;34m(\u001b[0m\u001b[0;34m)\u001b[0m \u001b[0;32mif\u001b[0m \u001b[0mreturn_geometry\u001b[0m \u001b[0;32melse\u001b[0m \u001b[0mresult\u001b[0m\u001b[0;34m\u001b[0m\u001b[0;34m\u001b[0m\u001b[0m\n\u001b[0m\u001b[1;32m    751\u001b[0m \u001b[0;34m\u001b[0m\u001b[0m\n\u001b[1;32m    752\u001b[0m     \u001b[0;31m# Private methods\u001b[0m\u001b[0;34m\u001b[0m\u001b[0;34m\u001b[0m\u001b[0;34m\u001b[0m\u001b[0m\n",
      "\u001b[0;32m~/miniconda3/envs/noise-simulation/lib/python3.7/site-packages/h3pandas/h3pandas.py\u001b[0m in \u001b[0;36mh3_to_geo_boundary\u001b[0;34m(self)\u001b[0m\n\u001b[1;32m    163\u001b[0m             \u001b[0;34m\"geometry\"\u001b[0m\u001b[0;34m,\u001b[0m\u001b[0;34m\u001b[0m\u001b[0;34m\u001b[0m\u001b[0m\n\u001b[1;32m    164\u001b[0m             \u001b[0;32mlambda\u001b[0m \u001b[0mx\u001b[0m\u001b[0;34m:\u001b[0m \u001b[0mshapely\u001b[0m\u001b[0;34m.\u001b[0m\u001b[0mgeometry\u001b[0m\u001b[0;34m.\u001b[0m\u001b[0mPolygon\u001b[0m\u001b[0;34m(\u001b[0m\u001b[0mx\u001b[0m\u001b[0;34m)\u001b[0m\u001b[0;34m,\u001b[0m\u001b[0;34m\u001b[0m\u001b[0;34m\u001b[0m\u001b[0m\n\u001b[0;32m--> 165\u001b[0;31m             \u001b[0;32mlambda\u001b[0m \u001b[0mx\u001b[0m\u001b[0;34m:\u001b[0m \u001b[0mgpd\u001b[0m\u001b[0;34m.\u001b[0m\u001b[0mGeoDataFrame\u001b[0m\u001b[0;34m(\u001b[0m\u001b[0mx\u001b[0m\u001b[0;34m,\u001b[0m \u001b[0mcrs\u001b[0m\u001b[0;34m=\u001b[0m\u001b[0;34m\"epsg:4326\"\u001b[0m\u001b[0;34m)\u001b[0m\u001b[0;34m,\u001b[0m\u001b[0;34m\u001b[0m\u001b[0;34m\u001b[0m\u001b[0m\n\u001b[0m\u001b[1;32m    166\u001b[0m         )\n\u001b[1;32m    167\u001b[0m \u001b[0;34m\u001b[0m\u001b[0m\n",
      "\u001b[0;32m~/miniconda3/envs/noise-simulation/lib/python3.7/site-packages/h3pandas/h3pandas.py\u001b[0m in \u001b[0;36m_apply_index_assign\u001b[0;34m(self, func, column_name, processor, finalizer)\u001b[0m\n\u001b[1;32m    778\u001b[0m         \"\"\"\n\u001b[1;32m    779\u001b[0m         \u001b[0mfunc\u001b[0m \u001b[0;34m=\u001b[0m \u001b[0mcatch_invalid_h3_address\u001b[0m\u001b[0;34m(\u001b[0m\u001b[0mfunc\u001b[0m\u001b[0;34m)\u001b[0m\u001b[0;34m\u001b[0m\u001b[0;34m\u001b[0m\u001b[0m\n\u001b[0;32m--> 780\u001b[0;31m         \u001b[0mresult\u001b[0m \u001b[0;34m=\u001b[0m \u001b[0;34m[\u001b[0m\u001b[0mprocessor\u001b[0m\u001b[0;34m(\u001b[0m\u001b[0mfunc\u001b[0m\u001b[0;34m(\u001b[0m\u001b[0mh3address\u001b[0m\u001b[0;34m)\u001b[0m\u001b[0;34m)\u001b[0m \u001b[0;32mfor\u001b[0m \u001b[0mh3address\u001b[0m \u001b[0;32min\u001b[0m \u001b[0mself\u001b[0m\u001b[0;34m.\u001b[0m\u001b[0m_df\u001b[0m\u001b[0;34m.\u001b[0m\u001b[0mindex\u001b[0m\u001b[0;34m]\u001b[0m\u001b[0;34m\u001b[0m\u001b[0;34m\u001b[0m\u001b[0m\n\u001b[0m\u001b[1;32m    781\u001b[0m         \u001b[0massign_args\u001b[0m \u001b[0;34m=\u001b[0m \u001b[0;34m{\u001b[0m\u001b[0mcolumn_name\u001b[0m\u001b[0;34m:\u001b[0m \u001b[0mresult\u001b[0m\u001b[0;34m}\u001b[0m\u001b[0;34m\u001b[0m\u001b[0;34m\u001b[0m\u001b[0m\n\u001b[1;32m    782\u001b[0m         \u001b[0;32mreturn\u001b[0m \u001b[0mfinalizer\u001b[0m\u001b[0;34m(\u001b[0m\u001b[0mself\u001b[0m\u001b[0;34m.\u001b[0m\u001b[0m_df\u001b[0m\u001b[0;34m.\u001b[0m\u001b[0massign\u001b[0m\u001b[0;34m(\u001b[0m\u001b[0;34m**\u001b[0m\u001b[0massign_args\u001b[0m\u001b[0;34m)\u001b[0m\u001b[0;34m)\u001b[0m\u001b[0;34m\u001b[0m\u001b[0;34m\u001b[0m\u001b[0m\n",
      "\u001b[0;32m~/miniconda3/envs/noise-simulation/lib/python3.7/site-packages/h3pandas/h3pandas.py\u001b[0m in \u001b[0;36m<listcomp>\u001b[0;34m(.0)\u001b[0m\n\u001b[1;32m    778\u001b[0m         \"\"\"\n\u001b[1;32m    779\u001b[0m         \u001b[0mfunc\u001b[0m \u001b[0;34m=\u001b[0m \u001b[0mcatch_invalid_h3_address\u001b[0m\u001b[0;34m(\u001b[0m\u001b[0mfunc\u001b[0m\u001b[0;34m)\u001b[0m\u001b[0;34m\u001b[0m\u001b[0;34m\u001b[0m\u001b[0m\n\u001b[0;32m--> 780\u001b[0;31m         \u001b[0mresult\u001b[0m \u001b[0;34m=\u001b[0m \u001b[0;34m[\u001b[0m\u001b[0mprocessor\u001b[0m\u001b[0;34m(\u001b[0m\u001b[0mfunc\u001b[0m\u001b[0;34m(\u001b[0m\u001b[0mh3address\u001b[0m\u001b[0;34m)\u001b[0m\u001b[0;34m)\u001b[0m \u001b[0;32mfor\u001b[0m \u001b[0mh3address\u001b[0m \u001b[0;32min\u001b[0m \u001b[0mself\u001b[0m\u001b[0;34m.\u001b[0m\u001b[0m_df\u001b[0m\u001b[0;34m.\u001b[0m\u001b[0mindex\u001b[0m\u001b[0;34m]\u001b[0m\u001b[0;34m\u001b[0m\u001b[0;34m\u001b[0m\u001b[0m\n\u001b[0m\u001b[1;32m    781\u001b[0m         \u001b[0massign_args\u001b[0m \u001b[0;34m=\u001b[0m \u001b[0;34m{\u001b[0m\u001b[0mcolumn_name\u001b[0m\u001b[0;34m:\u001b[0m \u001b[0mresult\u001b[0m\u001b[0;34m}\u001b[0m\u001b[0;34m\u001b[0m\u001b[0;34m\u001b[0m\u001b[0m\n\u001b[1;32m    782\u001b[0m         \u001b[0;32mreturn\u001b[0m \u001b[0mfinalizer\u001b[0m\u001b[0;34m(\u001b[0m\u001b[0mself\u001b[0m\u001b[0;34m.\u001b[0m\u001b[0m_df\u001b[0m\u001b[0;34m.\u001b[0m\u001b[0massign\u001b[0m\u001b[0;34m(\u001b[0m\u001b[0;34m**\u001b[0m\u001b[0massign_args\u001b[0m\u001b[0;34m)\u001b[0m\u001b[0;34m)\u001b[0m\u001b[0;34m\u001b[0m\u001b[0;34m\u001b[0m\u001b[0m\n",
      "\u001b[0;32m~/miniconda3/envs/noise-simulation/lib/python3.7/site-packages/h3pandas/util/decorator.py\u001b[0m in \u001b[0;36msafe_f\u001b[0;34m(*args, **kwargs)\u001b[0m\n\u001b[1;32m     30\u001b[0m             \u001b[0mmessage\u001b[0m \u001b[0;34m+=\u001b[0m \u001b[0;34mf\"\\nCaller: {f.__name__}({_print_signature(*args, **kwargs)})\"\u001b[0m\u001b[0;34m\u001b[0m\u001b[0;34m\u001b[0m\u001b[0m\n\u001b[1;32m     31\u001b[0m             \u001b[0mmessage\u001b[0m \u001b[0;34m+=\u001b[0m \u001b[0;34mf\"\\nOriginal error: {repr(e)}\"\u001b[0m\u001b[0;34m\u001b[0m\u001b[0;34m\u001b[0m\u001b[0m\n\u001b[0;32m---> 32\u001b[0;31m             \u001b[0;32mraise\u001b[0m \u001b[0mValueError\u001b[0m\u001b[0;34m(\u001b[0m\u001b[0mmessage\u001b[0m\u001b[0;34m)\u001b[0m\u001b[0;34m\u001b[0m\u001b[0;34m\u001b[0m\u001b[0m\n\u001b[0m\u001b[1;32m     33\u001b[0m \u001b[0;34m\u001b[0m\u001b[0m\n\u001b[1;32m     34\u001b[0m     \u001b[0;32mreturn\u001b[0m \u001b[0msafe_f\u001b[0m\u001b[0;34m\u001b[0m\u001b[0;34m\u001b[0m\u001b[0m\n",
      "\u001b[0;31mValueError\u001b[0m: H3 method raised an error. Is the H3 address correct?\nCaller: h3_to_geo_boundary(nan)\nOriginal error: TypeError(\"Argument 'h' has incorrect type (expected str, got float)\")"
     ]
    }
   ],
   "source": [
    "circle_by_poitn_df.h3.polyfill_resample(3)"
   ]
  },
  {
   "cell_type": "code",
   "execution_count": null,
   "id": "009f4ea4",
   "metadata": {},
   "outputs": [],
   "source": []
  },
  {
   "cell_type": "code",
   "execution_count": null,
   "id": "b9964a99",
   "metadata": {},
   "outputs": [],
   "source": []
  },
  {
   "cell_type": "code",
   "execution_count": 69,
   "id": "be8adb2c",
   "metadata": {},
   "outputs": [
    {
     "data": {
      "text/html": [
       "<div>\n",
       "<style scoped>\n",
       "    .dataframe tbody tr th:only-of-type {\n",
       "        vertical-align: middle;\n",
       "    }\n",
       "\n",
       "    .dataframe tbody tr th {\n",
       "        vertical-align: top;\n",
       "    }\n",
       "\n",
       "    .dataframe thead th {\n",
       "        text-align: right;\n",
       "    }\n",
       "</style>\n",
       "<table border=\"1\" class=\"dataframe\">\n",
       "  <thead>\n",
       "    <tr style=\"text-align: right;\">\n",
       "      <th></th>\n",
       "      <th>index</th>\n",
       "      <th>geometry</th>\n",
       "    </tr>\n",
       "    <tr>\n",
       "      <th>h3_polyfill</th>\n",
       "      <th></th>\n",
       "      <th></th>\n",
       "    </tr>\n",
       "  </thead>\n",
       "  <tbody>\n",
       "    <tr>\n",
       "      <th>833f8cfffffffff</th>\n",
       "      <td>0</td>\n",
       "      <td>POLYGON ((15.67935 28.55677, 15.69736 27.87907...</td>\n",
       "    </tr>\n",
       "    <tr>\n",
       "      <th>833912fffffffff</th>\n",
       "      <td>0</td>\n",
       "      <td>POLYGON ((-9.39799 36.68397, -9.96449 36.21506...</td>\n",
       "    </tr>\n",
       "    <tr>\n",
       "      <th>83091dfffffffff</th>\n",
       "      <td>0</td>\n",
       "      <td>POLYGON ((2.22867 65.49345, 1.34872 65.79821, ...</td>\n",
       "    </tr>\n",
       "    <tr>\n",
       "      <th>8338cbfffffffff</th>\n",
       "      <td>0</td>\n",
       "      <td>POLYGON ((8.07596 26.18440, 8.13904 25.52381, ...</td>\n",
       "    </tr>\n",
       "    <tr>\n",
       "      <th>8308a1fffffffff</th>\n",
       "      <td>0</td>\n",
       "      <td>POLYGON ((13.10360 61.67349, 13.15628 61.20073...</td>\n",
       "    </tr>\n",
       "    <tr>\n",
       "      <th>...</th>\n",
       "      <td>...</td>\n",
       "      <td>...</td>\n",
       "    </tr>\n",
       "    <tr>\n",
       "      <th>831952fffffffff</th>\n",
       "      <td>0</td>\n",
       "      <td>POLYGON ((-6.19984 54.79442, -6.95215 54.42981...</td>\n",
       "    </tr>\n",
       "    <tr>\n",
       "      <th>835961fffffffff</th>\n",
       "      <td>0</td>\n",
       "      <td>POLYGON ((9.49047 24.27756, 9.54440 23.61585, ...</td>\n",
       "    </tr>\n",
       "    <tr>\n",
       "      <th>8338edfffffffff</th>\n",
       "      <td>0</td>\n",
       "      <td>POLYGON ((6.93047 31.08032, 7.00344 30.42283, ...</td>\n",
       "    </tr>\n",
       "    <tr>\n",
       "      <th>8309b0fffffffff</th>\n",
       "      <td>0</td>\n",
       "      <td>POLYGON ((1.51382 58.55861, 0.69371 58.27703, ...</td>\n",
       "    </tr>\n",
       "    <tr>\n",
       "      <th>830800fffffffff</th>\n",
       "      <td>0</td>\n",
       "      <td>POLYGON ((9.59715 64.52809, 10.24989 64.31052,...</td>\n",
       "    </tr>\n",
       "  </tbody>\n",
       "</table>\n",
       "<p>1722 rows × 2 columns</p>\n",
       "</div>"
      ],
      "text/plain": [
       "                 index                                           geometry\n",
       "h3_polyfill                                                              \n",
       "833f8cfffffffff      0  POLYGON ((15.67935 28.55677, 15.69736 27.87907...\n",
       "833912fffffffff      0  POLYGON ((-9.39799 36.68397, -9.96449 36.21506...\n",
       "83091dfffffffff      0  POLYGON ((2.22867 65.49345, 1.34872 65.79821, ...\n",
       "8338cbfffffffff      0  POLYGON ((8.07596 26.18440, 8.13904 25.52381, ...\n",
       "8308a1fffffffff      0  POLYGON ((13.10360 61.67349, 13.15628 61.20073...\n",
       "...                ...                                                ...\n",
       "831952fffffffff      0  POLYGON ((-6.19984 54.79442, -6.95215 54.42981...\n",
       "835961fffffffff      0  POLYGON ((9.49047 24.27756, 9.54440 23.61585, ...\n",
       "8338edfffffffff      0  POLYGON ((6.93047 31.08032, 7.00344 30.42283, ...\n",
       "8309b0fffffffff      0  POLYGON ((1.51382 58.55861, 0.69371 58.27703, ...\n",
       "830800fffffffff      0  POLYGON ((9.59715 64.52809, 10.24989 64.31052,...\n",
       "\n",
       "[1722 rows x 2 columns]"
      ]
     },
     "execution_count": 69,
     "metadata": {},
     "output_type": "execute_result"
    }
   ],
   "source": [
    "circle_by_poitn_df_h3"
   ]
  },
  {
   "cell_type": "code",
   "execution_count": null,
   "id": "d3f8d344",
   "metadata": {},
   "outputs": [],
   "source": []
  },
  {
   "cell_type": "code",
   "execution_count": null,
   "id": "b6613acb",
   "metadata": {},
   "outputs": [],
   "source": []
  },
  {
   "cell_type": "code",
   "execution_count": null,
   "id": "41351688",
   "metadata": {},
   "outputs": [],
   "source": []
  },
  {
   "cell_type": "code",
   "execution_count": null,
   "id": "1cff4acf",
   "metadata": {},
   "outputs": [],
   "source": []
  },
  {
   "cell_type": "code",
   "execution_count": 20,
   "id": "19fd1fc2",
   "metadata": {},
   "outputs": [
    {
     "data": {
      "text/html": [
       "<div>\n",
       "<style scoped>\n",
       "    .dataframe tbody tr th:only-of-type {\n",
       "        vertical-align: middle;\n",
       "    }\n",
       "\n",
       "    .dataframe tbody tr th {\n",
       "        vertical-align: top;\n",
       "    }\n",
       "\n",
       "    .dataframe thead th {\n",
       "        text-align: right;\n",
       "    }\n",
       "</style>\n",
       "<table border=\"1\" class=\"dataframe\">\n",
       "  <thead>\n",
       "    <tr style=\"text-align: right;\">\n",
       "      <th></th>\n",
       "      <th>index</th>\n",
       "      <th>geometry</th>\n",
       "    </tr>\n",
       "    <tr>\n",
       "      <th>h3_polyfill</th>\n",
       "      <th></th>\n",
       "      <th></th>\n",
       "    </tr>\n",
       "  </thead>\n",
       "  <tbody>\n",
       "    <tr>\n",
       "      <th>8708164d2ffffff</th>\n",
       "      <td>0</td>\n",
       "      <td>POLYGON ((11.51583 61.68771, 11.51722 61.67815...</td>\n",
       "    </tr>\n",
       "    <tr>\n",
       "      <th>871946644ffffff</th>\n",
       "      <td>0</td>\n",
       "      <td>POLYGON ((-1.09721 54.14412, -1.11257 54.13745...</td>\n",
       "    </tr>\n",
       "    <tr>\n",
       "      <th>87098b2b1ffffff</th>\n",
       "      <td>0</td>\n",
       "      <td>POLYGON ((10.73512 61.36915, 10.73666 61.35955...</td>\n",
       "    </tr>\n",
       "    <tr>\n",
       "      <th>871faa0f3ffffff</th>\n",
       "      <td>0</td>\n",
       "      <td>POLYGON ((9.22652 49.00308, 9.22801 48.99119, ...</td>\n",
       "    </tr>\n",
       "    <tr>\n",
       "      <th>871f8a203ffffff</th>\n",
       "      <td>0</td>\n",
       "      <td>POLYGON ((10.85643 46.43315, 10.85763 46.42081...</td>\n",
       "    </tr>\n",
       "    <tr>\n",
       "      <th>...</th>\n",
       "      <td>...</td>\n",
       "      <td>...</td>\n",
       "    </tr>\n",
       "    <tr>\n",
       "      <th>871f99856ffffff</th>\n",
       "      <td>0</td>\n",
       "      <td>POLYGON ((9.55995 45.90715, 9.56133 45.89479, ...</td>\n",
       "    </tr>\n",
       "    <tr>\n",
       "      <th>871f0841cffffff</th>\n",
       "      <td>0</td>\n",
       "      <td>POLYGON ((15.97206 53.60099, 15.97251 53.58968...</td>\n",
       "    </tr>\n",
       "    <tr>\n",
       "      <th>871f11d8bffffff</th>\n",
       "      <td>0</td>\n",
       "      <td>POLYGON ((9.63865 52.70490, 9.64015 52.69361, ...</td>\n",
       "    </tr>\n",
       "    <tr>\n",
       "      <th>8718613a1ffffff</th>\n",
       "      <td>0</td>\n",
       "      <td>POLYGON ((0.08105 47.94091, 0.06726 47.93366, ...</td>\n",
       "    </tr>\n",
       "    <tr>\n",
       "      <th>871e206b4ffffff</th>\n",
       "      <td>0</td>\n",
       "      <td>POLYGON ((17.31399 50.92018, 17.31420 50.90837...</td>\n",
       "    </tr>\n",
       "  </tbody>\n",
       "</table>\n",
       "<p>522365 rows × 2 columns</p>\n",
       "</div>"
      ],
      "text/plain": [
       "                 index                                           geometry\n",
       "h3_polyfill                                                              \n",
       "8708164d2ffffff      0  POLYGON ((11.51583 61.68771, 11.51722 61.67815...\n",
       "871946644ffffff      0  POLYGON ((-1.09721 54.14412, -1.11257 54.13745...\n",
       "87098b2b1ffffff      0  POLYGON ((10.73512 61.36915, 10.73666 61.35955...\n",
       "871faa0f3ffffff      0  POLYGON ((9.22652 49.00308, 9.22801 48.99119, ...\n",
       "871f8a203ffffff      0  POLYGON ((10.85643 46.43315, 10.85763 46.42081...\n",
       "...                ...                                                ...\n",
       "871f99856ffffff      0  POLYGON ((9.55995 45.90715, 9.56133 45.89479, ...\n",
       "871f0841cffffff      0  POLYGON ((15.97206 53.60099, 15.97251 53.58968...\n",
       "871f11d8bffffff      0  POLYGON ((9.63865 52.70490, 9.64015 52.69361, ...\n",
       "8718613a1ffffff      0  POLYGON ((0.08105 47.94091, 0.06726 47.93366, ...\n",
       "871e206b4ffffff      0  POLYGON ((17.31399 50.92018, 17.31420 50.90837...\n",
       "\n",
       "[522365 rows x 2 columns]"
      ]
     },
     "execution_count": 20,
     "metadata": {},
     "output_type": "execute_result"
    }
   ],
   "source": [
    "circle_by_poitn_df_h3"
   ]
  },
  {
   "cell_type": "code",
   "execution_count": 88,
   "id": "9ac17df8",
   "metadata": {},
   "outputs": [
    {
     "data": {
      "text/html": [
       "<div>\n",
       "<style scoped>\n",
       "    .dataframe tbody tr th:only-of-type {\n",
       "        vertical-align: middle;\n",
       "    }\n",
       "\n",
       "    .dataframe tbody tr th {\n",
       "        vertical-align: top;\n",
       "    }\n",
       "\n",
       "    .dataframe thead th {\n",
       "        text-align: right;\n",
       "    }\n",
       "</style>\n",
       "<table border=\"1\" class=\"dataframe\">\n",
       "  <thead>\n",
       "    <tr style=\"text-align: right;\">\n",
       "      <th></th>\n",
       "      <th>index</th>\n",
       "      <th>geometry</th>\n",
       "    </tr>\n",
       "    <tr>\n",
       "      <th>h3_polyfill</th>\n",
       "      <th></th>\n",
       "      <th></th>\n",
       "    </tr>\n",
       "  </thead>\n",
       "  <tbody>\n",
       "    <tr>\n",
       "      <th>861876a87ffffff</th>\n",
       "      <td>0</td>\n",
       "      <td>POLYGON ((-5.90321 50.39957, -5.95039 50.38837...</td>\n",
       "    </tr>\n",
       "    <tr>\n",
       "      <th>86180e857ffffff</th>\n",
       "      <td>0</td>\n",
       "      <td>POLYGON ((-10.31755 51.12652, -10.36567 51.113...</td>\n",
       "    </tr>\n",
       "    <tr>\n",
       "      <th>86094ccc7ffffff</th>\n",
       "      <td>0</td>\n",
       "      <td>POLYGON ((13.05067 71.09468, 13.12036 71.11141...</td>\n",
       "    </tr>\n",
       "    <tr>\n",
       "      <th>861f1e947ffffff</th>\n",
       "      <td>0</td>\n",
       "      <td>POLYGON ((11.27678 52.41656, 11.26237 52.38666...</td>\n",
       "    </tr>\n",
       "    <tr>\n",
       "      <th>8608c629fffffff</th>\n",
       "      <td>0</td>\n",
       "      <td>POLYGON ((23.68835 65.70050, 23.73552 65.68097...</td>\n",
       "    </tr>\n",
       "    <tr>\n",
       "      <th>...</th>\n",
       "      <td>...</td>\n",
       "      <td>...</td>\n",
       "    </tr>\n",
       "    <tr>\n",
       "      <th>861124427ffffff</th>\n",
       "      <td>0</td>\n",
       "      <td>POLYGON ((24.72652 60.95751, 24.76664 60.93622...</td>\n",
       "    </tr>\n",
       "    <tr>\n",
       "      <th>860903037ffffff</th>\n",
       "      <td>0</td>\n",
       "      <td>POLYGON ((-0.96976 65.26364, -1.00321 65.28673...</td>\n",
       "    </tr>\n",
       "    <tr>\n",
       "      <th>861f9e08fffffff</th>\n",
       "      <td>0</td>\n",
       "      <td>POLYGON ((6.50770 45.08962, 6.49691 45.05697, ...</td>\n",
       "    </tr>\n",
       "    <tr>\n",
       "      <th>8608b0167ffffff</th>\n",
       "      <td>0</td>\n",
       "      <td>POLYGON ((14.10217 58.68997, 14.08461 58.66328...</td>\n",
       "    </tr>\n",
       "    <tr>\n",
       "      <th>860976157ffffff</th>\n",
       "      <td>0</td>\n",
       "      <td>POLYGON ((0.46561 68.71905, 0.42851 68.74360, ...</td>\n",
       "    </tr>\n",
       "  </tbody>\n",
       "</table>\n",
       "<p>285479 rows × 2 columns</p>\n",
       "</div>"
      ],
      "text/plain": [
       "                 index                                           geometry\n",
       "h3_polyfill                                                              \n",
       "861876a87ffffff      0  POLYGON ((-5.90321 50.39957, -5.95039 50.38837...\n",
       "86180e857ffffff      0  POLYGON ((-10.31755 51.12652, -10.36567 51.113...\n",
       "86094ccc7ffffff      0  POLYGON ((13.05067 71.09468, 13.12036 71.11141...\n",
       "861f1e947ffffff      0  POLYGON ((11.27678 52.41656, 11.26237 52.38666...\n",
       "8608c629fffffff      0  POLYGON ((23.68835 65.70050, 23.73552 65.68097...\n",
       "...                ...                                                ...\n",
       "861124427ffffff      0  POLYGON ((24.72652 60.95751, 24.76664 60.93622...\n",
       "860903037ffffff      0  POLYGON ((-0.96976 65.26364, -1.00321 65.28673...\n",
       "861f9e08fffffff      0  POLYGON ((6.50770 45.08962, 6.49691 45.05697, ...\n",
       "8608b0167ffffff      0  POLYGON ((14.10217 58.68997, 14.08461 58.66328...\n",
       "860976157ffffff      0  POLYGON ((0.46561 68.71905, 0.42851 68.74360, ...\n",
       "\n",
       "[285479 rows x 2 columns]"
      ]
     },
     "execution_count": 88,
     "metadata": {},
     "output_type": "execute_result"
    }
   ],
   "source": [
    "circle_by_poitn_df_h3"
   ]
  },
  {
   "cell_type": "code",
   "execution_count": null,
   "id": "673b602f",
   "metadata": {},
   "outputs": [],
   "source": []
  },
  {
   "cell_type": "code",
   "execution_count": null,
   "id": "9b8c7c51",
   "metadata": {},
   "outputs": [],
   "source": []
  },
  {
   "cell_type": "code",
   "execution_count": 84,
   "id": "7c20d12b",
   "metadata": {},
   "outputs": [
    {
     "data": {
      "text/html": [
       "<div>\n",
       "<style scoped>\n",
       "    .dataframe tbody tr th:only-of-type {\n",
       "        vertical-align: middle;\n",
       "    }\n",
       "\n",
       "    .dataframe tbody tr th {\n",
       "        vertical-align: top;\n",
       "    }\n",
       "\n",
       "    .dataframe thead th {\n",
       "        text-align: right;\n",
       "    }\n",
       "</style>\n",
       "<table border=\"1\" class=\"dataframe\">\n",
       "  <thead>\n",
       "    <tr style=\"text-align: right;\">\n",
       "      <th></th>\n",
       "      <th>geometry</th>\n",
       "    </tr>\n",
       "  </thead>\n",
       "  <tbody>\n",
       "    <tr>\n",
       "      <th>0</th>\n",
       "      <td>POLYGON ((8.51564 52.98327, 8.51564 52.98327, ...</td>\n",
       "    </tr>\n",
       "  </tbody>\n",
       "</table>\n",
       "</div>"
      ],
      "text/plain": [
       "                                            geometry\n",
       "0  POLYGON ((8.51564 52.98327, 8.51564 52.98327, ..."
      ]
     },
     "execution_count": 84,
     "metadata": {},
     "output_type": "execute_result"
    }
   ],
   "source": [
    "circle_by_poitn_df"
   ]
  },
  {
   "cell_type": "code",
   "execution_count": null,
   "id": "ebcce509",
   "metadata": {},
   "outputs": [],
   "source": []
  },
  {
   "cell_type": "code",
   "execution_count": null,
   "id": "8a4f62e4",
   "metadata": {},
   "outputs": [],
   "source": []
  },
  {
   "cell_type": "code",
   "execution_count": null,
   "id": "3f060b57",
   "metadata": {},
   "outputs": [],
   "source": []
  },
  {
   "cell_type": "code",
   "execution_count": 80,
   "id": "d77f71c4",
   "metadata": {},
   "outputs": [
    {
     "data": {
      "text/html": [
       "<div>\n",
       "<style scoped>\n",
       "    .dataframe tbody tr th:only-of-type {\n",
       "        vertical-align: middle;\n",
       "    }\n",
       "\n",
       "    .dataframe tbody tr th {\n",
       "        vertical-align: top;\n",
       "    }\n",
       "\n",
       "    .dataframe thead th {\n",
       "        text-align: right;\n",
       "    }\n",
       "</style>\n",
       "<table border=\"1\" class=\"dataframe\">\n",
       "  <thead>\n",
       "    <tr style=\"text-align: right;\">\n",
       "      <th></th>\n",
       "      <th>geometry</th>\n",
       "    </tr>\n",
       "  </thead>\n",
       "  <tbody>\n",
       "    <tr>\n",
       "      <th>0</th>\n",
       "      <td>POLYGON ((1113629.307 1610842.454, 1113629.307...</td>\n",
       "    </tr>\n",
       "  </tbody>\n",
       "</table>\n",
       "</div>"
      ],
      "text/plain": [
       "                                            geometry\n",
       "0  POLYGON ((1113629.307 1610842.454, 1113629.307..."
      ]
     },
     "execution_count": 80,
     "metadata": {},
     "output_type": "execute_result"
    }
   ],
   "source": [
    "circle_by_poitn_df"
   ]
  },
  {
   "cell_type": "code",
   "execution_count": 57,
   "id": "7a5c722a",
   "metadata": {
    "tags": [
     "Problem"
    ]
   },
   "outputs": [
    {
     "ename": "TypeError",
     "evalue": "Unknown type <class 'shapely.geometry.point.Point'>",
     "output_type": "error",
     "traceback": [
      "\u001b[0;31m---------------------------------------------------------------------------\u001b[0m",
      "\u001b[0;31mTypeError\u001b[0m                                 Traceback (most recent call last)",
      "\u001b[0;32m/var/folders/z5/3hh6k5k53jlgjlzdygqlzdg80000gn/T/ipykernel_54898/1658873423.py\u001b[0m in \u001b[0;36m<module>\u001b[0;34m\u001b[0m\n\u001b[1;32m     11\u001b[0m \u001b[0;34m\u001b[0m\u001b[0m\n\u001b[1;32m     12\u001b[0m \u001b[0mcircle_by_poitn_df\u001b[0m \u001b[0;34m=\u001b[0m \u001b[0mcircle_by_poitn_df\u001b[0m\u001b[0;34m.\u001b[0m\u001b[0mto_crs\u001b[0m\u001b[0;34m(\u001b[0m\u001b[0;36m4326\u001b[0m\u001b[0;34m)\u001b[0m\u001b[0;34m\u001b[0m\u001b[0;34m\u001b[0m\u001b[0m\n\u001b[0;32m---> 13\u001b[0;31m \u001b[0mcircle_by_poitn_df_h3\u001b[0m \u001b[0;34m=\u001b[0m \u001b[0mcircle_by_poitn_df\u001b[0m\u001b[0;34m.\u001b[0m\u001b[0mh3\u001b[0m\u001b[0;34m.\u001b[0m\u001b[0mpolyfill\u001b[0m\u001b[0;34m(\u001b[0m\u001b[0;36m7\u001b[0m\u001b[0;34m)\u001b[0m\u001b[0;34m\u001b[0m\u001b[0;34m\u001b[0m\u001b[0m\n\u001b[0m\u001b[1;32m     14\u001b[0m \u001b[0;31m#circle_by_poitn_df_h3.crs\u001b[0m\u001b[0;34m\u001b[0m\u001b[0;34m\u001b[0m\u001b[0;34m\u001b[0m\u001b[0m\n\u001b[1;32m     15\u001b[0m \u001b[0mcircle_by_poitn_df_h3\u001b[0m\u001b[0;34m\u001b[0m\u001b[0;34m\u001b[0m\u001b[0m\n",
      "\u001b[0;32m~/miniconda3/envs/noise-simulation/lib/python3.7/site-packages/h3pandas/util/decorator.py\u001b[0m in \u001b[0;36mdoc_f\u001b[0;34m(*args, **kwargs)\u001b[0m\n\u001b[1;32m     42\u001b[0m         \u001b[0;34m@\u001b[0m\u001b[0mwraps\u001b[0m\u001b[0;34m(\u001b[0m\u001b[0mf\u001b[0m\u001b[0;34m)\u001b[0m\u001b[0;34m\u001b[0m\u001b[0;34m\u001b[0m\u001b[0m\n\u001b[1;32m     43\u001b[0m         \u001b[0;32mdef\u001b[0m \u001b[0mdoc_f\u001b[0m\u001b[0;34m(\u001b[0m\u001b[0;34m*\u001b[0m\u001b[0margs\u001b[0m\u001b[0;34m,\u001b[0m \u001b[0;34m**\u001b[0m\u001b[0mkwargs\u001b[0m\u001b[0;34m)\u001b[0m\u001b[0;34m:\u001b[0m\u001b[0;34m\u001b[0m\u001b[0;34m\u001b[0m\u001b[0m\n\u001b[0;32m---> 44\u001b[0;31m             \u001b[0;32mreturn\u001b[0m \u001b[0mf\u001b[0m\u001b[0;34m(\u001b[0m\u001b[0;34m*\u001b[0m\u001b[0margs\u001b[0m\u001b[0;34m,\u001b[0m \u001b[0;34m**\u001b[0m\u001b[0mkwargs\u001b[0m\u001b[0;34m)\u001b[0m\u001b[0;34m\u001b[0m\u001b[0;34m\u001b[0m\u001b[0m\n\u001b[0m\u001b[1;32m     45\u001b[0m \u001b[0;34m\u001b[0m\u001b[0m\n\u001b[1;32m     46\u001b[0m         \u001b[0mparameters\u001b[0m \u001b[0;34m=\u001b[0m \u001b[0mf\u001b[0m\u001b[0;34m.\u001b[0m\u001b[0m__doc__\u001b[0m \u001b[0;32mor\u001b[0m \u001b[0;34m\"\"\u001b[0m\u001b[0;34m\u001b[0m\u001b[0;34m\u001b[0m\u001b[0m\n",
      "\u001b[0;32m~/miniconda3/envs/noise-simulation/lib/python3.7/site-packages/h3pandas/h3pandas.py\u001b[0m in \u001b[0;36mpolyfill\u001b[0;34m(self, resolution, explode)\u001b[0m\n\u001b[1;32m    395\u001b[0m             \u001b[0;32mreturn\u001b[0m \u001b[0mlist\u001b[0m\u001b[0;34m(\u001b[0m\u001b[0mpolyfill\u001b[0m\u001b[0;34m(\u001b[0m\u001b[0mrow\u001b[0m\u001b[0;34m.\u001b[0m\u001b[0mgeometry\u001b[0m\u001b[0;34m,\u001b[0m \u001b[0mresolution\u001b[0m\u001b[0;34m,\u001b[0m \u001b[0;32mTrue\u001b[0m\u001b[0;34m)\u001b[0m\u001b[0;34m)\u001b[0m\u001b[0;34m\u001b[0m\u001b[0;34m\u001b[0m\u001b[0m\n\u001b[1;32m    396\u001b[0m \u001b[0;34m\u001b[0m\u001b[0m\n\u001b[0;32m--> 397\u001b[0;31m         \u001b[0mresult\u001b[0m \u001b[0;34m=\u001b[0m \u001b[0mself\u001b[0m\u001b[0;34m.\u001b[0m\u001b[0m_df\u001b[0m\u001b[0;34m.\u001b[0m\u001b[0mapply\u001b[0m\u001b[0;34m(\u001b[0m\u001b[0mfunc\u001b[0m\u001b[0;34m,\u001b[0m \u001b[0maxis\u001b[0m\u001b[0;34m=\u001b[0m\u001b[0;36m1\u001b[0m\u001b[0;34m)\u001b[0m\u001b[0;34m\u001b[0m\u001b[0;34m\u001b[0m\u001b[0m\n\u001b[0m\u001b[1;32m    398\u001b[0m \u001b[0;34m\u001b[0m\u001b[0m\n\u001b[1;32m    399\u001b[0m         \u001b[0;32mif\u001b[0m \u001b[0;32mnot\u001b[0m \u001b[0mexplode\u001b[0m\u001b[0;34m:\u001b[0m\u001b[0;34m\u001b[0m\u001b[0;34m\u001b[0m\u001b[0m\n",
      "\u001b[0;32m~/miniconda3/envs/noise-simulation/lib/python3.7/site-packages/geopandas/geodataframe.py\u001b[0m in \u001b[0;36mapply\u001b[0;34m(self, func, axis, raw, result_type, args, **kwargs)\u001b[0m\n\u001b[1;32m   1360\u001b[0m     \u001b[0;32mdef\u001b[0m \u001b[0mapply\u001b[0m\u001b[0;34m(\u001b[0m\u001b[0mself\u001b[0m\u001b[0;34m,\u001b[0m \u001b[0mfunc\u001b[0m\u001b[0;34m,\u001b[0m \u001b[0maxis\u001b[0m\u001b[0;34m=\u001b[0m\u001b[0;36m0\u001b[0m\u001b[0;34m,\u001b[0m \u001b[0mraw\u001b[0m\u001b[0;34m=\u001b[0m\u001b[0;32mFalse\u001b[0m\u001b[0;34m,\u001b[0m \u001b[0mresult_type\u001b[0m\u001b[0;34m=\u001b[0m\u001b[0;32mNone\u001b[0m\u001b[0;34m,\u001b[0m \u001b[0margs\u001b[0m\u001b[0;34m=\u001b[0m\u001b[0;34m(\u001b[0m\u001b[0;34m)\u001b[0m\u001b[0;34m,\u001b[0m \u001b[0;34m**\u001b[0m\u001b[0mkwargs\u001b[0m\u001b[0;34m)\u001b[0m\u001b[0;34m:\u001b[0m\u001b[0;34m\u001b[0m\u001b[0;34m\u001b[0m\u001b[0m\n\u001b[1;32m   1361\u001b[0m         result = super().apply(\n\u001b[0;32m-> 1362\u001b[0;31m             \u001b[0mfunc\u001b[0m\u001b[0;34m,\u001b[0m \u001b[0maxis\u001b[0m\u001b[0;34m=\u001b[0m\u001b[0maxis\u001b[0m\u001b[0;34m,\u001b[0m \u001b[0mraw\u001b[0m\u001b[0;34m=\u001b[0m\u001b[0mraw\u001b[0m\u001b[0;34m,\u001b[0m \u001b[0mresult_type\u001b[0m\u001b[0;34m=\u001b[0m\u001b[0mresult_type\u001b[0m\u001b[0;34m,\u001b[0m \u001b[0margs\u001b[0m\u001b[0;34m=\u001b[0m\u001b[0margs\u001b[0m\u001b[0;34m,\u001b[0m \u001b[0;34m**\u001b[0m\u001b[0mkwargs\u001b[0m\u001b[0;34m\u001b[0m\u001b[0;34m\u001b[0m\u001b[0m\n\u001b[0m\u001b[1;32m   1363\u001b[0m         )\n\u001b[1;32m   1364\u001b[0m         if (\n",
      "\u001b[0;32m~/miniconda3/envs/noise-simulation/lib/python3.7/site-packages/pandas/core/frame.py\u001b[0m in \u001b[0;36mapply\u001b[0;34m(self, func, axis, raw, result_type, args, **kwargs)\u001b[0m\n\u001b[1;32m   8738\u001b[0m             \u001b[0mkwargs\u001b[0m\u001b[0;34m=\u001b[0m\u001b[0mkwargs\u001b[0m\u001b[0;34m,\u001b[0m\u001b[0;34m\u001b[0m\u001b[0;34m\u001b[0m\u001b[0m\n\u001b[1;32m   8739\u001b[0m         )\n\u001b[0;32m-> 8740\u001b[0;31m         \u001b[0;32mreturn\u001b[0m \u001b[0mop\u001b[0m\u001b[0;34m.\u001b[0m\u001b[0mapply\u001b[0m\u001b[0;34m(\u001b[0m\u001b[0;34m)\u001b[0m\u001b[0;34m\u001b[0m\u001b[0;34m\u001b[0m\u001b[0m\n\u001b[0m\u001b[1;32m   8741\u001b[0m \u001b[0;34m\u001b[0m\u001b[0m\n\u001b[1;32m   8742\u001b[0m     def applymap(\n",
      "\u001b[0;32m~/miniconda3/envs/noise-simulation/lib/python3.7/site-packages/pandas/core/apply.py\u001b[0m in \u001b[0;36mapply\u001b[0;34m(self)\u001b[0m\n\u001b[1;32m    686\u001b[0m             \u001b[0;32mreturn\u001b[0m \u001b[0mself\u001b[0m\u001b[0;34m.\u001b[0m\u001b[0mapply_raw\u001b[0m\u001b[0;34m(\u001b[0m\u001b[0;34m)\u001b[0m\u001b[0;34m\u001b[0m\u001b[0;34m\u001b[0m\u001b[0m\n\u001b[1;32m    687\u001b[0m \u001b[0;34m\u001b[0m\u001b[0m\n\u001b[0;32m--> 688\u001b[0;31m         \u001b[0;32mreturn\u001b[0m \u001b[0mself\u001b[0m\u001b[0;34m.\u001b[0m\u001b[0mapply_standard\u001b[0m\u001b[0;34m(\u001b[0m\u001b[0;34m)\u001b[0m\u001b[0;34m\u001b[0m\u001b[0;34m\u001b[0m\u001b[0m\n\u001b[0m\u001b[1;32m    689\u001b[0m \u001b[0;34m\u001b[0m\u001b[0m\n\u001b[1;32m    690\u001b[0m     \u001b[0;32mdef\u001b[0m \u001b[0magg\u001b[0m\u001b[0;34m(\u001b[0m\u001b[0mself\u001b[0m\u001b[0;34m)\u001b[0m\u001b[0;34m:\u001b[0m\u001b[0;34m\u001b[0m\u001b[0;34m\u001b[0m\u001b[0m\n",
      "\u001b[0;32m~/miniconda3/envs/noise-simulation/lib/python3.7/site-packages/pandas/core/apply.py\u001b[0m in \u001b[0;36mapply_standard\u001b[0;34m(self)\u001b[0m\n\u001b[1;32m    810\u001b[0m \u001b[0;34m\u001b[0m\u001b[0m\n\u001b[1;32m    811\u001b[0m     \u001b[0;32mdef\u001b[0m \u001b[0mapply_standard\u001b[0m\u001b[0;34m(\u001b[0m\u001b[0mself\u001b[0m\u001b[0;34m)\u001b[0m\u001b[0;34m:\u001b[0m\u001b[0;34m\u001b[0m\u001b[0;34m\u001b[0m\u001b[0m\n\u001b[0;32m--> 812\u001b[0;31m         \u001b[0mresults\u001b[0m\u001b[0;34m,\u001b[0m \u001b[0mres_index\u001b[0m \u001b[0;34m=\u001b[0m \u001b[0mself\u001b[0m\u001b[0;34m.\u001b[0m\u001b[0mapply_series_generator\u001b[0m\u001b[0;34m(\u001b[0m\u001b[0;34m)\u001b[0m\u001b[0;34m\u001b[0m\u001b[0;34m\u001b[0m\u001b[0m\n\u001b[0m\u001b[1;32m    813\u001b[0m \u001b[0;34m\u001b[0m\u001b[0m\n\u001b[1;32m    814\u001b[0m         \u001b[0;31m# wrap results\u001b[0m\u001b[0;34m\u001b[0m\u001b[0;34m\u001b[0m\u001b[0;34m\u001b[0m\u001b[0m\n",
      "\u001b[0;32m~/miniconda3/envs/noise-simulation/lib/python3.7/site-packages/pandas/core/apply.py\u001b[0m in \u001b[0;36mapply_series_generator\u001b[0;34m(self)\u001b[0m\n\u001b[1;32m    826\u001b[0m             \u001b[0;32mfor\u001b[0m \u001b[0mi\u001b[0m\u001b[0;34m,\u001b[0m \u001b[0mv\u001b[0m \u001b[0;32min\u001b[0m \u001b[0menumerate\u001b[0m\u001b[0;34m(\u001b[0m\u001b[0mseries_gen\u001b[0m\u001b[0;34m)\u001b[0m\u001b[0;34m:\u001b[0m\u001b[0;34m\u001b[0m\u001b[0;34m\u001b[0m\u001b[0m\n\u001b[1;32m    827\u001b[0m                 \u001b[0;31m# ignore SettingWithCopy here in case the user mutates\u001b[0m\u001b[0;34m\u001b[0m\u001b[0;34m\u001b[0m\u001b[0;34m\u001b[0m\u001b[0m\n\u001b[0;32m--> 828\u001b[0;31m                 \u001b[0mresults\u001b[0m\u001b[0;34m[\u001b[0m\u001b[0mi\u001b[0m\u001b[0;34m]\u001b[0m \u001b[0;34m=\u001b[0m \u001b[0mself\u001b[0m\u001b[0;34m.\u001b[0m\u001b[0mf\u001b[0m\u001b[0;34m(\u001b[0m\u001b[0mv\u001b[0m\u001b[0;34m)\u001b[0m\u001b[0;34m\u001b[0m\u001b[0;34m\u001b[0m\u001b[0m\n\u001b[0m\u001b[1;32m    829\u001b[0m                 \u001b[0;32mif\u001b[0m \u001b[0misinstance\u001b[0m\u001b[0;34m(\u001b[0m\u001b[0mresults\u001b[0m\u001b[0;34m[\u001b[0m\u001b[0mi\u001b[0m\u001b[0;34m]\u001b[0m\u001b[0;34m,\u001b[0m \u001b[0mABCSeries\u001b[0m\u001b[0;34m)\u001b[0m\u001b[0;34m:\u001b[0m\u001b[0;34m\u001b[0m\u001b[0;34m\u001b[0m\u001b[0m\n\u001b[1;32m    830\u001b[0m                     \u001b[0;31m# If we have a view on v, we need to make a copy because\u001b[0m\u001b[0;34m\u001b[0m\u001b[0;34m\u001b[0m\u001b[0;34m\u001b[0m\u001b[0m\n",
      "\u001b[0;32m~/miniconda3/envs/noise-simulation/lib/python3.7/site-packages/h3pandas/h3pandas.py\u001b[0m in \u001b[0;36mfunc\u001b[0;34m(row)\u001b[0m\n\u001b[1;32m    393\u001b[0m \u001b[0;34m\u001b[0m\u001b[0m\n\u001b[1;32m    394\u001b[0m         \u001b[0;32mdef\u001b[0m \u001b[0mfunc\u001b[0m\u001b[0;34m(\u001b[0m\u001b[0mrow\u001b[0m\u001b[0;34m)\u001b[0m\u001b[0;34m:\u001b[0m\u001b[0;34m\u001b[0m\u001b[0;34m\u001b[0m\u001b[0m\n\u001b[0;32m--> 395\u001b[0;31m             \u001b[0;32mreturn\u001b[0m \u001b[0mlist\u001b[0m\u001b[0;34m(\u001b[0m\u001b[0mpolyfill\u001b[0m\u001b[0;34m(\u001b[0m\u001b[0mrow\u001b[0m\u001b[0;34m.\u001b[0m\u001b[0mgeometry\u001b[0m\u001b[0;34m,\u001b[0m \u001b[0mresolution\u001b[0m\u001b[0;34m,\u001b[0m \u001b[0;32mTrue\u001b[0m\u001b[0;34m)\u001b[0m\u001b[0;34m)\u001b[0m\u001b[0;34m\u001b[0m\u001b[0;34m\u001b[0m\u001b[0m\n\u001b[0m\u001b[1;32m    396\u001b[0m \u001b[0;34m\u001b[0m\u001b[0m\n\u001b[1;32m    397\u001b[0m         \u001b[0mresult\u001b[0m \u001b[0;34m=\u001b[0m \u001b[0mself\u001b[0m\u001b[0;34m.\u001b[0m\u001b[0m_df\u001b[0m\u001b[0;34m.\u001b[0m\u001b[0mapply\u001b[0m\u001b[0;34m(\u001b[0m\u001b[0mfunc\u001b[0m\u001b[0;34m,\u001b[0m \u001b[0maxis\u001b[0m\u001b[0;34m=\u001b[0m\u001b[0;36m1\u001b[0m\u001b[0;34m)\u001b[0m\u001b[0;34m\u001b[0m\u001b[0;34m\u001b[0m\u001b[0m\n",
      "\u001b[0;32m~/miniconda3/envs/noise-simulation/lib/python3.7/site-packages/h3pandas/util/shapely.py\u001b[0m in \u001b[0;36mpolyfill\u001b[0;34m(geometry, resolution, geo_json)\u001b[0m\n\u001b[1;32m     46\u001b[0m         \u001b[0;32mreturn\u001b[0m \u001b[0mset\u001b[0m\u001b[0;34m(\u001b[0m\u001b[0mh3_addresses\u001b[0m\u001b[0;34m)\u001b[0m\u001b[0;34m\u001b[0m\u001b[0;34m\u001b[0m\u001b[0m\n\u001b[1;32m     47\u001b[0m     \u001b[0;32melse\u001b[0m\u001b[0;34m:\u001b[0m\u001b[0;34m\u001b[0m\u001b[0;34m\u001b[0m\u001b[0m\n\u001b[0;32m---> 48\u001b[0;31m         \u001b[0;32mraise\u001b[0m \u001b[0mTypeError\u001b[0m\u001b[0;34m(\u001b[0m\u001b[0;34mf\"Unknown type {type(geometry)}\"\u001b[0m\u001b[0;34m)\u001b[0m\u001b[0;34m\u001b[0m\u001b[0;34m\u001b[0m\u001b[0m\n\u001b[0m",
      "\u001b[0;31mTypeError\u001b[0m: Unknown type <class 'shapely.geometry.point.Point'>"
     ]
    }
   ],
   "source": [
    "##Here i am creating a point (out of test reasons, actually it would be all points in the geodataframe) \n",
    "## in crs 3764 that uses meters as the measurement metric, buffer that point for 10 meter in its radius and \n",
    "## change that polygon into the h3 grid system\n",
    "## -->why ?? for counting the overlaps of circles in the oldenburg region\n",
    "#POINT(8.14502 53.05857)\n",
    "\n",
    "\n",
    "point = Point(1087093,1613391)\n",
    "circle_by_poitn_df = geopd.GeoDataFrame(geometry=[point], crs=3763)\n",
    "#circle_by_poitn_df['geometry'] = circle_by_poitn_df['geometry'][0].buffer(10,0)\n",
    "\n",
    "circle_by_poitn_df = circle_by_poitn_df.to_crs(4326)\n",
    "circle_by_poitn_df_h3 = circle_by_poitn_df.h3.polyfill(7)\n",
    "#circle_by_poitn_df_h3.crs\n",
    "circle_by_poitn_df_h3"
   ]
  },
  {
   "cell_type": "code",
   "execution_count": 103,
   "id": "d5dbce68",
   "metadata": {},
   "outputs": [
    {
     "data": {
      "text/html": [
       "<div>\n",
       "<style scoped>\n",
       "    .dataframe tbody tr th:only-of-type {\n",
       "        vertical-align: middle;\n",
       "    }\n",
       "\n",
       "    .dataframe tbody tr th {\n",
       "        vertical-align: top;\n",
       "    }\n",
       "\n",
       "    .dataframe thead th {\n",
       "        text-align: right;\n",
       "    }\n",
       "</style>\n",
       "<table border=\"1\" class=\"dataframe\">\n",
       "  <thead>\n",
       "    <tr style=\"text-align: right;\">\n",
       "      <th></th>\n",
       "      <th>geometry</th>\n",
       "      <th>h3_polyfill</th>\n",
       "    </tr>\n",
       "  </thead>\n",
       "  <tbody>\n",
       "    <tr>\n",
       "      <th>0</th>\n",
       "      <td>POLYGON ((18.60835 52.93122, 18.41620 50.98032...</td>\n",
       "      <td>831962fffffffff</td>\n",
       "    </tr>\n",
       "    <tr>\n",
       "      <th>0</th>\n",
       "      <td>POLYGON ((18.60835 52.93122, 18.41620 50.98032...</td>\n",
       "      <td>830988fffffffff</td>\n",
       "    </tr>\n",
       "    <tr>\n",
       "      <th>0</th>\n",
       "      <td>POLYGON ((18.60835 52.93122, 18.41620 50.98032...</td>\n",
       "      <td>83194efffffffff</td>\n",
       "    </tr>\n",
       "    <tr>\n",
       "      <th>0</th>\n",
       "      <td>POLYGON ((18.60835 52.93122, 18.41620 50.98032...</td>\n",
       "      <td>83098afffffffff</td>\n",
       "    </tr>\n",
       "    <tr>\n",
       "      <th>0</th>\n",
       "      <td>POLYGON ((18.60835 52.93122, 18.41620 50.98032...</td>\n",
       "      <td>831facfffffffff</td>\n",
       "    </tr>\n",
       "    <tr>\n",
       "      <th>...</th>\n",
       "      <td>...</td>\n",
       "      <td>...</td>\n",
       "    </tr>\n",
       "    <tr>\n",
       "      <th>0</th>\n",
       "      <td>POLYGON ((18.60835 52.93122, 18.41620 50.98032...</td>\n",
       "      <td>8309b6fffffffff</td>\n",
       "    </tr>\n",
       "    <tr>\n",
       "      <th>0</th>\n",
       "      <td>POLYGON ((18.60835 52.93122, 18.41620 50.98032...</td>\n",
       "      <td>831fa6fffffffff</td>\n",
       "    </tr>\n",
       "    <tr>\n",
       "      <th>0</th>\n",
       "      <td>POLYGON ((18.60835 52.93122, 18.41620 50.98032...</td>\n",
       "      <td>830983fffffffff</td>\n",
       "    </tr>\n",
       "    <tr>\n",
       "      <th>0</th>\n",
       "      <td>POLYGON ((18.60835 52.93122, 18.41620 50.98032...</td>\n",
       "      <td>831fb1fffffffff</td>\n",
       "    </tr>\n",
       "    <tr>\n",
       "      <th>0</th>\n",
       "      <td>POLYGON ((18.60835 52.93122, 18.41620 50.98032...</td>\n",
       "      <td>83186dfffffffff</td>\n",
       "    </tr>\n",
       "  </tbody>\n",
       "</table>\n",
       "<p>214 rows × 2 columns</p>\n",
       "</div>"
      ],
      "text/plain": [
       "                                             geometry      h3_polyfill\n",
       "0   POLYGON ((18.60835 52.93122, 18.41620 50.98032...  831962fffffffff\n",
       "0   POLYGON ((18.60835 52.93122, 18.41620 50.98032...  830988fffffffff\n",
       "0   POLYGON ((18.60835 52.93122, 18.41620 50.98032...  83194efffffffff\n",
       "0   POLYGON ((18.60835 52.93122, 18.41620 50.98032...  83098afffffffff\n",
       "0   POLYGON ((18.60835 52.93122, 18.41620 50.98032...  831facfffffffff\n",
       "..                                                ...              ...\n",
       "0   POLYGON ((18.60835 52.93122, 18.41620 50.98032...  8309b6fffffffff\n",
       "0   POLYGON ((18.60835 52.93122, 18.41620 50.98032...  831fa6fffffffff\n",
       "0   POLYGON ((18.60835 52.93122, 18.41620 50.98032...  830983fffffffff\n",
       "0   POLYGON ((18.60835 52.93122, 18.41620 50.98032...  831fb1fffffffff\n",
       "0   POLYGON ((18.60835 52.93122, 18.41620 50.98032...  83186dfffffffff\n",
       "\n",
       "[214 rows x 2 columns]"
      ]
     },
     "execution_count": 103,
     "metadata": {},
     "output_type": "execute_result"
    }
   ],
   "source": [
    "point = Point(8.60835,52.93122)\n",
    "circle_by_poitn = point.buffer(10, 0)\n",
    "circle_by_poitn_df = geopd.GeoDataFrame(geometry=[circle_by_poitn], crs=4326)\n",
    "circle_by_poitn_df_h3 = circle_by_poitn_df.h3.polyfill(3, explode=True)\n",
    "circle_by_poitn_df_h3"
   ]
  },
  {
   "cell_type": "code",
   "execution_count": null,
   "id": "4c1a9565",
   "metadata": {},
   "outputs": [],
   "source": [
    "#qeqweq = geopd.GeoDataFrame(geometry=[gdf['geometry'].iloc[0]], crs=3763)\n",
    "#qqqq = qeqweq.to_crs(4326)\n",
    "#qqqq.geometry\n",
    "#qqqq.h3.polyfill_resample(7)\n"
   ]
  },
  {
   "cell_type": "code",
   "execution_count": null,
   "id": "1406a552",
   "metadata": {},
   "outputs": [],
   "source": [
    "#qwe = test.set_geometry('noise_pollution_area')\n",
    "#qwe = qwe.to_crs(4326)\n",
    "#qwe= qwe.rename(columns={\"noise_pollution_area\": \"geometry\"})\n",
    "#qwe"
   ]
  },
  {
   "cell_type": "code",
   "execution_count": null,
   "id": "a6f3906a",
   "metadata": {},
   "outputs": [],
   "source": [
    "test = geopd.GeoDataFrame([geo_oldenburg.iloc[0]], crs=4326)\n",
    "#test = test.append(geo_oldenburg.iloc[0])\n",
    "test = test.set_geometry('movement_area')\n",
    "\n",
    "test = test.drop(columns=['geometry', 'noise_pollution_area'])\n",
    "test = test.rename(columns={'movement_area':'geometry'})\n",
    "test.h3.polyfill(8)"
   ]
  },
  {
   "cell_type": "code",
   "execution_count": null,
   "id": "0c27c226",
   "metadata": {
    "scrolled": true
   },
   "outputs": [],
   "source": [
    "#box2 = geopd.GeoDataFrame(geometry=[box(adsa.bounds[0], adsa.bounds[1], adsa.bounds[2], adsa.bounds[3])])\n",
    "#gdf = geopd.GeoDataFrame(geometry=[test['noise_pollution_area'][0]],crs=3763)\n",
    "#qweqw = gdf.to_crs(4326)\n",
    "#qweqw.h3.polyfill(9)\n",
    "\n"
   ]
  },
  {
   "cell_type": "code",
   "execution_count": null,
   "id": "e3a1f6b7",
   "metadata": {},
   "outputs": [],
   "source": [
    "#gdf = geopd.GeoDataFrame(geometry=[test['noise_pollution_area'][0]],crs=3763)\n",
    "#qqqq = qeqweq.to_crs(4326)\n",
    "#qq = qqqq.h3.polyfill_resample(8)\n",
    "#qq.plot()"
   ]
  },
  {
   "cell_type": "code",
   "execution_count": null,
   "id": "07065ffc",
   "metadata": {},
   "outputs": [],
   "source": [
    "#noise_level= oldenburdf['geometry'].apply(lambda x: x.buffer(100, cap_style=1))\n",
    "#tas = geopd.GeoDataFrame(noise_level, crs=3763)\n",
    "#wq = test.to_wkt()\n",
    "#test['wkt'] = pd.Series(map(lambda geom: str(test.to_wkt()), test['geometry']),index=test.index, dtype='string')\n",
    "#wq['wkt']\n",
    "#asd = tas.dissolve()\n",
    "#asd['geometry'].values[0]\n",
    "#tas.plot(color='green', figsize=(10, 10), markersize=5)\n",
    "#affected_area_by_people\n",
    "#er = oldenburdf['geometry']\n",
    "#er.apply(lambda x: print(x))"
   ]
  },
  {
   "cell_type": "markdown",
   "id": "5cd1754f",
   "metadata": {},
   "source": [
    "## simulation of people moving in a ploygon\n",
    "while len(spawned_people_geodf['history'][0]) < 1000:    \n",
    "    spawned_people_geodf= spawned_people_geodf.apply(simulateMovement, axis=1)\n",
    "    #df = pd.DataFrame(spawned_people_geodf['history'][0]).set_index('t')\n",
    "    gdf = geopd.GeoDataFrame(spawned_people_geodf, crs=CRS(3763))\n",
    "    \n",
    "    gdf.plot(color='green',markersize=3, figsize=(10, 10))\n",
    "    #agentsdf = gdf.to_crs(epsg=4326)\n",
    "    #traj = mpd.Trajectory(agentsdf, 1)\n",
    "    #test = traj.hvplot(geo=True, tiles='OSM', line_width=1, frame_width=500, frame_height=500)\n",
    "    display.clear_output(wait=True)\n",
    "    display.display(pl.gcf())\n",
    "    time.sleep(0.01)\n",
    "    print(len(spawned_people_geodf['history'][0]))"
   ]
  },
  {
   "cell_type": "code",
   "execution_count": null,
   "id": "c48481e2",
   "metadata": {},
   "outputs": [],
   "source": [
    "number_of_people = 50\n",
    "number_of_vehicles = 50\n",
    "def beginSim():\n",
    "    #for index, row in gdf.iterrows():\n",
    "    polygon_bounding_box = Polygon([(polygon.bounds.minx.values[0], polygon.bounds.miny.values[0]), (polygon.bounds.maxx.values[0], polygon.bounds.miny.values[0]), (polygon.bounds.maxx.values[0], polygon.bounds.maxy.values[0]), (polygon.bounds.minx.values[0], polygon.bounds.maxy.values[0])])\n",
    "    for x in range(number_of_people):\n",
    "        spawned_point = Point(random.uniform(polygon.bounds.minx.values[0], polygon.bounds.maxx.values[0]), random.uniform(polygon.bounds.miny.values[0], polygon.bounds.maxy.values[0]))\n",
    "    moving_agent = [spawned_point,datetime.now(), []]\n",
    "    peopleDictionary.append(Person(random.randint(18,50)))\n"
   ]
  },
  {
   "cell_type": "code",
   "execution_count": null,
   "id": "e2b55bf0",
   "metadata": {},
   "outputs": [],
   "source": [
    "def dB_calculator(array_of_noise):\n",
    "    array_of_noise = [math.pow(10, i/10) for i in array_of_noise]\n",
    "    return 10*math.log10(reduce(lambda x,y: x+y, array_of_noise))\n",
    "    \n"
   ]
  },
  {
   "cell_type": "code",
   "execution_count": null,
   "id": "87e90bb4",
   "metadata": {},
   "outputs": [],
   "source": [
    "## Measuring db noise level  10 log 10 (10^x + 10^x)\n",
    "\n",
    "dB_calculator([100, 100])\n"
   ]
  },
  {
   "cell_type": "code",
   "execution_count": null,
   "id": "16755d1d",
   "metadata": {},
   "outputs": [],
   "source": [
    "import threading\n",
    "import time\n",
    "\n",
    "exitFlag = 0\n",
    "\n",
    "class myThread (threading.Thread):\n",
    "    def __init__(self, threadID, name, counter):\n",
    "        threading.Thread.__init__(self)\n",
    "        self.threadID = threadID\n",
    "        self.name = name\n",
    "        self.counter = counter\n",
    "    def run(self):\n",
    "        print(\"Starting \" + self.name)\n",
    "        print_time(self.name, 100, self.counter)\n",
    "        print(\"Exiting \" + self.name)\n",
    "\n",
    "def print_time(threadName, counter, delay):\n",
    "    while counter:\n",
    "        if exitFlag:\n",
    "            threadName.exit()\n",
    "        time.sleep(delay)\n",
    "        print(\"%s: %s\" % (threadName, time.ctime(time.time())))\n",
    "        counter -= 1\n",
    "\n",
    "# Create new threads\n",
    "thread1 = myThread(1, \"Thread-1\", 1)\n",
    "thread2 = myThread(2, \"Thread-2\", 2)\n",
    "\n",
    "# Start new Threads\n",
    "thread1.start()\n",
    "thread2.start()\n"
   ]
  },
  {
   "cell_type": "code",
   "execution_count": 461,
   "id": "0e56dcd2",
   "metadata": {},
   "outputs": [],
   "source": [
    "import os\n",
    "from pyspark.sql import SparkSession\n",
    "from pyspark.streaming import StreamingContext\n",
    "import io\n",
    "from pyspark.sql.functions import *"
   ]
  },
  {
   "cell_type": "code",
   "execution_count": 474,
   "id": "6d51ebe7",
   "metadata": {},
   "outputs": [],
   "source": [
    "import os\n",
    "os.environ['PYSPARK_SUBMIT_ARGS'] = '--packages org.apache.spark:spark-sql-kafka-0-10_2.12:3.0.1,org.apache.spark:spark-streaming-kafka-0-10_2.11:2.4.5,org.apache.kafka:kafka-clients:2.6.0 pyspark-shell'\n"
   ]
  },
  {
   "cell_type": "code",
   "execution_count": null,
   "id": "5835392c",
   "metadata": {},
   "outputs": [],
   "source": [
    "dfSpark = spark.createDataFrame(spawned_people_geodf)"
   ]
  },
  {
   "cell_type": "code",
   "execution_count": null,
   "id": "98787228",
   "metadata": {},
   "outputs": [],
   "source": []
  }
 ],
 "metadata": {
  "celltoolbar": "Tags",
  "kernelspec": {
   "display_name": "Python 3 (ipykernel)",
   "language": "python",
   "name": "python3"
  },
  "language_info": {
   "codemirror_mode": {
    "name": "ipython",
    "version": 3
   },
   "file_extension": ".py",
   "mimetype": "text/x-python",
   "name": "python",
   "nbconvert_exporter": "python",
   "pygments_lexer": "ipython3",
   "version": "3.9.10"
  }
 },
 "nbformat": 4,
 "nbformat_minor": 5
}
